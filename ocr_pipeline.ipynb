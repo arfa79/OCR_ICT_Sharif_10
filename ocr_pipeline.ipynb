{
 "cells": [
  {
   "cell_type": "markdown",
   "id": "ef08a737",
   "metadata": {},
   "source": [
    "# Persian OCR Pipeline\n",
    "\n",
    "This notebook implements an Optical Character Recognition (OCR) pipeline for Persian text, using either a pre-trained model or Tesseract OCR as a fallback."
   ]
  },
  {
   "cell_type": "markdown",
   "id": "42fdba90",
   "metadata": {},
   "source": [
    "## 1. Setup Environment\n",
    "\n",
    "First, let's install and import all required libraries. For Windows users, make sure you have Tesseract installed and the Persian language data file (`fas.traineddata`) placed in the tessdata directory."
   ]
  },
  {
   "cell_type": "code",
   "execution_count": null,
   "id": "82ea96d4",
   "metadata": {},
   "outputs": [],
   "source": [
    "# Install all required packages\n",
    "!pip install easyocr torch torchvision torchaudio opencv-python pillow pandas pytesseract"
   ]
  },
  {
   "cell_type": "code",
   "execution_count": 1,
   "id": "da842e6d",
   "metadata": {},
   "outputs": [
    {
     "name": "stderr",
     "output_type": "stream",
     "text": [
      "Neither CUDA nor MPS are available - defaulting to CPU. Note: This module is much faster with a GPU.\n",
      "Downloading detection model, please wait. This may take several minutes depending upon your network connection.\n"
     ]
    },
    {
     "name": "stdout",
     "output_type": "stream",
     "text": [
      "Progress: |██████████████████████████████████████████████████| 100.0% Complete"
     ]
    },
    {
     "name": "stderr",
     "output_type": "stream",
     "text": [
      "Downloading recognition model, please wait. This may take several minutes depending upon your network connection.\n"
     ]
    },
    {
     "name": "stdout",
     "output_type": "stream",
     "text": [
      "Progress: |██████████████████████████████████████████████████| 100.0% Complete"
     ]
    }
   ],
   "source": [
    "# Import all required libraries\n",
    "import os\n",
    "import cv2\n",
    "import time\n",
    "import numpy as np\n",
    "from PIL import Image\n",
    "from difflib import SequenceMatcher\n",
    "\n",
    "# Deep learning imports\n",
    "import torch\n",
    "import torch.nn as nn\n",
    "from torch.utils.data import Dataset, DataLoader\n",
    "from torchvision import transforms\n",
    "\n",
    "# OCR imports\n",
    "import easyocr\n",
    "import pytesseract\n",
    "\n",
    "# Initialize EasyOCR with Persian language support\n",
    "reader = easyocr.Reader(['fa'])\n",
    "\n",
    "# For Windows users: Uncomment and modify the line below with your Tesseract installation path\n",
    "# pytesseract.pytesseract.tesseract_cmd = r'C:\\Program Files\\Tesseract-OCR\\tesseract.exe'"
   ]
  },
  {
   "cell_type": "markdown",
   "id": "86f60020",
   "metadata": {},
   "source": [
    "### Pre-trained Model Setup\n",
    "\n",
    "For this project, you have several options for the pre-trained model:\n",
    "\n",
    "1. Use EasyOCR's pre-trained Persian model (recommended for getting started)\n",
    "2. Use a custom PyTorch model trained specifically for Persian text\n",
    "3. Fine-tune an existing model on your specific data\n",
    "\n",
    "Let's set up EasyOCR first as it provides good out-of-the-box performance for Persian text:"
   ]
  },
  {
   "cell_type": "code",
   "execution_count": 6,
   "id": "aeb19ab3",
   "metadata": {},
   "outputs": [
    {
     "name": "stderr",
     "output_type": "stream",
     "text": [
      "Neither CUDA nor MPS are available - defaulting to CPU. Note: This module is much faster with a GPU.\n"
     ]
    },
    {
     "name": "stdout",
     "output_type": "stream",
     "text": [
      "Saving EasyOCR model...\n",
      "Model saved to model/persian_ocr.pth\n",
      "Model saved successfully!\n",
      "\n",
      "Testing model access:\n",
      "Detector architecture: CRAFT(\n",
      "  (basenet): vgg16_bn(\n",
      "    (slice1): Sequential(\n",
      "      (0): Conv2d(3, 64, kernel_size=(3, 3), stride=(1, 1), padding=(1, 1))\n",
      "      (1): BatchNorm2d(64, eps=1e-05, momentum=0.1, affine=True, track_running_stats=True)\n",
      "      (2): ReLU(inplace=True)\n",
      "      (3): Conv2d(64, 64, kernel_size=(3, 3), stride=(1, 1), padding=(1, 1))\n",
      "      (4): BatchNorm2d(64, eps=1e-05, momentum=0.1, affine=True, track_running_stats=True)\n",
      "      (5): ReLU(inplace=True)\n",
      "      (6): MaxPool2d(kernel_size=2, stride=2, padding=0, dilation=1, ceil_mode=False)\n",
      "      (7): Conv2d(64, 128, kernel_size=(3, 3), stride=(1, 1), padding=(1, 1))\n",
      "      (8): BatchNorm2d(128, eps=1e-05, momentum=0.1, affine=True, track_running_stats=True)\n",
      "      (9): ReLU(inplace=True)\n",
      "      (10): Conv2d(128, 128, kernel_size=(3, 3), stride=(1, 1), padding=(1, 1))\n",
      "      (11): BatchNorm2d(128, eps=1e-05, momentum=0.1, affine=True, track_running_stats=True)\n",
      "    )\n",
      "    (slice2): Sequential(\n",
      "      (12): ReLU(inplace=True)\n",
      "      (13): MaxPool2d(kernel_size=2, stride=2, padding=0, dilation=1, ceil_mode=False)\n",
      "      (14): Conv2d(128, 256, kernel_size=(3, 3), stride=(1, 1), padding=(1, 1))\n",
      "      (15): BatchNorm2d(256, eps=1e-05, momentum=0.1, affine=True, track_running_stats=True)\n",
      "      (16): ReLU(inplace=True)\n",
      "      (17): Conv2d(256, 256, kernel_size=(3, 3), stride=(1, 1), padding=(1, 1))\n",
      "      (18): BatchNorm2d(256, eps=1e-05, momentum=0.1, affine=True, track_running_stats=True)\n",
      "    )\n",
      "    (slice3): Sequential(\n",
      "      (19): ReLU(inplace=True)\n",
      "      (20): Conv2d(256, 256, kernel_size=(3, 3), stride=(1, 1), padding=(1, 1))\n",
      "      (21): BatchNorm2d(256, eps=1e-05, momentum=0.1, affine=True, track_running_stats=True)\n",
      "      (22): ReLU(inplace=True)\n",
      "      (23): MaxPool2d(kernel_size=2, stride=2, padding=0, dilation=1, ceil_mode=False)\n",
      "      (24): Conv2d(256, 512, kernel_size=(3, 3), stride=(1, 1), padding=(1, 1))\n",
      "      (25): BatchNorm2d(512, eps=1e-05, momentum=0.1, affine=True, track_running_stats=True)\n",
      "      (26): ReLU(inplace=True)\n",
      "      (27): Conv2d(512, 512, kernel_size=(3, 3), stride=(1, 1), padding=(1, 1))\n",
      "      (28): BatchNorm2d(512, eps=1e-05, momentum=0.1, affine=True, track_running_stats=True)\n",
      "    )\n",
      "    (slice4): Sequential(\n",
      "      (29): ReLU(inplace=True)\n",
      "      (30): Conv2d(512, 512, kernel_size=(3, 3), stride=(1, 1), padding=(1, 1))\n",
      "      (31): BatchNorm2d(512, eps=1e-05, momentum=0.1, affine=True, track_running_stats=True)\n",
      "      (32): ReLU(inplace=True)\n",
      "      (33): MaxPool2d(kernel_size=2, stride=2, padding=0, dilation=1, ceil_mode=False)\n",
      "      (34): Conv2d(512, 512, kernel_size=(3, 3), stride=(1, 1), padding=(1, 1))\n",
      "      (35): BatchNorm2d(512, eps=1e-05, momentum=0.1, affine=True, track_running_stats=True)\n",
      "      (36): ReLU(inplace=True)\n",
      "      (37): Conv2d(512, 512, kernel_size=(3, 3), stride=(1, 1), padding=(1, 1))\n",
      "      (38): BatchNorm2d(512, eps=1e-05, momentum=0.1, affine=True, track_running_stats=True)\n",
      "    )\n",
      "    (slice5): Sequential(\n",
      "      (0): MaxPool2d(kernel_size=3, stride=1, padding=1, dilation=1, ceil_mode=False)\n",
      "      (1): Conv2d(512, 1024, kernel_size=(3, 3), stride=(1, 1), padding=(6, 6), dilation=(6, 6))\n",
      "      (2): Conv2d(1024, 1024, kernel_size=(1, 1), stride=(1, 1))\n",
      "    )\n",
      "  )\n",
      "  (upconv1): double_conv(\n",
      "    (conv): Sequential(\n",
      "      (0): Conv2d(1536, 512, kernel_size=(1, 1), stride=(1, 1))\n",
      "      (1): BatchNorm2d(512, eps=1e-05, momentum=0.1, affine=True, track_running_stats=True)\n",
      "      (2): ReLU(inplace=True)\n",
      "      (3): Conv2d(512, 256, kernel_size=(3, 3), stride=(1, 1), padding=(1, 1))\n",
      "      (4): BatchNorm2d(256, eps=1e-05, momentum=0.1, affine=True, track_running_stats=True)\n",
      "      (5): ReLU(inplace=True)\n",
      "    )\n",
      "  )\n",
      "  (upconv2): double_conv(\n",
      "    (conv): Sequential(\n",
      "      (0): Conv2d(768, 256, kernel_size=(1, 1), stride=(1, 1))\n",
      "      (1): BatchNorm2d(256, eps=1e-05, momentum=0.1, affine=True, track_running_stats=True)\n",
      "      (2): ReLU(inplace=True)\n",
      "      (3): Conv2d(256, 128, kernel_size=(3, 3), stride=(1, 1), padding=(1, 1))\n",
      "      (4): BatchNorm2d(128, eps=1e-05, momentum=0.1, affine=True, track_running_stats=True)\n",
      "      (5): ReLU(inplace=True)\n",
      "    )\n",
      "  )\n",
      "  (upconv3): double_conv(\n",
      "    (conv): Sequential(\n",
      "      (0): Conv2d(384, 128, kernel_size=(1, 1), stride=(1, 1))\n",
      "      (1): BatchNorm2d(128, eps=1e-05, momentum=0.1, affine=True, track_running_stats=True)\n",
      "      (2): ReLU(inplace=True)\n",
      "      (3): Conv2d(128, 64, kernel_size=(3, 3), stride=(1, 1), padding=(1, 1))\n",
      "      (4): BatchNorm2d(64, eps=1e-05, momentum=0.1, affine=True, track_running_stats=True)\n",
      "      (5): ReLU(inplace=True)\n",
      "    )\n",
      "  )\n",
      "  (upconv4): double_conv(\n",
      "    (conv): Sequential(\n",
      "      (0): Conv2d(192, 64, kernel_size=(1, 1), stride=(1, 1))\n",
      "      (1): BatchNorm2d(64, eps=1e-05, momentum=0.1, affine=True, track_running_stats=True)\n",
      "      (2): ReLU(inplace=True)\n",
      "      (3): Conv2d(64, 32, kernel_size=(3, 3), stride=(1, 1), padding=(1, 1))\n",
      "      (4): BatchNorm2d(32, eps=1e-05, momentum=0.1, affine=True, track_running_stats=True)\n",
      "      (5): ReLU(inplace=True)\n",
      "    )\n",
      "  )\n",
      "  (conv_cls): Sequential(\n",
      "    (0): Conv2d(32, 32, kernel_size=(3, 3), stride=(1, 1), padding=(1, 1))\n",
      "    (1): ReLU(inplace=True)\n",
      "    (2): Conv2d(32, 32, kernel_size=(3, 3), stride=(1, 1), padding=(1, 1))\n",
      "    (3): ReLU(inplace=True)\n",
      "    (4): Conv2d(32, 16, kernel_size=(3, 3), stride=(1, 1), padding=(1, 1))\n",
      "    (5): ReLU(inplace=True)\n",
      "    (6): Conv2d(16, 16, kernel_size=(1, 1), stride=(1, 1))\n",
      "    (7): ReLU(inplace=True)\n",
      "    (8): Conv2d(16, 2, kernel_size=(1, 1), stride=(1, 1))\n",
      "  )\n",
      ")\n",
      "Recognition model: Model(\n",
      "  (FeatureExtraction): ResNet_FeatureExtractor(\n",
      "    (ConvNet): ResNet(\n",
      "      (conv0_1): Conv2d(1, 32, kernel_size=(3, 3), stride=(1, 1), padding=(1, 1), bias=False)\n",
      "      (bn0_1): BatchNorm2d(32, eps=1e-05, momentum=0.1, affine=True, track_running_stats=True)\n",
      "      (conv0_2): Conv2d(32, 64, kernel_size=(3, 3), stride=(1, 1), padding=(1, 1), bias=False)\n",
      "      (bn0_2): BatchNorm2d(64, eps=1e-05, momentum=0.1, affine=True, track_running_stats=True)\n",
      "      (relu): ReLU(inplace=True)\n",
      "      (maxpool1): MaxPool2d(kernel_size=2, stride=2, padding=0, dilation=1, ceil_mode=False)\n",
      "      (layer1): Sequential(\n",
      "        (0): BasicBlock(\n",
      "          (conv1): Conv2d(64, 128, kernel_size=(3, 3), stride=(1, 1), padding=(1, 1), bias=False)\n",
      "          (bn1): BatchNorm2d(128, eps=1e-05, momentum=0.1, affine=True, track_running_stats=True)\n",
      "          (conv2): Conv2d(128, 128, kernel_size=(3, 3), stride=(1, 1), padding=(1, 1), bias=False)\n",
      "          (bn2): BatchNorm2d(128, eps=1e-05, momentum=0.1, affine=True, track_running_stats=True)\n",
      "          (relu): ReLU(inplace=True)\n",
      "          (downsample): Sequential(\n",
      "            (0): Conv2d(64, 128, kernel_size=(1, 1), stride=(1, 1), bias=False)\n",
      "            (1): BatchNorm2d(128, eps=1e-05, momentum=0.1, affine=True, track_running_stats=True)\n",
      "          )\n",
      "        )\n",
      "      )\n",
      "      (conv1): Conv2d(128, 128, kernel_size=(3, 3), stride=(1, 1), padding=(1, 1), bias=False)\n",
      "      (bn1): BatchNorm2d(128, eps=1e-05, momentum=0.1, affine=True, track_running_stats=True)\n",
      "      (maxpool2): MaxPool2d(kernel_size=2, stride=2, padding=0, dilation=1, ceil_mode=False)\n",
      "      (layer2): Sequential(\n",
      "        (0): BasicBlock(\n",
      "          (conv1): Conv2d(128, 256, kernel_size=(3, 3), stride=(1, 1), padding=(1, 1), bias=False)\n",
      "          (bn1): BatchNorm2d(256, eps=1e-05, momentum=0.1, affine=True, track_running_stats=True)\n",
      "          (conv2): Conv2d(256, 256, kernel_size=(3, 3), stride=(1, 1), padding=(1, 1), bias=False)\n",
      "          (bn2): BatchNorm2d(256, eps=1e-05, momentum=0.1, affine=True, track_running_stats=True)\n",
      "          (relu): ReLU(inplace=True)\n",
      "          (downsample): Sequential(\n",
      "            (0): Conv2d(128, 256, kernel_size=(1, 1), stride=(1, 1), bias=False)\n",
      "            (1): BatchNorm2d(256, eps=1e-05, momentum=0.1, affine=True, track_running_stats=True)\n",
      "          )\n",
      "        )\n",
      "        (1): BasicBlock(\n",
      "          (conv1): Conv2d(256, 256, kernel_size=(3, 3), stride=(1, 1), padding=(1, 1), bias=False)\n",
      "          (bn1): BatchNorm2d(256, eps=1e-05, momentum=0.1, affine=True, track_running_stats=True)\n",
      "          (conv2): Conv2d(256, 256, kernel_size=(3, 3), stride=(1, 1), padding=(1, 1), bias=False)\n",
      "          (bn2): BatchNorm2d(256, eps=1e-05, momentum=0.1, affine=True, track_running_stats=True)\n",
      "          (relu): ReLU(inplace=True)\n",
      "        )\n",
      "      )\n",
      "      (conv2): Conv2d(256, 256, kernel_size=(3, 3), stride=(1, 1), padding=(1, 1), bias=False)\n",
      "      (bn2): BatchNorm2d(256, eps=1e-05, momentum=0.1, affine=True, track_running_stats=True)\n",
      "      (maxpool3): MaxPool2d(kernel_size=2, stride=(2, 1), padding=(0, 1), dilation=1, ceil_mode=False)\n",
      "      (layer3): Sequential(\n",
      "        (0): BasicBlock(\n",
      "          (conv1): Conv2d(256, 512, kernel_size=(3, 3), stride=(1, 1), padding=(1, 1), bias=False)\n",
      "          (bn1): BatchNorm2d(512, eps=1e-05, momentum=0.1, affine=True, track_running_stats=True)\n",
      "          (conv2): Conv2d(512, 512, kernel_size=(3, 3), stride=(1, 1), padding=(1, 1), bias=False)\n",
      "          (bn2): BatchNorm2d(512, eps=1e-05, momentum=0.1, affine=True, track_running_stats=True)\n",
      "          (relu): ReLU(inplace=True)\n",
      "          (downsample): Sequential(\n",
      "            (0): Conv2d(256, 512, kernel_size=(1, 1), stride=(1, 1), bias=False)\n",
      "            (1): BatchNorm2d(512, eps=1e-05, momentum=0.1, affine=True, track_running_stats=True)\n",
      "          )\n",
      "        )\n",
      "        (1): BasicBlock(\n",
      "          (conv1): Conv2d(512, 512, kernel_size=(3, 3), stride=(1, 1), padding=(1, 1), bias=False)\n",
      "          (bn1): BatchNorm2d(512, eps=1e-05, momentum=0.1, affine=True, track_running_stats=True)\n",
      "          (conv2): Conv2d(512, 512, kernel_size=(3, 3), stride=(1, 1), padding=(1, 1), bias=False)\n",
      "          (bn2): BatchNorm2d(512, eps=1e-05, momentum=0.1, affine=True, track_running_stats=True)\n",
      "          (relu): ReLU(inplace=True)\n",
      "        )\n",
      "        (2): BasicBlock(\n",
      "          (conv1): Conv2d(512, 512, kernel_size=(3, 3), stride=(1, 1), padding=(1, 1), bias=False)\n",
      "          (bn1): BatchNorm2d(512, eps=1e-05, momentum=0.1, affine=True, track_running_stats=True)\n",
      "          (conv2): Conv2d(512, 512, kernel_size=(3, 3), stride=(1, 1), padding=(1, 1), bias=False)\n",
      "          (bn2): BatchNorm2d(512, eps=1e-05, momentum=0.1, affine=True, track_running_stats=True)\n",
      "          (relu): ReLU(inplace=True)\n",
      "        )\n",
      "        (3): BasicBlock(\n",
      "          (conv1): Conv2d(512, 512, kernel_size=(3, 3), stride=(1, 1), padding=(1, 1), bias=False)\n",
      "          (bn1): BatchNorm2d(512, eps=1e-05, momentum=0.1, affine=True, track_running_stats=True)\n",
      "          (conv2): Conv2d(512, 512, kernel_size=(3, 3), stride=(1, 1), padding=(1, 1), bias=False)\n",
      "          (bn2): BatchNorm2d(512, eps=1e-05, momentum=0.1, affine=True, track_running_stats=True)\n",
      "          (relu): ReLU(inplace=True)\n",
      "        )\n",
      "        (4): BasicBlock(\n",
      "          (conv1): Conv2d(512, 512, kernel_size=(3, 3), stride=(1, 1), padding=(1, 1), bias=False)\n",
      "          (bn1): BatchNorm2d(512, eps=1e-05, momentum=0.1, affine=True, track_running_stats=True)\n",
      "          (conv2): Conv2d(512, 512, kernel_size=(3, 3), stride=(1, 1), padding=(1, 1), bias=False)\n",
      "          (bn2): BatchNorm2d(512, eps=1e-05, momentum=0.1, affine=True, track_running_stats=True)\n",
      "          (relu): ReLU(inplace=True)\n",
      "        )\n",
      "      )\n",
      "      (conv3): Conv2d(512, 512, kernel_size=(3, 3), stride=(1, 1), padding=(1, 1), bias=False)\n",
      "      (bn3): BatchNorm2d(512, eps=1e-05, momentum=0.1, affine=True, track_running_stats=True)\n",
      "      (layer4): Sequential(\n",
      "        (0): BasicBlock(\n",
      "          (conv1): Conv2d(512, 512, kernel_size=(3, 3), stride=(1, 1), padding=(1, 1), bias=False)\n",
      "          (bn1): BatchNorm2d(512, eps=1e-05, momentum=0.1, affine=True, track_running_stats=True)\n",
      "          (conv2): Conv2d(512, 512, kernel_size=(3, 3), stride=(1, 1), padding=(1, 1), bias=False)\n",
      "          (bn2): BatchNorm2d(512, eps=1e-05, momentum=0.1, affine=True, track_running_stats=True)\n",
      "          (relu): ReLU(inplace=True)\n",
      "        )\n",
      "        (1): BasicBlock(\n",
      "          (conv1): Conv2d(512, 512, kernel_size=(3, 3), stride=(1, 1), padding=(1, 1), bias=False)\n",
      "          (bn1): BatchNorm2d(512, eps=1e-05, momentum=0.1, affine=True, track_running_stats=True)\n",
      "          (conv2): Conv2d(512, 512, kernel_size=(3, 3), stride=(1, 1), padding=(1, 1), bias=False)\n",
      "          (bn2): BatchNorm2d(512, eps=1e-05, momentum=0.1, affine=True, track_running_stats=True)\n",
      "          (relu): ReLU(inplace=True)\n",
      "        )\n",
      "        (2): BasicBlock(\n",
      "          (conv1): Conv2d(512, 512, kernel_size=(3, 3), stride=(1, 1), padding=(1, 1), bias=False)\n",
      "          (bn1): BatchNorm2d(512, eps=1e-05, momentum=0.1, affine=True, track_running_stats=True)\n",
      "          (conv2): Conv2d(512, 512, kernel_size=(3, 3), stride=(1, 1), padding=(1, 1), bias=False)\n",
      "          (bn2): BatchNorm2d(512, eps=1e-05, momentum=0.1, affine=True, track_running_stats=True)\n",
      "          (relu): ReLU(inplace=True)\n",
      "        )\n",
      "      )\n",
      "      (conv4_1): Conv2d(512, 512, kernel_size=(2, 2), stride=(2, 1), padding=(0, 1), bias=False)\n",
      "      (bn4_1): BatchNorm2d(512, eps=1e-05, momentum=0.1, affine=True, track_running_stats=True)\n",
      "      (conv4_2): Conv2d(512, 512, kernel_size=(2, 2), stride=(1, 1), bias=False)\n",
      "      (bn4_2): BatchNorm2d(512, eps=1e-05, momentum=0.1, affine=True, track_running_stats=True)\n",
      "    )\n",
      "  )\n",
      "  (AdaptiveAvgPool): AdaptiveAvgPool2d(output_size=(None, 1))\n",
      "  (SequenceModeling): Sequential(\n",
      "    (0): BidirectionalLSTM(\n",
      "      (rnn): DynamicQuantizedLSTM(512, 512, batch_first=True, bidirectional=True)\n",
      "      (linear): DynamicQuantizedLinear(in_features=1024, out_features=512, dtype=torch.qint8, qscheme=torch.per_tensor_affine)\n",
      "    )\n",
      "    (1): BidirectionalLSTM(\n",
      "      (rnn): DynamicQuantizedLSTM(512, 512, batch_first=True, bidirectional=True)\n",
      "      (linear): DynamicQuantizedLinear(in_features=1024, out_features=512, dtype=torch.qint8, qscheme=torch.per_tensor_affine)\n",
      "    )\n",
      "  )\n",
      "  (Prediction): DynamicQuantizedLinear(in_features=512, out_features=185, dtype=torch.qint8, qscheme=torch.per_tensor_affine)\n",
      ")\n"
     ]
    },
    {
     "name": "stderr",
     "output_type": "stream",
     "text": [
      "d:\\arfa\\code\\ocr\\venv\\Lib\\site-packages\\torch\\utils\\data\\dataloader.py:665: UserWarning: 'pin_memory' argument is set as true but no accelerator is found, then device pinned memory won't be used.\n",
      "  warnings.warn(warn_msg)\n"
     ]
    },
    {
     "name": "stdout",
     "output_type": "stream",
     "text": [
      "\n",
      "Testing OCR on first image: 03015057820506540105001.jpg\n",
      "Results:\n",
      "Text: |-(\n",
      "Confidence: 0.39\n",
      "Text: ٣٠\n",
      "Confidence: 0.64\n",
      "Text: ٥( ٧\n",
      "Confidence: 0.22\n",
      "Text: الم (\n",
      "Confidence: 0.32\n"
     ]
    }
   ],
   "source": [
    "# Install easyocr\n",
    "#!pip install easyocr\n",
    "\n",
    "# Initialize EasyOCR and set up model saving\n",
    "import easyocr\n",
    "import os\n",
    "import torch\n",
    "\n",
    "# Initialize the reader with Persian language\n",
    "reader = easyocr.Reader(['fa'])\n",
    "\n",
    "# Save the model to our model directory\n",
    "model_path = 'model/persian_ocr.pth'\n",
    "os.makedirs('model', exist_ok=True)\n",
    "\n",
    "def save_easyocr_model():\n",
    "    \"\"\"Save the EasyOCR detection model.\"\"\"\n",
    "    try:\n",
    "        # Get the detection model (this is what we want to save)\n",
    "        detector = reader.detector\n",
    "        \n",
    "        # Save just the model state dictionary\n",
    "        torch.save({\n",
    "            'detector_state': detector.state_dict(),\n",
    "            'language': 'fa'\n",
    "        }, model_path)\n",
    "        \n",
    "        print(f\"Model saved to {model_path}\")\n",
    "        return detector\n",
    "    except Exception as e:\n",
    "        print(f\"Error saving model: {str(e)}\")\n",
    "        return None\n",
    "\n",
    "# Save the model if it doesn't exist\n",
    "if not os.path.exists(model_path):\n",
    "    print(\"Saving EasyOCR model...\")\n",
    "    model = save_easyocr_model()\n",
    "    if model is not None:\n",
    "        print(\"Model saved successfully!\")\n",
    "    else:\n",
    "        print(\"Failed to save model\")\n",
    "else:\n",
    "    print(f\"Model already exists at {model_path}\")\n",
    "    \n",
    "# Test that the model works\n",
    "print(\"\\nTesting model access:\")\n",
    "print(f\"Detector architecture: {reader.detector}\")\n",
    "print(f\"Recognition model: {reader.recognizer}\")\n",
    "\n",
    "# Test OCR on a sample image\n",
    "test_image = os.path.join('handwritten_data', os.listdir('handwritten_data')[0])\n",
    "result = reader.readtext(test_image)\n",
    "print(f\"\\nTesting OCR on first image: {os.path.basename(test_image)}\")\n",
    "print(\"Results:\")\n",
    "for bbox, text, conf in result:\n",
    "    print(f\"Text: {text}\")\n",
    "    print(f\"Confidence: {conf:.2f}\")"
   ]
  },
  {
   "cell_type": "code",
   "execution_count": 8,
   "id": "bcd501ac",
   "metadata": {},
   "outputs": [
    {
     "name": "stdout",
     "output_type": "stream",
     "text": [
      "Detector Model Architecture:\n",
      "CRAFT(\n",
      "  (basenet): vgg16_bn(\n",
      "    (slice1): Sequential(\n",
      "      (0): Conv2d(3, 64, kernel_size=(3, 3), stride=(1, 1), padding=(1, 1))\n",
      "      (1): BatchNorm2d(64, eps=1e-05, momentum=0.1, affine=True, track_running_stats=True)\n",
      "      (2): ReLU(inplace=True)\n",
      "      (3): Conv2d(64, 64, kernel_size=(3, 3), stride=(1, 1), padding=(1, 1))\n",
      "      (4): BatchNorm2d(64, eps=1e-05, momentum=0.1, affine=True, track_running_stats=True)\n",
      "      (5): ReLU(inplace=True)\n",
      "      (6): MaxPool2d(kernel_size=2, stride=2, padding=0, dilation=1, ceil_mode=False)\n",
      "      (7): Conv2d(64, 128, kernel_size=(3, 3), stride=(1, 1), padding=(1, 1))\n",
      "      (8): BatchNorm2d(128, eps=1e-05, momentum=0.1, affine=True, track_running_stats=True)\n",
      "      (9): ReLU(inplace=True)\n",
      "      (10): Conv2d(128, 128, kernel_size=(3, 3), stride=(1, 1), padding=(1, 1))\n",
      "      (11): BatchNorm2d(128, eps=1e-05, momentum=0.1, affine=True, track_running_stats=True)\n",
      "    )\n",
      "    (slice2): Sequential(\n",
      "      (12): ReLU(inplace=True)\n",
      "      (13): MaxPool2d(kernel_size=2, stride=2, padding=0, dilation=1, ceil_mode=False)\n",
      "      (14): Conv2d(128, 256, kernel_size=(3, 3), stride=(1, 1), padding=(1, 1))\n",
      "      (15): BatchNorm2d(256, eps=1e-05, momentum=0.1, affine=True, track_running_stats=True)\n",
      "      (16): ReLU(inplace=True)\n",
      "      (17): Conv2d(256, 256, kernel_size=(3, 3), stride=(1, 1), padding=(1, 1))\n",
      "      (18): BatchNorm2d(256, eps=1e-05, momentum=0.1, affine=True, track_running_stats=True)\n",
      "    )\n",
      "    (slice3): Sequential(\n",
      "      (19): ReLU(inplace=True)\n",
      "      (20): Conv2d(256, 256, kernel_size=(3, 3), stride=(1, 1), padding=(1, 1))\n",
      "      (21): BatchNorm2d(256, eps=1e-05, momentum=0.1, affine=True, track_running_stats=True)\n",
      "      (22): ReLU(inplace=True)\n",
      "      (23): MaxPool2d(kernel_size=2, stride=2, padding=0, dilation=1, ceil_mode=False)\n",
      "      (24): Conv2d(256, 512, kernel_size=(3, 3), stride=(1, 1), padding=(1, 1))\n",
      "      (25): BatchNorm2d(512, eps=1e-05, momentum=0.1, affine=True, track_running_stats=True)\n",
      "      (26): ReLU(inplace=True)\n",
      "      (27): Conv2d(512, 512, kernel_size=(3, 3), stride=(1, 1), padding=(1, 1))\n",
      "      (28): BatchNorm2d(512, eps=1e-05, momentum=0.1, affine=True, track_running_stats=True)\n",
      "    )\n",
      "    (slice4): Sequential(\n",
      "      (29): ReLU(inplace=True)\n",
      "      (30): Conv2d(512, 512, kernel_size=(3, 3), stride=(1, 1), padding=(1, 1))\n",
      "      (31): BatchNorm2d(512, eps=1e-05, momentum=0.1, affine=True, track_running_stats=True)\n",
      "      (32): ReLU(inplace=True)\n",
      "      (33): MaxPool2d(kernel_size=2, stride=2, padding=0, dilation=1, ceil_mode=False)\n",
      "      (34): Conv2d(512, 512, kernel_size=(3, 3), stride=(1, 1), padding=(1, 1))\n",
      "      (35): BatchNorm2d(512, eps=1e-05, momentum=0.1, affine=True, track_running_stats=True)\n",
      "      (36): ReLU(inplace=True)\n",
      "      (37): Conv2d(512, 512, kernel_size=(3, 3), stride=(1, 1), padding=(1, 1))\n",
      "      (38): BatchNorm2d(512, eps=1e-05, momentum=0.1, affine=True, track_running_stats=True)\n",
      "    )\n",
      "    (slice5): Sequential(\n",
      "      (0): MaxPool2d(kernel_size=3, stride=1, padding=1, dilation=1, ceil_mode=False)\n",
      "      (1): Conv2d(512, 1024, kernel_size=(3, 3), stride=(1, 1), padding=(6, 6), dilation=(6, 6))\n",
      "      (2): Conv2d(1024, 1024, kernel_size=(1, 1), stride=(1, 1))\n",
      "    )\n",
      "  )\n",
      "  (upconv1): double_conv(\n",
      "    (conv): Sequential(\n",
      "      (0): Conv2d(1536, 512, kernel_size=(1, 1), stride=(1, 1))\n",
      "      (1): BatchNorm2d(512, eps=1e-05, momentum=0.1, affine=True, track_running_stats=True)\n",
      "      (2): ReLU(inplace=True)\n",
      "      (3): Conv2d(512, 256, kernel_size=(3, 3), stride=(1, 1), padding=(1, 1))\n",
      "      (4): BatchNorm2d(256, eps=1e-05, momentum=0.1, affine=True, track_running_stats=True)\n",
      "      (5): ReLU(inplace=True)\n",
      "    )\n",
      "  )\n",
      "  (upconv2): double_conv(\n",
      "    (conv): Sequential(\n",
      "      (0): Conv2d(768, 256, kernel_size=(1, 1), stride=(1, 1))\n",
      "      (1): BatchNorm2d(256, eps=1e-05, momentum=0.1, affine=True, track_running_stats=True)\n",
      "      (2): ReLU(inplace=True)\n",
      "      (3): Conv2d(256, 128, kernel_size=(3, 3), stride=(1, 1), padding=(1, 1))\n",
      "      (4): BatchNorm2d(128, eps=1e-05, momentum=0.1, affine=True, track_running_stats=True)\n",
      "      (5): ReLU(inplace=True)\n",
      "    )\n",
      "  )\n",
      "  (upconv3): double_conv(\n",
      "    (conv): Sequential(\n",
      "      (0): Conv2d(384, 128, kernel_size=(1, 1), stride=(1, 1))\n",
      "      (1): BatchNorm2d(128, eps=1e-05, momentum=0.1, affine=True, track_running_stats=True)\n",
      "      (2): ReLU(inplace=True)\n",
      "      (3): Conv2d(128, 64, kernel_size=(3, 3), stride=(1, 1), padding=(1, 1))\n",
      "      (4): BatchNorm2d(64, eps=1e-05, momentum=0.1, affine=True, track_running_stats=True)\n",
      "      (5): ReLU(inplace=True)\n",
      "    )\n",
      "  )\n",
      "  (upconv4): double_conv(\n",
      "    (conv): Sequential(\n",
      "      (0): Conv2d(192, 64, kernel_size=(1, 1), stride=(1, 1))\n",
      "      (1): BatchNorm2d(64, eps=1e-05, momentum=0.1, affine=True, track_running_stats=True)\n",
      "      (2): ReLU(inplace=True)\n",
      "      (3): Conv2d(64, 32, kernel_size=(3, 3), stride=(1, 1), padding=(1, 1))\n",
      "      (4): BatchNorm2d(32, eps=1e-05, momentum=0.1, affine=True, track_running_stats=True)\n",
      "      (5): ReLU(inplace=True)\n",
      "    )\n",
      "  )\n",
      "  (conv_cls): Sequential(\n",
      "    (0): Conv2d(32, 32, kernel_size=(3, 3), stride=(1, 1), padding=(1, 1))\n",
      "    (1): ReLU(inplace=True)\n",
      "    (2): Conv2d(32, 32, kernel_size=(3, 3), stride=(1, 1), padding=(1, 1))\n",
      "    (3): ReLU(inplace=True)\n",
      "    (4): Conv2d(32, 16, kernel_size=(3, 3), stride=(1, 1), padding=(1, 1))\n",
      "    (5): ReLU(inplace=True)\n",
      "    (6): Conv2d(16, 16, kernel_size=(1, 1), stride=(1, 1))\n",
      "    (7): ReLU(inplace=True)\n",
      "    (8): Conv2d(16, 2, kernel_size=(1, 1), stride=(1, 1))\n",
      "  )\n",
      ")\n",
      "\n",
      "Recognizer Model Architecture:\n",
      "Model(\n",
      "  (FeatureExtraction): ResNet_FeatureExtractor(\n",
      "    (ConvNet): ResNet(\n",
      "      (conv0_1): Conv2d(1, 32, kernel_size=(3, 3), stride=(1, 1), padding=(1, 1), bias=False)\n",
      "      (bn0_1): BatchNorm2d(32, eps=1e-05, momentum=0.1, affine=True, track_running_stats=True)\n",
      "      (conv0_2): Conv2d(32, 64, kernel_size=(3, 3), stride=(1, 1), padding=(1, 1), bias=False)\n",
      "      (bn0_2): BatchNorm2d(64, eps=1e-05, momentum=0.1, affine=True, track_running_stats=True)\n",
      "      (relu): ReLU(inplace=True)\n",
      "      (maxpool1): MaxPool2d(kernel_size=2, stride=2, padding=0, dilation=1, ceil_mode=False)\n",
      "      (layer1): Sequential(\n",
      "        (0): BasicBlock(\n",
      "          (conv1): Conv2d(64, 128, kernel_size=(3, 3), stride=(1, 1), padding=(1, 1), bias=False)\n",
      "          (bn1): BatchNorm2d(128, eps=1e-05, momentum=0.1, affine=True, track_running_stats=True)\n",
      "          (conv2): Conv2d(128, 128, kernel_size=(3, 3), stride=(1, 1), padding=(1, 1), bias=False)\n",
      "          (bn2): BatchNorm2d(128, eps=1e-05, momentum=0.1, affine=True, track_running_stats=True)\n",
      "          (relu): ReLU(inplace=True)\n",
      "          (downsample): Sequential(\n",
      "            (0): Conv2d(64, 128, kernel_size=(1, 1), stride=(1, 1), bias=False)\n",
      "            (1): BatchNorm2d(128, eps=1e-05, momentum=0.1, affine=True, track_running_stats=True)\n",
      "          )\n",
      "        )\n",
      "      )\n",
      "      (conv1): Conv2d(128, 128, kernel_size=(3, 3), stride=(1, 1), padding=(1, 1), bias=False)\n",
      "      (bn1): BatchNorm2d(128, eps=1e-05, momentum=0.1, affine=True, track_running_stats=True)\n",
      "      (maxpool2): MaxPool2d(kernel_size=2, stride=2, padding=0, dilation=1, ceil_mode=False)\n",
      "      (layer2): Sequential(\n",
      "        (0): BasicBlock(\n",
      "          (conv1): Conv2d(128, 256, kernel_size=(3, 3), stride=(1, 1), padding=(1, 1), bias=False)\n",
      "          (bn1): BatchNorm2d(256, eps=1e-05, momentum=0.1, affine=True, track_running_stats=True)\n",
      "          (conv2): Conv2d(256, 256, kernel_size=(3, 3), stride=(1, 1), padding=(1, 1), bias=False)\n",
      "          (bn2): BatchNorm2d(256, eps=1e-05, momentum=0.1, affine=True, track_running_stats=True)\n",
      "          (relu): ReLU(inplace=True)\n",
      "          (downsample): Sequential(\n",
      "            (0): Conv2d(128, 256, kernel_size=(1, 1), stride=(1, 1), bias=False)\n",
      "            (1): BatchNorm2d(256, eps=1e-05, momentum=0.1, affine=True, track_running_stats=True)\n",
      "          )\n",
      "        )\n",
      "        (1): BasicBlock(\n",
      "          (conv1): Conv2d(256, 256, kernel_size=(3, 3), stride=(1, 1), padding=(1, 1), bias=False)\n",
      "          (bn1): BatchNorm2d(256, eps=1e-05, momentum=0.1, affine=True, track_running_stats=True)\n",
      "          (conv2): Conv2d(256, 256, kernel_size=(3, 3), stride=(1, 1), padding=(1, 1), bias=False)\n",
      "          (bn2): BatchNorm2d(256, eps=1e-05, momentum=0.1, affine=True, track_running_stats=True)\n",
      "          (relu): ReLU(inplace=True)\n",
      "        )\n",
      "      )\n",
      "      (conv2): Conv2d(256, 256, kernel_size=(3, 3), stride=(1, 1), padding=(1, 1), bias=False)\n",
      "      (bn2): BatchNorm2d(256, eps=1e-05, momentum=0.1, affine=True, track_running_stats=True)\n",
      "      (maxpool3): MaxPool2d(kernel_size=2, stride=(2, 1), padding=(0, 1), dilation=1, ceil_mode=False)\n",
      "      (layer3): Sequential(\n",
      "        (0): BasicBlock(\n",
      "          (conv1): Conv2d(256, 512, kernel_size=(3, 3), stride=(1, 1), padding=(1, 1), bias=False)\n",
      "          (bn1): BatchNorm2d(512, eps=1e-05, momentum=0.1, affine=True, track_running_stats=True)\n",
      "          (conv2): Conv2d(512, 512, kernel_size=(3, 3), stride=(1, 1), padding=(1, 1), bias=False)\n",
      "          (bn2): BatchNorm2d(512, eps=1e-05, momentum=0.1, affine=True, track_running_stats=True)\n",
      "          (relu): ReLU(inplace=True)\n",
      "          (downsample): Sequential(\n",
      "            (0): Conv2d(256, 512, kernel_size=(1, 1), stride=(1, 1), bias=False)\n",
      "            (1): BatchNorm2d(512, eps=1e-05, momentum=0.1, affine=True, track_running_stats=True)\n",
      "          )\n",
      "        )\n",
      "        (1): BasicBlock(\n",
      "          (conv1): Conv2d(512, 512, kernel_size=(3, 3), stride=(1, 1), padding=(1, 1), bias=False)\n",
      "          (bn1): BatchNorm2d(512, eps=1e-05, momentum=0.1, affine=True, track_running_stats=True)\n",
      "          (conv2): Conv2d(512, 512, kernel_size=(3, 3), stride=(1, 1), padding=(1, 1), bias=False)\n",
      "          (bn2): BatchNorm2d(512, eps=1e-05, momentum=0.1, affine=True, track_running_stats=True)\n",
      "          (relu): ReLU(inplace=True)\n",
      "        )\n",
      "        (2): BasicBlock(\n",
      "          (conv1): Conv2d(512, 512, kernel_size=(3, 3), stride=(1, 1), padding=(1, 1), bias=False)\n",
      "          (bn1): BatchNorm2d(512, eps=1e-05, momentum=0.1, affine=True, track_running_stats=True)\n",
      "          (conv2): Conv2d(512, 512, kernel_size=(3, 3), stride=(1, 1), padding=(1, 1), bias=False)\n",
      "          (bn2): BatchNorm2d(512, eps=1e-05, momentum=0.1, affine=True, track_running_stats=True)\n",
      "          (relu): ReLU(inplace=True)\n",
      "        )\n",
      "        (3): BasicBlock(\n",
      "          (conv1): Conv2d(512, 512, kernel_size=(3, 3), stride=(1, 1), padding=(1, 1), bias=False)\n",
      "          (bn1): BatchNorm2d(512, eps=1e-05, momentum=0.1, affine=True, track_running_stats=True)\n",
      "          (conv2): Conv2d(512, 512, kernel_size=(3, 3), stride=(1, 1), padding=(1, 1), bias=False)\n",
      "          (bn2): BatchNorm2d(512, eps=1e-05, momentum=0.1, affine=True, track_running_stats=True)\n",
      "          (relu): ReLU(inplace=True)\n",
      "        )\n",
      "        (4): BasicBlock(\n",
      "          (conv1): Conv2d(512, 512, kernel_size=(3, 3), stride=(1, 1), padding=(1, 1), bias=False)\n",
      "          (bn1): BatchNorm2d(512, eps=1e-05, momentum=0.1, affine=True, track_running_stats=True)\n",
      "          (conv2): Conv2d(512, 512, kernel_size=(3, 3), stride=(1, 1), padding=(1, 1), bias=False)\n",
      "          (bn2): BatchNorm2d(512, eps=1e-05, momentum=0.1, affine=True, track_running_stats=True)\n",
      "          (relu): ReLU(inplace=True)\n",
      "        )\n",
      "      )\n",
      "      (conv3): Conv2d(512, 512, kernel_size=(3, 3), stride=(1, 1), padding=(1, 1), bias=False)\n",
      "      (bn3): BatchNorm2d(512, eps=1e-05, momentum=0.1, affine=True, track_running_stats=True)\n",
      "      (layer4): Sequential(\n",
      "        (0): BasicBlock(\n",
      "          (conv1): Conv2d(512, 512, kernel_size=(3, 3), stride=(1, 1), padding=(1, 1), bias=False)\n",
      "          (bn1): BatchNorm2d(512, eps=1e-05, momentum=0.1, affine=True, track_running_stats=True)\n",
      "          (conv2): Conv2d(512, 512, kernel_size=(3, 3), stride=(1, 1), padding=(1, 1), bias=False)\n",
      "          (bn2): BatchNorm2d(512, eps=1e-05, momentum=0.1, affine=True, track_running_stats=True)\n",
      "          (relu): ReLU(inplace=True)\n",
      "        )\n",
      "        (1): BasicBlock(\n",
      "          (conv1): Conv2d(512, 512, kernel_size=(3, 3), stride=(1, 1), padding=(1, 1), bias=False)\n",
      "          (bn1): BatchNorm2d(512, eps=1e-05, momentum=0.1, affine=True, track_running_stats=True)\n",
      "          (conv2): Conv2d(512, 512, kernel_size=(3, 3), stride=(1, 1), padding=(1, 1), bias=False)\n",
      "          (bn2): BatchNorm2d(512, eps=1e-05, momentum=0.1, affine=True, track_running_stats=True)\n",
      "          (relu): ReLU(inplace=True)\n",
      "        )\n",
      "        (2): BasicBlock(\n",
      "          (conv1): Conv2d(512, 512, kernel_size=(3, 3), stride=(1, 1), padding=(1, 1), bias=False)\n",
      "          (bn1): BatchNorm2d(512, eps=1e-05, momentum=0.1, affine=True, track_running_stats=True)\n",
      "          (conv2): Conv2d(512, 512, kernel_size=(3, 3), stride=(1, 1), padding=(1, 1), bias=False)\n",
      "          (bn2): BatchNorm2d(512, eps=1e-05, momentum=0.1, affine=True, track_running_stats=True)\n",
      "          (relu): ReLU(inplace=True)\n",
      "        )\n",
      "      )\n",
      "      (conv4_1): Conv2d(512, 512, kernel_size=(2, 2), stride=(2, 1), padding=(0, 1), bias=False)\n",
      "      (bn4_1): BatchNorm2d(512, eps=1e-05, momentum=0.1, affine=True, track_running_stats=True)\n",
      "      (conv4_2): Conv2d(512, 512, kernel_size=(2, 2), stride=(1, 1), bias=False)\n",
      "      (bn4_2): BatchNorm2d(512, eps=1e-05, momentum=0.1, affine=True, track_running_stats=True)\n",
      "    )\n",
      "  )\n",
      "  (AdaptiveAvgPool): AdaptiveAvgPool2d(output_size=(None, 1))\n",
      "  (SequenceModeling): Sequential(\n",
      "    (0): BidirectionalLSTM(\n",
      "      (rnn): DynamicQuantizedLSTM(512, 512, batch_first=True, bidirectional=True)\n",
      "      (linear): DynamicQuantizedLinear(in_features=1024, out_features=512, dtype=torch.qint8, qscheme=torch.per_tensor_affine)\n",
      "    )\n",
      "    (1): BidirectionalLSTM(\n",
      "      (rnn): DynamicQuantizedLSTM(512, 512, batch_first=True, bidirectional=True)\n",
      "      (linear): DynamicQuantizedLinear(in_features=1024, out_features=512, dtype=torch.qint8, qscheme=torch.per_tensor_affine)\n",
      "    )\n",
      "  )\n",
      "  (Prediction): DynamicQuantizedLinear(in_features=512, out_features=185, dtype=torch.qint8, qscheme=torch.per_tensor_affine)\n",
      ")\n",
      "\n",
      "Model Parameters:\n",
      "Detector parameters: 20,770,466\n",
      "Recognizer parameters: 44,263,904\n",
      "Total parameters: 65,034,370\n",
      "\n",
      "Saving models to model/persian_ocr.pth...\n",
      "Models saved successfully!\n"
     ]
    }
   ],
   "source": [
    "# Inspect the EasyOCR components\n",
    "print(\"Detector Model Architecture:\")\n",
    "print(reader.detector)\n",
    "\n",
    "print(\"\\nRecognizer Model Architecture:\")\n",
    "print(reader.recognizer)\n",
    "\n",
    "# Count parameters for both models\n",
    "detector_params = sum(p.numel() for p in reader.detector.parameters())\n",
    "recognizer_params = sum(p.numel() for p in reader.recognizer.parameters())\n",
    "\n",
    "print(\"\\nModel Parameters:\")\n",
    "print(f\"Detector parameters: {detector_params:,}\")\n",
    "print(f\"Recognizer parameters: {recognizer_params:,}\")\n",
    "print(f\"Total parameters: {detector_params + recognizer_params:,}\")\n",
    "\n",
    "# Save both models\n",
    "model_path = 'model/persian_ocr.pth'\n",
    "print(f\"\\nSaving models to {model_path}...\")\n",
    "torch.save({\n",
    "    'detector_state': reader.detector.state_dict(),\n",
    "    'recognizer_state': reader.recognizer.state_dict(),\n",
    "    'language': 'fa'\n",
    "}, model_path)\n",
    "print(\"Models saved successfully!\")"
   ]
  },
  {
   "cell_type": "code",
   "execution_count": 9,
   "id": "d3da31da",
   "metadata": {},
   "outputs": [
    {
     "name": "stdout",
     "output_type": "stream",
     "text": [
      "Testing OCR on handwritten_data\\03015057820506540105001.jpg\n"
     ]
    },
    {
     "name": "stderr",
     "output_type": "stream",
     "text": [
      "d:\\arfa\\code\\ocr\\venv\\Lib\\site-packages\\torch\\utils\\data\\dataloader.py:665: UserWarning: 'pin_memory' argument is set as true but no accelerator is found, then device pinned memory won't be used.\n",
      "  warnings.warn(warn_msg)\n"
     ]
    },
    {
     "name": "stdout",
     "output_type": "stream",
     "text": [
      "\n",
      "OCR Results:\n",
      "Text: |-(\n",
      "Confidence: 0.39\n",
      "\n",
      "Text: ٣٠\n",
      "Confidence: 0.64\n",
      "\n",
      "Text: ٥( ٧\n",
      "Confidence: 0.22\n",
      "\n",
      "Text: الم (\n",
      "Confidence: 0.32\n",
      "\n"
     ]
    }
   ],
   "source": [
    "# Test the model on a sample image\n",
    "def test_model():\n",
    "    # Get the first image from handwritten_data\n",
    "    image_files = [f for f in os.listdir('handwritten_data') \n",
    "                  if f.lower().endswith(('.png', '.jpg', '.jpeg'))]\n",
    "    \n",
    "    if not image_files:\n",
    "        print(\"No images found in handwritten_data directory\")\n",
    "        return\n",
    "        \n",
    "    test_image = os.path.join('handwritten_data', image_files[0])\n",
    "    print(f\"Testing OCR on {test_image}\")\n",
    "    \n",
    "    # Run OCR\n",
    "    result = reader.readtext(test_image)\n",
    "    \n",
    "    # Print results\n",
    "    print(\"\\nOCR Results:\")\n",
    "    for bbox, text, conf in result:\n",
    "        print(f\"Text: {text}\")\n",
    "        print(f\"Confidence: {conf:.2f}\\n\")\n",
    "\n",
    "test_model()"
   ]
  },
  {
   "cell_type": "code",
   "execution_count": 10,
   "id": "bc93b8c2",
   "metadata": {},
   "outputs": [
    {
     "name": "stdout",
     "output_type": "stream",
     "text": [
      "Testing OCR on 3 images:\n",
      "\n",
      "Processing: 03015057820506540105001.jpg\n"
     ]
    },
    {
     "name": "stderr",
     "output_type": "stream",
     "text": [
      "d:\\arfa\\code\\ocr\\venv\\Lib\\site-packages\\torch\\utils\\data\\dataloader.py:665: UserWarning: 'pin_memory' argument is set as true but no accelerator is found, then device pinned memory won't be used.\n",
      "  warnings.warn(warn_msg)\n"
     ]
    },
    {
     "name": "stdout",
     "output_type": "stream",
     "text": [
      "Detected text:\n",
      "- |-( (confidence: 0.39)\n",
      "- ٣٠ (confidence: 0.64)\n",
      "- ٥( ٧ (confidence: 0.22)\n",
      "- الم ( (confidence: 0.32)\n",
      "\n",
      "--------------------------------------------------\n",
      "\n",
      "Processing: 03015057820506540105002.jpg\n"
     ]
    },
    {
     "name": "stderr",
     "output_type": "stream",
     "text": [
      "d:\\arfa\\code\\ocr\\venv\\Lib\\site-packages\\torch\\utils\\data\\dataloader.py:665: UserWarning: 'pin_memory' argument is set as true but no accelerator is found, then device pinned memory won't be used.\n",
      "  warnings.warn(warn_msg)\n"
     ]
    },
    {
     "name": "stdout",
     "output_type": "stream",
     "text": [
      "Detected text:\n",
      "- ج ( يامن دیب (confidence: 0.09)\n",
      "-  الصهرال (confidence: 0.18)\n",
      "- الف  (confidence: 0.21)\n",
      "- دائون (confidence: 0.28)\n",
      "\n",
      "--------------------------------------------------\n",
      "\n",
      "Processing: 03015057820506540105003.jpg\n"
     ]
    },
    {
     "name": "stderr",
     "output_type": "stream",
     "text": [
      "d:\\arfa\\code\\ocr\\venv\\Lib\\site-packages\\torch\\utils\\data\\dataloader.py:665: UserWarning: 'pin_memory' argument is set as true but no accelerator is found, then device pinned memory won't be used.\n",
      "  warnings.warn(warn_msg)\n"
     ]
    },
    {
     "name": "stdout",
     "output_type": "stream",
     "text": [
      "Detected text:\n",
      "- دط (confidence: 0.25)\n",
      "- ب ( (confidence: 0.34)\n",
      "\n",
      "--------------------------------------------------\n",
      "\n"
     ]
    }
   ],
   "source": [
    "# Test OCR on multiple images\n",
    "def test_multiple_images(num_images=3):\n",
    "    # Get image files\n",
    "    image_files = sorted([\n",
    "        f for f in os.listdir('handwritten_data')\n",
    "        if f.lower().endswith(('.png', '.jpg', '.jpeg'))\n",
    "    ])[:num_images]\n",
    "    \n",
    "    print(f\"Testing OCR on {len(image_files)} images:\\n\")\n",
    "    \n",
    "    for img_file in image_files:\n",
    "        img_path = os.path.join('handwritten_data', img_file)\n",
    "        print(f\"Processing: {img_file}\")\n",
    "        \n",
    "        # Run OCR\n",
    "        result = reader.readtext(img_path)\n",
    "        \n",
    "        # Print results\n",
    "        print(\"Detected text:\")\n",
    "        for bbox, text, conf in result:\n",
    "            print(f\"- {text} (confidence: {conf:.2f})\")\n",
    "        print(\"\\n\" + \"-\"*50 + \"\\n\")\n",
    "\n",
    "# Run the test\n",
    "test_multiple_images(3)"
   ]
  },
  {
   "cell_type": "code",
   "execution_count": 14,
   "id": "f7073096",
   "metadata": {},
   "outputs": [
    {
     "name": "stdout",
     "output_type": "stream",
     "text": [
      "Testing OCR on 3 images...\n",
      "\n",
      "Processing: 03015057820506540105001.jpg\n"
     ]
    },
    {
     "name": "stderr",
     "output_type": "stream",
     "text": [
      "d:\\arfa\\code\\ocr\\venv\\Lib\\site-packages\\torch\\utils\\data\\dataloader.py:665: UserWarning: 'pin_memory' argument is set as true but no accelerator is found, then device pinned memory won't be used.\n",
      "  warnings.warn(warn_msg)\n"
     ]
    },
    {
     "name": "stdout",
     "output_type": "stream",
     "text": [
      "Confidence: 0.39\n",
      "\n",
      "Processing: 03015057820506540105002.jpg\n"
     ]
    },
    {
     "name": "stderr",
     "output_type": "stream",
     "text": [
      "d:\\arfa\\code\\ocr\\venv\\Lib\\site-packages\\torch\\utils\\data\\dataloader.py:665: UserWarning: 'pin_memory' argument is set as true but no accelerator is found, then device pinned memory won't be used.\n",
      "  warnings.warn(warn_msg)\n"
     ]
    },
    {
     "name": "stdout",
     "output_type": "stream",
     "text": [
      "Confidence: 0.19\n",
      "\n",
      "Processing: 03015057820506540105003.jpg\n"
     ]
    },
    {
     "name": "stderr",
     "output_type": "stream",
     "text": [
      "d:\\arfa\\code\\ocr\\venv\\Lib\\site-packages\\torch\\utils\\data\\dataloader.py:665: UserWarning: 'pin_memory' argument is set as true but no accelerator is found, then device pinned memory won't be used.\n",
      "  warnings.warn(warn_msg)\n"
     ]
    },
    {
     "name": "stdout",
     "output_type": "stream",
     "text": [
      "Confidence: 0.30\n",
      "\n",
      "OCR Results:\n",
      "\n",
      "Image: 03015057820506540105001.jpg\n",
      "Text: |-( ٣٠ ٥( ٧ الم (\n",
      "\n",
      "Image: 03015057820506540105002.jpg\n",
      "Text: ج ( يامن دیب  الصهرال الف  دائون\n",
      "\n",
      "Image: 03015057820506540105003.jpg\n",
      "Text: دط ب (\n"
     ]
    }
   ],
   "source": [
    "def test_batch():\n",
    "    \"\"\"Test OCR on a batch of images using EasyOCR directly\"\"\"\n",
    "    # Get first 3 images from handwritten_data\n",
    "    image_files = [\n",
    "        os.path.join('handwritten_data', f)\n",
    "        for f in os.listdir('handwritten_data')\n",
    "        if f.lower().endswith(('.png', '.jpg', '.jpeg'))\n",
    "    ][:3]\n",
    "    \n",
    "    if not image_files:\n",
    "        print(\"No images found in handwritten_data directory\")\n",
    "        return\n",
    "    \n",
    "    print(f\"Testing OCR on {len(image_files)} images...\")\n",
    "    results = []\n",
    "    \n",
    "    # Process each image using EasyOCR\n",
    "    for img_path in image_files:\n",
    "        img_name = os.path.basename(img_path)\n",
    "        print(f\"\\nProcessing: {img_name}\")\n",
    "        \n",
    "        try:\n",
    "            # Run OCR using EasyOCR reader\n",
    "            ocr_result = reader.readtext(img_path)\n",
    "            \n",
    "            # Combine all detected text\n",
    "            text = ' '.join([r[1] for r in ocr_result])\n",
    "            confidence = np.mean([r[2] for r in ocr_result]) if ocr_result else 0\n",
    "            \n",
    "            results.append((img_name, text))\n",
    "            print(f\"Confidence: {confidence:.2f}\")\n",
    "            \n",
    "        except Exception as e:\n",
    "            print(f\"Error processing {img_name}: {str(e)}\")\n",
    "    \n",
    "    # Print results\n",
    "    print(\"\\nOCR Results:\")\n",
    "    for img_name, text in results:\n",
    "        print(f\"\\nImage: {img_name}\")\n",
    "        print(f\"Text: {text}\")\n",
    "\n",
    "# Run the batch test\n",
    "test_batch()\n"
   ]
  },
  {
   "cell_type": "code",
   "execution_count": null,
   "id": "5099b6f9",
   "metadata": {},
   "outputs": [],
   "source": [
    "# Install required packages\n",
    "#!pip install torch torchvision torchaudio\n",
    "#!pip install opencv-python pillow pandas pytesseract\n",
    "\n",
    "# Note: For Windows users, download Tesseract from:\n",
    "# https://github.com/UB-Mannheim/tesseract/wiki\n",
    "# And fas.traineddata from:\n",
    "# https://github.com/tesseract-ocr/tessdata/blob/main/fas.traineddata"
   ]
  },
  {
   "cell_type": "code",
   "execution_count": 15,
   "id": "931b96f8",
   "metadata": {},
   "outputs": [],
   "source": [
    "import os\n",
    "import cv2\n",
    "import numpy as np\n",
    "import torch\n",
    "import torch.nn as nn\n",
    "from torch.utils.data import Dataset, DataLoader\n",
    "from torchvision import transforms\n",
    "from PIL import Image\n",
    "import pytesseract\n",
    "\n",
    "# Set Tesseract path for Windows users\n",
    "# Uncomment and modify the line below with your Tesseract installation path\n",
    "# pytesseract.pytesseract.tesseract_cmd = r'C:\\Program Files\\Tesseract-OCR\\tesseract.exe'"
   ]
  },
  {
   "cell_type": "markdown",
   "id": "2066a088",
   "metadata": {},
   "source": [
    "## 2. Directory Structure\n",
    "\n",
    "Ensure your project has the following structure:\n",
    "```\n",
    "project/\n",
    "├── handwritten_data/\n",
    "│   ├── 1.png\n",
    "│   ├── 2.png\n",
    "├── model/\n",
    "│   └── persian_ocr.pth  # optional pretrained model\n",
    "├── ocr_pipeline.ipynb   # this notebook\n",
    "```"
   ]
  },
  {
   "cell_type": "code",
   "execution_count": 16,
   "id": "10a74aca",
   "metadata": {},
   "outputs": [],
   "source": [
    "# Check and create directories if they don't exist\n",
    "for dir_name in ['handwritten_data', 'model']:\n",
    "    os.makedirs(dir_name, exist_ok=True)\n",
    "\n",
    "# Check if model exists\n",
    "model_path = 'model/persian_ocr.pth'\n",
    "use_tesseract = not os.path.exists(model_path)"
   ]
  },
  {
   "cell_type": "markdown",
   "id": "0340e94e",
   "metadata": {},
   "source": [
    "## 3. Preprocessing\n",
    "\n",
    "Implement image preprocessing steps:\n",
    "1. Read image\n",
    "2. Convert to grayscale\n",
    "3. Resize to model input shape\n",
    "4. Apply Gaussian blur and adaptive threshold\n",
    "5. Normalize to [0, 1] tensor"
   ]
  },
  {
   "cell_type": "code",
   "execution_count": 17,
   "id": "5e4fd538",
   "metadata": {},
   "outputs": [],
   "source": [
    "def preprocess_image(image_path, target_size=(384, 64)):\n",
    "    \"\"\"Preprocess image for OCR.\n",
    "    \n",
    "    Args:\n",
    "        image_path (str): Path to the input image\n",
    "        target_size (tuple): Target size for resizing (width, height)\n",
    "    \n",
    "    Returns:\n",
    "        torch.Tensor: Preprocessed image tensor\n",
    "    \"\"\"\n",
    "    # Read image\n",
    "    image = cv2.imread(image_path)\n",
    "    if image is None:\n",
    "        raise ValueError(f\"Could not read image: {image_path}\")\n",
    "    \n",
    "    # Convert to grayscale\n",
    "    gray = cv2.cvtColor(image, cv2.COLOR_BGR2GRAY)\n",
    "    \n",
    "    # Resize\n",
    "    resized = cv2.resize(gray, target_size)\n",
    "    \n",
    "    # Apply Gaussian blur\n",
    "    blurred = cv2.GaussianBlur(resized, (5, 5), 0)\n",
    "    \n",
    "    # Apply adaptive threshold\n",
    "    thresh = cv2.adaptiveThreshold(\n",
    "        blurred, 255, cv2.ADAPTIVE_THRESH_GAUSSIAN_C,\n",
    "        cv2.THRESH_BINARY, 11, 2\n",
    "    )\n",
    "    \n",
    "    # Normalize to [0, 1] tensor\n",
    "    tensor = torch.FloatTensor(thresh) / 255.0\n",
    "    tensor = tensor.unsqueeze(0)  # Add channel dimension\n",
    "    \n",
    "    return tensor"
   ]
  },
  {
   "cell_type": "markdown",
   "id": "00257193",
   "metadata": {},
   "source": [
    "## 4. Model Handling\n",
    "\n",
    "Handle both cases:\n",
    "1. Using a pre-trained model if available\n",
    "2. Falling back to Tesseract OCR if no model is available"
   ]
  },
  {
   "cell_type": "code",
   "execution_count": 18,
   "id": "c37276da",
   "metadata": {},
   "outputs": [],
   "source": [
    "def get_ocr_model():\n",
    "    \"\"\"Load OCR model or return None if using Tesseract.\"\"\"\n",
    "    if use_tesseract:\n",
    "        return None\n",
    "    \n",
    "    # If using a pre-trained model, load it here\n",
    "    # This is a placeholder - modify based on your actual model architecture\n",
    "    model = torch.load(model_path)\n",
    "    model.eval()\n",
    "    if torch.cuda.is_available():\n",
    "        model = model.to('cuda')\n",
    "    return model\n",
    "\n",
    "def perform_ocr(image_tensor, model=None):\n",
    "    \"\"\"Perform OCR on the preprocessed image.\n",
    "    \n",
    "    Args:\n",
    "        image_tensor (torch.Tensor): Preprocessed image tensor\n",
    "        model: Optional pre-trained model\n",
    "    \n",
    "    Returns:\n",
    "        str: Recognized text\n",
    "    \"\"\"\n",
    "    if model is None:\n",
    "        # Convert tensor back to image for Tesseract\n",
    "        img_array = (image_tensor.squeeze().numpy() * 255).astype(np.uint8)\n",
    "        return pytesseract.image_to_string(img_array, lang='fas')\n",
    "    \n",
    "    # If using a pre-trained model\n",
    "    with torch.no_grad():\n",
    "        if torch.cuda.is_available():\n",
    "            image_tensor = image_tensor.to('cuda')\n",
    "        # This is a placeholder - modify based on your actual model architecture\n",
    "        output = model(image_tensor.unsqueeze(0))\n",
    "        # Implement your decoding logic here\n",
    "        text = decode_output(output)\n",
    "        return text"
   ]
  },
  {
   "cell_type": "markdown",
   "id": "4aa8acd8",
   "metadata": {},
   "source": [
    "## 5. Prediction and Decoding\n",
    "\n",
    "Implement text prediction and normalization:\n"
   ]
  },
  {
   "cell_type": "code",
   "execution_count": 27,
   "id": "39bd28d0",
   "metadata": {},
   "outputs": [],
   "source": [
    "import easyocr\n",
    "import numpy as np\n",
    "\n",
    "def get_ocr_model():\n",
    "    \"\"\"Get the EasyOCR reader instance.\"\"\"\n",
    "    global reader\n",
    "    if 'reader' not in globals():\n",
    "        print(\"Initializing EasyOCR reader...\")\n",
    "        reader = easyocr.Reader(['fa'])\n",
    "    return reader\n",
    "\n",
    "def perform_ocr(image_path, model=None):\n",
    "    \"\"\"Perform OCR on an image.\n",
    "    \n",
    "    Args:\n",
    "        image_path (str): Path to the image file\n",
    "        model: EasyOCR reader instance (optional)\n",
    "    \n",
    "    Returns:\n",
    "        str: Recognized text\n",
    "    \"\"\"\n",
    "    if model is None:\n",
    "        model = get_ocr_model()\n",
    "        \n",
    "    try:\n",
    "        # Run OCR\n",
    "        results = model.readtext(image_path)\n",
    "        \n",
    "        # Combine all detected text\n",
    "        text = ' '.join([r[1] for r in results])\n",
    "        \n",
    "        # Get average confidence\n",
    "        confidence = np.mean([r[2] for r in results]) if results else 0\n",
    "        print(f\"Confidence: {confidence:.2f}\")\n",
    "        \n",
    "        return text\n",
    "    except Exception as e:\n",
    "        print(f\"Error processing {image_path}: {str(e)}\")\n",
    "        return \"\""
   ]
  },
  {
   "cell_type": "code",
   "execution_count": 40,
   "id": "12bd282c",
   "metadata": {},
   "outputs": [],
   "source": [
    "def normalize_persian_text(text):\n",
    "    \"\"\"Normalize Persian text by handling RTL and Unicode issues.\n",
    "    \n",
    "    Args:\n",
    "        text (str): Input text\n",
    "    \n",
    "    Returns:\n",
    "        str: Normalized text\n",
    "    \"\"\"\n",
    "    # Strip whitespace\n",
    "    text = text.strip()\n",
    "    \n",
    "    # Add any specific Persian text normalization here\n",
    "    # For example, fixing Unicode overlaps or standardizing characters\n",
    "    \n",
    "    return text\n",
    "\n",
    "def process_image_batch(image_paths, model, batch_size=4):\n",
    "    \"\"\"Process a batch of images.\n",
    "    \n",
    "    Args:\n",
    "        image_paths (list): List of image paths\n",
    "        model: EasyOCR reader instance\n",
    "        batch_size (int): Batch size for processing\n",
    "    \n",
    "    Returns:\n",
    "        list: List of (image_name, predicted_text) tuples\n",
    "    \"\"\"\n",
    "    results = []\n",
    "    total_images = len(image_paths)\n",
    "    \n",
    "    for i in range(0, total_images, batch_size):\n",
    "        batch_paths = image_paths[i:i + batch_size]\n",
    "        print(f\"\\nProcessing batch {i//batch_size + 1}/{(total_images-1)//batch_size + 1}\")\n",
    "        \n",
    "        for img_path in batch_paths:\n",
    "            img_name = os.path.basename(img_path)\n",
    "            print(f\"Processing {img_name}...\")\n",
    "            \n",
    "            try:\n",
    "                # Run OCR using EasyOCR reader\n",
    "                ocr_result = model.readtext(img_path)\n",
    "                \n",
    "                # Combine all detected text and calculate confidence\n",
    "                text = ' '.join([r[1] for r in ocr_result])\n",
    "                confidence = np.mean([r[2] for r in ocr_result]) if ocr_result else 0\n",
    "                \n",
    "                results.append((img_name, text))\n",
    "                print(f\"Confidence: {confidence:.2f}\")\n",
    "                \n",
    "            except Exception as e:\n",
    "                print(f\"Error processing {img_name}: {str(e)}\")\n",
    "                results.append((img_name, \"\"))\n",
    "    \n",
    "    return results"
   ]
  },
  {
   "cell_type": "markdown",
   "id": "27584435",
   "metadata": {},
   "source": [
    "## 6. Writing Output\n",
    "\n",
    "Write the OCR results to a text file:"
   ]
  },
  {
   "cell_type": "code",
   "execution_count": 29,
   "id": "91e67555",
   "metadata": {},
   "outputs": [],
   "source": [
    "def write_results(results, output_file='results.txt'):\n",
    "    \"\"\"Write OCR results to a file.\n",
    "    \n",
    "    Args:\n",
    "        results (list): List of (image_name, text) tuples\n",
    "        output_file (str): Path to output file\n",
    "    \"\"\"\n",
    "    with open(output_file, 'w', encoding='utf-8') as f:\n",
    "        for image_name, text in results:\n",
    "            f.write(f\"{image_name} → {text}\\n\")"
   ]
  },
  {
   "cell_type": "markdown",
   "id": "4996b2ff",
   "metadata": {},
   "source": [
    "## 7. Optimizations\n",
    "\n",
    "Implement the main processing pipeline with optimizations:"
   ]
  },
  {
   "cell_type": "code",
   "execution_count": 38,
   "id": "1b634fab",
   "metadata": {},
   "outputs": [
    {
     "ename": "TypeError",
     "evalue": "'Reader' object is not callable",
     "output_type": "error",
     "traceback": [
      "\u001b[31m---------------------------------------------------------------------------\u001b[39m",
      "\u001b[31mTypeError\u001b[39m                                 Traceback (most recent call last)",
      "\u001b[36mCell\u001b[39m\u001b[36m \u001b[39m\u001b[32mIn[38]\u001b[39m\u001b[32m, line 29\u001b[39m\n\u001b[32m     27\u001b[39m \u001b[38;5;66;03m# Run the pipeline\u001b[39;00m\n\u001b[32m     28\u001b[39m \u001b[38;5;28;01mif\u001b[39;00m \u001b[34m__name__\u001b[39m == \u001b[33m'\u001b[39m\u001b[33m__main__\u001b[39m\u001b[33m'\u001b[39m:\n\u001b[32m---> \u001b[39m\u001b[32m29\u001b[39m     \u001b[43mmain\u001b[49m\u001b[43m(\u001b[49m\u001b[43m)\u001b[49m\n",
      "\u001b[36mCell\u001b[39m\u001b[36m \u001b[39m\u001b[32mIn[38]\u001b[39m\u001b[32m, line 17\u001b[39m, in \u001b[36mmain\u001b[39m\u001b[34m()\u001b[39m\n\u001b[32m     14\u001b[39m model = get_ocr_model()\n\u001b[32m     16\u001b[39m \u001b[38;5;66;03m# Process images in batches\u001b[39;00m\n\u001b[32m---> \u001b[39m\u001b[32m17\u001b[39m results = \u001b[43mprocess_image_batch\u001b[49m\u001b[43m(\u001b[49m\n\u001b[32m     18\u001b[39m \u001b[43m    \u001b[49m\u001b[43mimage_files\u001b[49m\u001b[43m,\u001b[49m\n\u001b[32m     19\u001b[39m \u001b[43m    \u001b[49m\u001b[43mmodel\u001b[49m\u001b[43m,\u001b[49m\n\u001b[32m     20\u001b[39m \u001b[43m    \u001b[49m\u001b[43mbatch_size\u001b[49m\u001b[43m=\u001b[49m\u001b[32;43m4\u001b[39;49m\u001b[43m  \u001b[49m\u001b[38;5;66;43;03m# Adjust based on your GPU memory\u001b[39;49;00m\n\u001b[32m     21\u001b[39m \u001b[43m\u001b[49m\u001b[43m)\u001b[49m\n\u001b[32m     23\u001b[39m \u001b[38;5;66;03m# Write results\u001b[39;00m\n\u001b[32m     24\u001b[39m write_results(results)\n",
      "\u001b[36mCell\u001b[39m\u001b[36m \u001b[39m\u001b[32mIn[28]\u001b[39m\u001b[32m, line 42\u001b[39m, in \u001b[36mprocess_image_batch\u001b[39m\u001b[34m(image_paths, model, batch_size)\u001b[39m\n\u001b[32m     39\u001b[39m         batch_tensor = batch_tensor.to(\u001b[33m'\u001b[39m\u001b[33mcuda\u001b[39m\u001b[33m'\u001b[39m)\n\u001b[32m     41\u001b[39m     \u001b[38;5;28;01mwith\u001b[39;00m torch.no_grad():\n\u001b[32m---> \u001b[39m\u001b[32m42\u001b[39m         outputs = \u001b[43mmodel\u001b[49m\u001b[43m(\u001b[49m\u001b[43mbatch_tensor\u001b[49m\u001b[43m)\u001b[49m\n\u001b[32m     43\u001b[39m         texts = [decode_output(output) \u001b[38;5;28;01mfor\u001b[39;00m output \u001b[38;5;129;01min\u001b[39;00m outputs]\n\u001b[32m     44\u001b[39m \u001b[38;5;28;01melse\u001b[39;00m:\n\u001b[32m     45\u001b[39m     \u001b[38;5;66;03m# Process individually with Tesseract\u001b[39;00m\n",
      "\u001b[31mTypeError\u001b[39m: 'Reader' object is not callable"
     ]
    }
   ],
   "source": [
    "def main():\n",
    "    # Get all image files\n",
    "    image_files = [\n",
    "        os.path.join('handwritten_data', f)\n",
    "        for f in os.listdir('handwritten_data')\n",
    "        if f.lower().endswith(('.png', '.jpg', '.jpeg'))\n",
    "    ]\n",
    "    \n",
    "    if not image_files:\n",
    "        print(\"No images found in 'handwritten_data' directory!\")\n",
    "        return\n",
    "    \n",
    "    # Load model (or None for Tesseract)\n",
    "    model = get_ocr_model()\n",
    "    \n",
    "    # Process images in batches\n",
    "    results = process_image_batch(\n",
    "        image_files,\n",
    "        model,\n",
    "        batch_size=4  # Adjust based on your GPU memory\n",
    "    )\n",
    "    \n",
    "    # Write results\n",
    "    write_results(results)\n",
    "    print(f\"Processed {len(results)} images. Results written to 'results.txt'\")\n",
    "\n",
    "# Run the pipeline\n",
    "if __name__ == '__main__':\n",
    "    main()"
   ]
  },
  {
   "cell_type": "code",
   "execution_count": 41,
   "id": "b0bdd55c",
   "metadata": {},
   "outputs": [
    {
     "name": "stdout",
     "output_type": "stream",
     "text": [
      "Starting batch processing of all images...\n",
      "Found 239 images to process\n",
      "\n",
      "Processing batch 1/60\n",
      "\n",
      "Processing 03015057820506540105001.jpg...\n"
     ]
    },
    {
     "name": "stderr",
     "output_type": "stream",
     "text": [
      "d:\\arfa\\code\\ocr\\venv\\Lib\\site-packages\\torch\\utils\\data\\dataloader.py:665: UserWarning: 'pin_memory' argument is set as true but no accelerator is found, then device pinned memory won't be used.\n",
      "  warnings.warn(warn_msg)\n"
     ]
    },
    {
     "name": "stdout",
     "output_type": "stream",
     "text": [
      "Confidence: 0.39\n",
      "\n",
      "Processing 03015057820506540105002.jpg...\n"
     ]
    },
    {
     "name": "stderr",
     "output_type": "stream",
     "text": [
      "d:\\arfa\\code\\ocr\\venv\\Lib\\site-packages\\torch\\utils\\data\\dataloader.py:665: UserWarning: 'pin_memory' argument is set as true but no accelerator is found, then device pinned memory won't be used.\n",
      "  warnings.warn(warn_msg)\n"
     ]
    },
    {
     "name": "stdout",
     "output_type": "stream",
     "text": [
      "Confidence: 0.19\n",
      "\n",
      "Processing 03015057820506540105003.jpg...\n"
     ]
    },
    {
     "name": "stderr",
     "output_type": "stream",
     "text": [
      "d:\\arfa\\code\\ocr\\venv\\Lib\\site-packages\\torch\\utils\\data\\dataloader.py:665: UserWarning: 'pin_memory' argument is set as true but no accelerator is found, then device pinned memory won't be used.\n",
      "  warnings.warn(warn_msg)\n"
     ]
    },
    {
     "name": "stdout",
     "output_type": "stream",
     "text": [
      "Confidence: 0.30\n",
      "\n",
      "Processing 03015057820506540105005.jpg...\n"
     ]
    },
    {
     "name": "stderr",
     "output_type": "stream",
     "text": [
      "d:\\arfa\\code\\ocr\\venv\\Lib\\site-packages\\torch\\utils\\data\\dataloader.py:665: UserWarning: 'pin_memory' argument is set as true but no accelerator is found, then device pinned memory won't be used.\n",
      "  warnings.warn(warn_msg)\n"
     ]
    },
    {
     "name": "stdout",
     "output_type": "stream",
     "text": [
      "Confidence: 0.14\n",
      "\n",
      "Processing batch 2/60\n",
      "\n",
      "Processing 03015057820506540105006.jpg...\n"
     ]
    },
    {
     "name": "stderr",
     "output_type": "stream",
     "text": [
      "d:\\arfa\\code\\ocr\\venv\\Lib\\site-packages\\torch\\utils\\data\\dataloader.py:665: UserWarning: 'pin_memory' argument is set as true but no accelerator is found, then device pinned memory won't be used.\n",
      "  warnings.warn(warn_msg)\n"
     ]
    },
    {
     "name": "stdout",
     "output_type": "stream",
     "text": [
      "Confidence: 0.20\n",
      "\n",
      "Processing 03015057820506540105008.jpg...\n"
     ]
    },
    {
     "name": "stderr",
     "output_type": "stream",
     "text": [
      "d:\\arfa\\code\\ocr\\venv\\Lib\\site-packages\\torch\\utils\\data\\dataloader.py:665: UserWarning: 'pin_memory' argument is set as true but no accelerator is found, then device pinned memory won't be used.\n",
      "  warnings.warn(warn_msg)\n"
     ]
    },
    {
     "name": "stdout",
     "output_type": "stream",
     "text": [
      "Confidence: 0.10\n",
      "\n",
      "Processing 03015057820513070562001.jpg...\n"
     ]
    },
    {
     "name": "stderr",
     "output_type": "stream",
     "text": [
      "d:\\arfa\\code\\ocr\\venv\\Lib\\site-packages\\torch\\utils\\data\\dataloader.py:665: UserWarning: 'pin_memory' argument is set as true but no accelerator is found, then device pinned memory won't be used.\n",
      "  warnings.warn(warn_msg)\n"
     ]
    },
    {
     "name": "stdout",
     "output_type": "stream",
     "text": [
      "Confidence: 0.29\n",
      "\n",
      "Processing 03015057820513070562002.jpg...\n"
     ]
    },
    {
     "name": "stderr",
     "output_type": "stream",
     "text": [
      "d:\\arfa\\code\\ocr\\venv\\Lib\\site-packages\\torch\\utils\\data\\dataloader.py:665: UserWarning: 'pin_memory' argument is set as true but no accelerator is found, then device pinned memory won't be used.\n",
      "  warnings.warn(warn_msg)\n"
     ]
    },
    {
     "name": "stdout",
     "output_type": "stream",
     "text": [
      "Confidence: 0.17\n",
      "\n",
      "Processing batch 3/60\n",
      "\n",
      "Processing 03015057820513070562003.jpg...\n"
     ]
    },
    {
     "name": "stderr",
     "output_type": "stream",
     "text": [
      "d:\\arfa\\code\\ocr\\venv\\Lib\\site-packages\\torch\\utils\\data\\dataloader.py:665: UserWarning: 'pin_memory' argument is set as true but no accelerator is found, then device pinned memory won't be used.\n",
      "  warnings.warn(warn_msg)\n"
     ]
    },
    {
     "name": "stdout",
     "output_type": "stream",
     "text": [
      "Confidence: 0.27\n",
      "\n",
      "Processing 03015057820513070562005.jpg...\n"
     ]
    },
    {
     "name": "stderr",
     "output_type": "stream",
     "text": [
      "d:\\arfa\\code\\ocr\\venv\\Lib\\site-packages\\torch\\utils\\data\\dataloader.py:665: UserWarning: 'pin_memory' argument is set as true but no accelerator is found, then device pinned memory won't be used.\n",
      "  warnings.warn(warn_msg)\n"
     ]
    },
    {
     "name": "stdout",
     "output_type": "stream",
     "text": [
      "Confidence: 0.14\n",
      "\n",
      "Processing 03015057820513070562008.jpg...\n"
     ]
    },
    {
     "name": "stderr",
     "output_type": "stream",
     "text": [
      "d:\\arfa\\code\\ocr\\venv\\Lib\\site-packages\\torch\\utils\\data\\dataloader.py:665: UserWarning: 'pin_memory' argument is set as true but no accelerator is found, then device pinned memory won't be used.\n",
      "  warnings.warn(warn_msg)\n"
     ]
    },
    {
     "name": "stdout",
     "output_type": "stream",
     "text": [
      "Confidence: 0.14\n",
      "\n",
      "Processing 03015057820513280635002.jpg...\n"
     ]
    },
    {
     "name": "stderr",
     "output_type": "stream",
     "text": [
      "d:\\arfa\\code\\ocr\\venv\\Lib\\site-packages\\torch\\utils\\data\\dataloader.py:665: UserWarning: 'pin_memory' argument is set as true but no accelerator is found, then device pinned memory won't be used.\n",
      "  warnings.warn(warn_msg)\n"
     ]
    },
    {
     "name": "stdout",
     "output_type": "stream",
     "text": [
      "Confidence: 0.31\n",
      "\n",
      "Processing batch 4/60\n",
      "\n",
      "Processing 03015057820513280635003.jpg...\n"
     ]
    },
    {
     "name": "stderr",
     "output_type": "stream",
     "text": [
      "d:\\arfa\\code\\ocr\\venv\\Lib\\site-packages\\torch\\utils\\data\\dataloader.py:665: UserWarning: 'pin_memory' argument is set as true but no accelerator is found, then device pinned memory won't be used.\n",
      "  warnings.warn(warn_msg)\n"
     ]
    },
    {
     "name": "stdout",
     "output_type": "stream",
     "text": [
      "Confidence: 0.25\n",
      "\n",
      "Processing 03015057820513280635006.jpg...\n"
     ]
    },
    {
     "name": "stderr",
     "output_type": "stream",
     "text": [
      "d:\\arfa\\code\\ocr\\venv\\Lib\\site-packages\\torch\\utils\\data\\dataloader.py:665: UserWarning: 'pin_memory' argument is set as true but no accelerator is found, then device pinned memory won't be used.\n",
      "  warnings.warn(warn_msg)\n"
     ]
    },
    {
     "name": "stdout",
     "output_type": "stream",
     "text": [
      "Confidence: 0.17\n",
      "\n",
      "Processing 03015057820513955066001.jpg...\n"
     ]
    },
    {
     "name": "stderr",
     "output_type": "stream",
     "text": [
      "d:\\arfa\\code\\ocr\\venv\\Lib\\site-packages\\torch\\utils\\data\\dataloader.py:665: UserWarning: 'pin_memory' argument is set as true but no accelerator is found, then device pinned memory won't be used.\n",
      "  warnings.warn(warn_msg)\n"
     ]
    },
    {
     "name": "stdout",
     "output_type": "stream",
     "text": [
      "Confidence: 0.44\n",
      "\n",
      "Processing 03015057820513955066002.jpg...\n"
     ]
    },
    {
     "name": "stderr",
     "output_type": "stream",
     "text": [
      "d:\\arfa\\code\\ocr\\venv\\Lib\\site-packages\\torch\\utils\\data\\dataloader.py:665: UserWarning: 'pin_memory' argument is set as true but no accelerator is found, then device pinned memory won't be used.\n",
      "  warnings.warn(warn_msg)\n"
     ]
    },
    {
     "name": "stdout",
     "output_type": "stream",
     "text": [
      "Confidence: 0.12\n",
      "\n",
      "Processing batch 5/60\n",
      "\n",
      "Processing 03015057820513955066003.jpg...\n"
     ]
    },
    {
     "name": "stderr",
     "output_type": "stream",
     "text": [
      "d:\\arfa\\code\\ocr\\venv\\Lib\\site-packages\\torch\\utils\\data\\dataloader.py:665: UserWarning: 'pin_memory' argument is set as true but no accelerator is found, then device pinned memory won't be used.\n",
      "  warnings.warn(warn_msg)\n"
     ]
    },
    {
     "name": "stdout",
     "output_type": "stream",
     "text": [
      "Confidence: 0.33\n",
      "\n",
      "Processing 03015057820513955066004.jpg...\n"
     ]
    },
    {
     "name": "stderr",
     "output_type": "stream",
     "text": [
      "d:\\arfa\\code\\ocr\\venv\\Lib\\site-packages\\torch\\utils\\data\\dataloader.py:665: UserWarning: 'pin_memory' argument is set as true but no accelerator is found, then device pinned memory won't be used.\n",
      "  warnings.warn(warn_msg)\n"
     ]
    },
    {
     "name": "stdout",
     "output_type": "stream",
     "text": [
      "Confidence: 0.96\n",
      "\n",
      "Processing 03015057820513955066006.jpg...\n"
     ]
    },
    {
     "name": "stderr",
     "output_type": "stream",
     "text": [
      "d:\\arfa\\code\\ocr\\venv\\Lib\\site-packages\\torch\\utils\\data\\dataloader.py:665: UserWarning: 'pin_memory' argument is set as true but no accelerator is found, then device pinned memory won't be used.\n",
      "  warnings.warn(warn_msg)\n"
     ]
    },
    {
     "name": "stdout",
     "output_type": "stream",
     "text": [
      "Confidence: 0.12\n",
      "\n",
      "Processing 03015057820514050267001.jpg...\n"
     ]
    },
    {
     "name": "stderr",
     "output_type": "stream",
     "text": [
      "d:\\arfa\\code\\ocr\\venv\\Lib\\site-packages\\torch\\utils\\data\\dataloader.py:665: UserWarning: 'pin_memory' argument is set as true but no accelerator is found, then device pinned memory won't be used.\n",
      "  warnings.warn(warn_msg)\n"
     ]
    },
    {
     "name": "stdout",
     "output_type": "stream",
     "text": [
      "Confidence: 0.98\n",
      "\n",
      "Processing batch 6/60\n",
      "\n",
      "Processing 03016057830503390204001.jpg...\n",
      "Confidence: 0.00\n",
      "\n",
      "Processing 03016057830503390594001.jpg...\n"
     ]
    },
    {
     "name": "stderr",
     "output_type": "stream",
     "text": [
      "d:\\arfa\\code\\ocr\\venv\\Lib\\site-packages\\torch\\utils\\data\\dataloader.py:665: UserWarning: 'pin_memory' argument is set as true but no accelerator is found, then device pinned memory won't be used.\n",
      "  warnings.warn(warn_msg)\n"
     ]
    },
    {
     "name": "stdout",
     "output_type": "stream",
     "text": [
      "Confidence: 0.04\n",
      "\n",
      "Processing 03016057830504270126001.jpg...\n",
      "Confidence: 0.00\n",
      "\n",
      "Processing 03016057830506540105001.jpg...\n"
     ]
    },
    {
     "name": "stderr",
     "output_type": "stream",
     "text": [
      "d:\\arfa\\code\\ocr\\venv\\Lib\\site-packages\\torch\\utils\\data\\dataloader.py:665: UserWarning: 'pin_memory' argument is set as true but no accelerator is found, then device pinned memory won't be used.\n",
      "  warnings.warn(warn_msg)\n"
     ]
    },
    {
     "name": "stdout",
     "output_type": "stream",
     "text": [
      "Confidence: 0.57\n",
      "\n",
      "Processing batch 7/60\n",
      "\n",
      "Processing 03016057830513070562001.jpg...\n"
     ]
    },
    {
     "name": "stderr",
     "output_type": "stream",
     "text": [
      "d:\\arfa\\code\\ocr\\venv\\Lib\\site-packages\\torch\\utils\\data\\dataloader.py:665: UserWarning: 'pin_memory' argument is set as true but no accelerator is found, then device pinned memory won't be used.\n",
      "  warnings.warn(warn_msg)\n"
     ]
    },
    {
     "name": "stdout",
     "output_type": "stream",
     "text": [
      "Confidence: 0.83\n",
      "\n",
      "Processing 03016057830513280164001.jpg...\n"
     ]
    },
    {
     "name": "stderr",
     "output_type": "stream",
     "text": [
      "d:\\arfa\\code\\ocr\\venv\\Lib\\site-packages\\torch\\utils\\data\\dataloader.py:665: UserWarning: 'pin_memory' argument is set as true but no accelerator is found, then device pinned memory won't be used.\n",
      "  warnings.warn(warn_msg)\n"
     ]
    },
    {
     "name": "stdout",
     "output_type": "stream",
     "text": [
      "Confidence: 0.18\n",
      "\n",
      "Processing 03016057830513280226001.jpg...\n"
     ]
    },
    {
     "name": "stderr",
     "output_type": "stream",
     "text": [
      "d:\\arfa\\code\\ocr\\venv\\Lib\\site-packages\\torch\\utils\\data\\dataloader.py:665: UserWarning: 'pin_memory' argument is set as true but no accelerator is found, then device pinned memory won't be used.\n",
      "  warnings.warn(warn_msg)\n"
     ]
    },
    {
     "name": "stdout",
     "output_type": "stream",
     "text": [
      "Confidence: 0.61\n",
      "\n",
      "Processing 03016057830513280331001.jpg...\n"
     ]
    },
    {
     "name": "stderr",
     "output_type": "stream",
     "text": [
      "d:\\arfa\\code\\ocr\\venv\\Lib\\site-packages\\torch\\utils\\data\\dataloader.py:665: UserWarning: 'pin_memory' argument is set as true but no accelerator is found, then device pinned memory won't be used.\n",
      "  warnings.warn(warn_msg)\n"
     ]
    },
    {
     "name": "stdout",
     "output_type": "stream",
     "text": [
      "Confidence: 0.12\n",
      "\n",
      "Processing batch 8/60\n",
      "\n",
      "Processing 03016057830513530545001.jpg...\n",
      "Confidence: 0.00\n",
      "\n",
      "Processing 03016057830513955066001.jpg...\n"
     ]
    },
    {
     "name": "stderr",
     "output_type": "stream",
     "text": [
      "d:\\arfa\\code\\ocr\\venv\\Lib\\site-packages\\torch\\utils\\data\\dataloader.py:665: UserWarning: 'pin_memory' argument is set as true but no accelerator is found, then device pinned memory won't be used.\n",
      "  warnings.warn(warn_msg)\n"
     ]
    },
    {
     "name": "stdout",
     "output_type": "stream",
     "text": [
      "Confidence: 0.39\n",
      "\n",
      "Processing 03016057830514050412001.jpg...\n",
      "Confidence: 0.00\n",
      "\n",
      "Processing 03016057830514270163001.jpg...\n"
     ]
    },
    {
     "name": "stderr",
     "output_type": "stream",
     "text": [
      "d:\\arfa\\code\\ocr\\venv\\Lib\\site-packages\\torch\\utils\\data\\dataloader.py:665: UserWarning: 'pin_memory' argument is set as true but no accelerator is found, then device pinned memory won't be used.\n",
      "  warnings.warn(warn_msg)\n"
     ]
    },
    {
     "name": "stdout",
     "output_type": "stream",
     "text": [
      "Confidence: 0.35\n",
      "\n",
      "Processing batch 9/60\n",
      "\n",
      "Processing 03016057830514470846001.jpg...\n",
      "Confidence: 0.00\n",
      "\n",
      "Processing 03016057830515540504001.jpg...\n"
     ]
    },
    {
     "name": "stderr",
     "output_type": "stream",
     "text": [
      "d:\\arfa\\code\\ocr\\venv\\Lib\\site-packages\\torch\\utils\\data\\dataloader.py:665: UserWarning: 'pin_memory' argument is set as true but no accelerator is found, then device pinned memory won't be used.\n",
      "  warnings.warn(warn_msg)\n"
     ]
    },
    {
     "name": "stdout",
     "output_type": "stream",
     "text": [
      "Confidence: 0.25\n",
      "\n",
      "Processing 03016057830523270176001.jpg...\n"
     ]
    },
    {
     "name": "stderr",
     "output_type": "stream",
     "text": [
      "d:\\arfa\\code\\ocr\\venv\\Lib\\site-packages\\torch\\utils\\data\\dataloader.py:665: UserWarning: 'pin_memory' argument is set as true but no accelerator is found, then device pinned memory won't be used.\n",
      "  warnings.warn(warn_msg)\n"
     ]
    },
    {
     "name": "stdout",
     "output_type": "stream",
     "text": [
      "Confidence: 0.10\n",
      "\n",
      "Processing 03016057830523280063001.jpg...\n"
     ]
    },
    {
     "name": "stderr",
     "output_type": "stream",
     "text": [
      "d:\\arfa\\code\\ocr\\venv\\Lib\\site-packages\\torch\\utils\\data\\dataloader.py:665: UserWarning: 'pin_memory' argument is set as true but no accelerator is found, then device pinned memory won't be used.\n",
      "  warnings.warn(warn_msg)\n"
     ]
    },
    {
     "name": "stdout",
     "output_type": "stream",
     "text": [
      "Confidence: 0.38\n",
      "\n",
      "Processing batch 10/60\n",
      "\n",
      "Processing 03016057830523280064001.jpg...\n"
     ]
    },
    {
     "name": "stderr",
     "output_type": "stream",
     "text": [
      "d:\\arfa\\code\\ocr\\venv\\Lib\\site-packages\\torch\\utils\\data\\dataloader.py:665: UserWarning: 'pin_memory' argument is set as true but no accelerator is found, then device pinned memory won't be used.\n",
      "  warnings.warn(warn_msg)\n"
     ]
    },
    {
     "name": "stdout",
     "output_type": "stream",
     "text": [
      "Confidence: 0.42\n",
      "\n",
      "Processing 03016057830523280109001.jpg...\n"
     ]
    },
    {
     "name": "stderr",
     "output_type": "stream",
     "text": [
      "d:\\arfa\\code\\ocr\\venv\\Lib\\site-packages\\torch\\utils\\data\\dataloader.py:665: UserWarning: 'pin_memory' argument is set as true but no accelerator is found, then device pinned memory won't be used.\n",
      "  warnings.warn(warn_msg)\n"
     ]
    },
    {
     "name": "stdout",
     "output_type": "stream",
     "text": [
      "Confidence: 0.85\n",
      "\n",
      "Processing 03016057830523280158001.jpg...\n",
      "Confidence: 0.00\n",
      "\n",
      "Processing 03016057830523280370001.jpg...\n"
     ]
    },
    {
     "name": "stderr",
     "output_type": "stream",
     "text": [
      "d:\\arfa\\code\\ocr\\venv\\Lib\\site-packages\\torch\\utils\\data\\dataloader.py:665: UserWarning: 'pin_memory' argument is set as true but no accelerator is found, then device pinned memory won't be used.\n",
      "  warnings.warn(warn_msg)\n"
     ]
    },
    {
     "name": "stdout",
     "output_type": "stream",
     "text": [
      "Confidence: 0.68\n",
      "\n",
      "Processing batch 11/60\n",
      "\n",
      "Processing 03017057840504075057001.jpg...\n"
     ]
    },
    {
     "name": "stderr",
     "output_type": "stream",
     "text": [
      "d:\\arfa\\code\\ocr\\venv\\Lib\\site-packages\\torch\\utils\\data\\dataloader.py:665: UserWarning: 'pin_memory' argument is set as true but no accelerator is found, then device pinned memory won't be used.\n",
      "  warnings.warn(warn_msg)\n"
     ]
    },
    {
     "name": "stdout",
     "output_type": "stream",
     "text": [
      "Confidence: 0.36\n",
      "\n",
      "Processing 03017057840504475169001.jpg...\n"
     ]
    },
    {
     "name": "stderr",
     "output_type": "stream",
     "text": [
      "d:\\arfa\\code\\ocr\\venv\\Lib\\site-packages\\torch\\utils\\data\\dataloader.py:665: UserWarning: 'pin_memory' argument is set as true but no accelerator is found, then device pinned memory won't be used.\n",
      "  warnings.warn(warn_msg)\n"
     ]
    },
    {
     "name": "stdout",
     "output_type": "stream",
     "text": [
      "Confidence: 0.66\n",
      "\n",
      "Processing 03017057840505546992001.jpg...\n",
      "Confidence: 0.00\n",
      "\n",
      "Processing 03017057840513460611001.jpg...\n",
      "Confidence: 0.00\n",
      "\n",
      "Processing batch 12/60\n",
      "\n",
      "Processing 03017057840514090074001.jpg...\n"
     ]
    },
    {
     "name": "stderr",
     "output_type": "stream",
     "text": [
      "d:\\arfa\\code\\ocr\\venv\\Lib\\site-packages\\torch\\utils\\data\\dataloader.py:665: UserWarning: 'pin_memory' argument is set as true but no accelerator is found, then device pinned memory won't be used.\n",
      "  warnings.warn(warn_msg)\n"
     ]
    },
    {
     "name": "stdout",
     "output_type": "stream",
     "text": [
      "Confidence: 0.15\n",
      "\n",
      "Processing 03017057840514095603001.jpg...\n",
      "Confidence: 0.00\n",
      "\n",
      "Processing 03017057840514095679001.jpg...\n"
     ]
    },
    {
     "name": "stderr",
     "output_type": "stream",
     "text": [
      "d:\\arfa\\code\\ocr\\venv\\Lib\\site-packages\\torch\\utils\\data\\dataloader.py:665: UserWarning: 'pin_memory' argument is set as true but no accelerator is found, then device pinned memory won't be used.\n",
      "  warnings.warn(warn_msg)\n"
     ]
    },
    {
     "name": "stdout",
     "output_type": "stream",
     "text": [
      "Confidence: 0.21\n",
      "\n",
      "Processing 03017057840514095709001.jpg...\n"
     ]
    },
    {
     "name": "stderr",
     "output_type": "stream",
     "text": [
      "d:\\arfa\\code\\ocr\\venv\\Lib\\site-packages\\torch\\utils\\data\\dataloader.py:665: UserWarning: 'pin_memory' argument is set as true but no accelerator is found, then device pinned memory won't be used.\n",
      "  warnings.warn(warn_msg)\n"
     ]
    },
    {
     "name": "stdout",
     "output_type": "stream",
     "text": [
      "Confidence: 0.27\n",
      "\n",
      "Processing batch 13/60\n",
      "\n",
      "Processing 03017057840514470740001.jpg...\n",
      "Confidence: 0.00\n",
      "\n",
      "Processing 03017057840514743346001.jpg...\n",
      "Confidence: 0.00\n",
      "\n",
      "Processing 03017057840514743471001.jpg...\n"
     ]
    },
    {
     "name": "stderr",
     "output_type": "stream",
     "text": [
      "d:\\arfa\\code\\ocr\\venv\\Lib\\site-packages\\torch\\utils\\data\\dataloader.py:665: UserWarning: 'pin_memory' argument is set as true but no accelerator is found, then device pinned memory won't be used.\n",
      "  warnings.warn(warn_msg)\n"
     ]
    },
    {
     "name": "stdout",
     "output_type": "stream",
     "text": [
      "Confidence: 0.31\n",
      "\n",
      "Processing 03017057840514743485001.jpg...\n"
     ]
    },
    {
     "name": "stderr",
     "output_type": "stream",
     "text": [
      "d:\\arfa\\code\\ocr\\venv\\Lib\\site-packages\\torch\\utils\\data\\dataloader.py:665: UserWarning: 'pin_memory' argument is set as true but no accelerator is found, then device pinned memory won't be used.\n",
      "  warnings.warn(warn_msg)\n"
     ]
    },
    {
     "name": "stdout",
     "output_type": "stream",
     "text": [
      "Confidence: 0.19\n",
      "\n",
      "Processing batch 14/60\n",
      "\n",
      "Processing 03017057840515540562001.jpg...\n",
      "Confidence: 0.00\n",
      "\n",
      "Processing 03017057840515541166001.jpg...\n"
     ]
    },
    {
     "name": "stderr",
     "output_type": "stream",
     "text": [
      "d:\\arfa\\code\\ocr\\venv\\Lib\\site-packages\\torch\\utils\\data\\dataloader.py:665: UserWarning: 'pin_memory' argument is set as true but no accelerator is found, then device pinned memory won't be used.\n",
      "  warnings.warn(warn_msg)\n"
     ]
    },
    {
     "name": "stdout",
     "output_type": "stream",
     "text": [
      "Confidence: 0.29\n",
      "\n",
      "Processing 03017057840515880004001.jpg...\n"
     ]
    },
    {
     "name": "stderr",
     "output_type": "stream",
     "text": [
      "d:\\arfa\\code\\ocr\\venv\\Lib\\site-packages\\torch\\utils\\data\\dataloader.py:665: UserWarning: 'pin_memory' argument is set as true but no accelerator is found, then device pinned memory won't be used.\n",
      "  warnings.warn(warn_msg)\n"
     ]
    },
    {
     "name": "stdout",
     "output_type": "stream",
     "text": [
      "Confidence: 0.41\n",
      "\n",
      "Processing 03017057840515885115001.jpg...\n"
     ]
    },
    {
     "name": "stderr",
     "output_type": "stream",
     "text": [
      "d:\\arfa\\code\\ocr\\venv\\Lib\\site-packages\\torch\\utils\\data\\dataloader.py:665: UserWarning: 'pin_memory' argument is set as true but no accelerator is found, then device pinned memory won't be used.\n",
      "  warnings.warn(warn_msg)\n"
     ]
    },
    {
     "name": "stdout",
     "output_type": "stream",
     "text": [
      "Confidence: 0.19\n",
      "\n",
      "Processing batch 15/60\n",
      "\n",
      "Processing 03017057840516435121001.jpg...\n"
     ]
    },
    {
     "name": "stderr",
     "output_type": "stream",
     "text": [
      "d:\\arfa\\code\\ocr\\venv\\Lib\\site-packages\\torch\\utils\\data\\dataloader.py:665: UserWarning: 'pin_memory' argument is set as true but no accelerator is found, then device pinned memory won't be used.\n",
      "  warnings.warn(warn_msg)\n"
     ]
    },
    {
     "name": "stdout",
     "output_type": "stream",
     "text": [
      "Confidence: 0.27\n",
      "\n",
      "Processing 03017057840517810330001.jpg...\n"
     ]
    },
    {
     "name": "stderr",
     "output_type": "stream",
     "text": [
      "d:\\arfa\\code\\ocr\\venv\\Lib\\site-packages\\torch\\utils\\data\\dataloader.py:665: UserWarning: 'pin_memory' argument is set as true but no accelerator is found, then device pinned memory won't be used.\n",
      "  warnings.warn(warn_msg)\n"
     ]
    },
    {
     "name": "stdout",
     "output_type": "stream",
     "text": [
      "Confidence: 0.09\n",
      "\n",
      "Processing 03017057840523280295001.jpg...\n"
     ]
    },
    {
     "name": "stderr",
     "output_type": "stream",
     "text": [
      "d:\\arfa\\code\\ocr\\venv\\Lib\\site-packages\\torch\\utils\\data\\dataloader.py:665: UserWarning: 'pin_memory' argument is set as true but no accelerator is found, then device pinned memory won't be used.\n",
      "  warnings.warn(warn_msg)\n"
     ]
    },
    {
     "name": "stdout",
     "output_type": "stream",
     "text": [
      "Confidence: 0.27\n",
      "\n",
      "Processing 03017057840523335117001.jpg...\n",
      "Confidence: 0.00\n",
      "\n",
      "Processing batch 16/60\n",
      "\n",
      "Processing 03018057850503265148001.jpg...\n"
     ]
    },
    {
     "name": "stderr",
     "output_type": "stream",
     "text": [
      "d:\\arfa\\code\\ocr\\venv\\Lib\\site-packages\\torch\\utils\\data\\dataloader.py:665: UserWarning: 'pin_memory' argument is set as true but no accelerator is found, then device pinned memory won't be used.\n",
      "  warnings.warn(warn_msg)\n"
     ]
    },
    {
     "name": "stdout",
     "output_type": "stream",
     "text": [
      "Confidence: 0.12\n",
      "\n",
      "Processing 03018057850504095241001.jpg...\n",
      "Confidence: 0.00\n",
      "\n",
      "Processing 03018057850504475169001.jpg...\n"
     ]
    },
    {
     "name": "stderr",
     "output_type": "stream",
     "text": [
      "d:\\arfa\\code\\ocr\\venv\\Lib\\site-packages\\torch\\utils\\data\\dataloader.py:665: UserWarning: 'pin_memory' argument is set as true but no accelerator is found, then device pinned memory won't be used.\n",
      "  warnings.warn(warn_msg)\n"
     ]
    },
    {
     "name": "stdout",
     "output_type": "stream",
     "text": [
      "Confidence: 0.25\n",
      "\n",
      "Processing 03018057850504800033001.jpg...\n"
     ]
    },
    {
     "name": "stderr",
     "output_type": "stream",
     "text": [
      "d:\\arfa\\code\\ocr\\venv\\Lib\\site-packages\\torch\\utils\\data\\dataloader.py:665: UserWarning: 'pin_memory' argument is set as true but no accelerator is found, then device pinned memory won't be used.\n",
      "  warnings.warn(warn_msg)\n"
     ]
    },
    {
     "name": "stdout",
     "output_type": "stream",
     "text": [
      "Confidence: 0.12\n",
      "\n",
      "Processing batch 17/60\n",
      "\n",
      "Processing 03018057850505541440001.jpg...\n"
     ]
    },
    {
     "name": "stderr",
     "output_type": "stream",
     "text": [
      "d:\\arfa\\code\\ocr\\venv\\Lib\\site-packages\\torch\\utils\\data\\dataloader.py:665: UserWarning: 'pin_memory' argument is set as true but no accelerator is found, then device pinned memory won't be used.\n",
      "  warnings.warn(warn_msg)\n"
     ]
    },
    {
     "name": "stdout",
     "output_type": "stream",
     "text": [
      "Confidence: 0.33\n",
      "\n",
      "Processing 03018057850505546992001.jpg...\n"
     ]
    },
    {
     "name": "stderr",
     "output_type": "stream",
     "text": [
      "d:\\arfa\\code\\ocr\\venv\\Lib\\site-packages\\torch\\utils\\data\\dataloader.py:665: UserWarning: 'pin_memory' argument is set as true but no accelerator is found, then device pinned memory won't be used.\n",
      "  warnings.warn(warn_msg)\n"
     ]
    },
    {
     "name": "stdout",
     "output_type": "stream",
     "text": [
      "Confidence: 0.10\n",
      "\n",
      "Processing 03018057850506540342001.jpg...\n",
      "Confidence: 0.00\n",
      "\n",
      "Processing 03018057850513260733001.jpg...\n"
     ]
    },
    {
     "name": "stderr",
     "output_type": "stream",
     "text": [
      "d:\\arfa\\code\\ocr\\venv\\Lib\\site-packages\\torch\\utils\\data\\dataloader.py:665: UserWarning: 'pin_memory' argument is set as true but no accelerator is found, then device pinned memory won't be used.\n",
      "  warnings.warn(warn_msg)\n"
     ]
    },
    {
     "name": "stdout",
     "output_type": "stream",
     "text": [
      "Confidence: 0.11\n",
      "\n",
      "Processing batch 18/60\n",
      "\n",
      "Processing 03018057850513280512001.jpg...\n"
     ]
    },
    {
     "name": "stderr",
     "output_type": "stream",
     "text": [
      "d:\\arfa\\code\\ocr\\venv\\Lib\\site-packages\\torch\\utils\\data\\dataloader.py:665: UserWarning: 'pin_memory' argument is set as true but no accelerator is found, then device pinned memory won't be used.\n",
      "  warnings.warn(warn_msg)\n"
     ]
    },
    {
     "name": "stdout",
     "output_type": "stream",
     "text": [
      "Confidence: 0.23\n",
      "\n",
      "Processing 03018057850513280745001.jpg...\n"
     ]
    },
    {
     "name": "stderr",
     "output_type": "stream",
     "text": [
      "d:\\arfa\\code\\ocr\\venv\\Lib\\site-packages\\torch\\utils\\data\\dataloader.py:665: UserWarning: 'pin_memory' argument is set as true but no accelerator is found, then device pinned memory won't be used.\n",
      "  warnings.warn(warn_msg)\n"
     ]
    },
    {
     "name": "stdout",
     "output_type": "stream",
     "text": [
      "Confidence: 0.31\n",
      "\n",
      "Processing 03018057850513340830001.jpg...\n",
      "Confidence: 0.00\n",
      "\n",
      "Processing 03018057850513390423001.jpg...\n"
     ]
    },
    {
     "name": "stderr",
     "output_type": "stream",
     "text": [
      "d:\\arfa\\code\\ocr\\venv\\Lib\\site-packages\\torch\\utils\\data\\dataloader.py:665: UserWarning: 'pin_memory' argument is set as true but no accelerator is found, then device pinned memory won't be used.\n",
      "  warnings.warn(warn_msg)\n"
     ]
    },
    {
     "name": "stdout",
     "output_type": "stream",
     "text": [
      "Confidence: 0.33\n",
      "\n",
      "Processing batch 19/60\n",
      "\n",
      "Processing 03018057850513391136001.jpg...\n",
      "Confidence: 0.00\n",
      "\n",
      "Processing 03018057850514050151001.jpg...\n"
     ]
    },
    {
     "name": "stderr",
     "output_type": "stream",
     "text": [
      "d:\\arfa\\code\\ocr\\venv\\Lib\\site-packages\\torch\\utils\\data\\dataloader.py:665: UserWarning: 'pin_memory' argument is set as true but no accelerator is found, then device pinned memory won't be used.\n",
      "  warnings.warn(warn_msg)\n"
     ]
    },
    {
     "name": "stdout",
     "output_type": "stream",
     "text": [
      "Confidence: 0.14\n",
      "\n",
      "Processing 03018057850514050289001.jpg...\n"
     ]
    },
    {
     "name": "stderr",
     "output_type": "stream",
     "text": [
      "d:\\arfa\\code\\ocr\\venv\\Lib\\site-packages\\torch\\utils\\data\\dataloader.py:665: UserWarning: 'pin_memory' argument is set as true but no accelerator is found, then device pinned memory won't be used.\n",
      "  warnings.warn(warn_msg)\n"
     ]
    },
    {
     "name": "stdout",
     "output_type": "stream",
     "text": [
      "Confidence: 0.11\n",
      "\n",
      "Processing 03018057850514090074001.jpg...\n"
     ]
    },
    {
     "name": "stderr",
     "output_type": "stream",
     "text": [
      "d:\\arfa\\code\\ocr\\venv\\Lib\\site-packages\\torch\\utils\\data\\dataloader.py:665: UserWarning: 'pin_memory' argument is set as true but no accelerator is found, then device pinned memory won't be used.\n",
      "  warnings.warn(warn_msg)\n"
     ]
    },
    {
     "name": "stdout",
     "output_type": "stream",
     "text": [
      "Confidence: 0.29\n",
      "\n",
      "Processing batch 20/60\n",
      "\n",
      "Processing 03018057850514095679001.jpg...\n"
     ]
    },
    {
     "name": "stderr",
     "output_type": "stream",
     "text": [
      "d:\\arfa\\code\\ocr\\venv\\Lib\\site-packages\\torch\\utils\\data\\dataloader.py:665: UserWarning: 'pin_memory' argument is set as true but no accelerator is found, then device pinned memory won't be used.\n",
      "  warnings.warn(warn_msg)\n"
     ]
    },
    {
     "name": "stdout",
     "output_type": "stream",
     "text": [
      "Confidence: 0.15\n",
      "\n",
      "Processing 03018057850514095709001.jpg...\n"
     ]
    },
    {
     "name": "stderr",
     "output_type": "stream",
     "text": [
      "d:\\arfa\\code\\ocr\\venv\\Lib\\site-packages\\torch\\utils\\data\\dataloader.py:665: UserWarning: 'pin_memory' argument is set as true but no accelerator is found, then device pinned memory won't be used.\n",
      "  warnings.warn(warn_msg)\n"
     ]
    },
    {
     "name": "stdout",
     "output_type": "stream",
     "text": [
      "Confidence: 0.51\n",
      "\n",
      "Processing 03018057850514270369001.jpg...\n"
     ]
    },
    {
     "name": "stderr",
     "output_type": "stream",
     "text": [
      "d:\\arfa\\code\\ocr\\venv\\Lib\\site-packages\\torch\\utils\\data\\dataloader.py:665: UserWarning: 'pin_memory' argument is set as true but no accelerator is found, then device pinned memory won't be used.\n",
      "  warnings.warn(warn_msg)\n"
     ]
    },
    {
     "name": "stdout",
     "output_type": "stream",
     "text": [
      "Confidence: 0.49\n",
      "\n",
      "Processing 03018057850514470740001.jpg...\n",
      "Confidence: 0.00\n",
      "\n",
      "Processing batch 21/60\n",
      "\n",
      "Processing 03019057860503260267001.jpg...\n"
     ]
    },
    {
     "name": "stderr",
     "output_type": "stream",
     "text": [
      "d:\\arfa\\code\\ocr\\venv\\Lib\\site-packages\\torch\\utils\\data\\dataloader.py:665: UserWarning: 'pin_memory' argument is set as true but no accelerator is found, then device pinned memory won't be used.\n",
      "  warnings.warn(warn_msg)\n"
     ]
    },
    {
     "name": "stdout",
     "output_type": "stream",
     "text": [
      "Confidence: 0.22\n",
      "\n",
      "Processing 03019057860503280010001.jpg...\n"
     ]
    },
    {
     "name": "stderr",
     "output_type": "stream",
     "text": [
      "d:\\arfa\\code\\ocr\\venv\\Lib\\site-packages\\torch\\utils\\data\\dataloader.py:665: UserWarning: 'pin_memory' argument is set as true but no accelerator is found, then device pinned memory won't be used.\n",
      "  warnings.warn(warn_msg)\n"
     ]
    },
    {
     "name": "stdout",
     "output_type": "stream",
     "text": [
      "Confidence: 0.20\n",
      "\n",
      "Processing 03019057860503280227001.jpg...\n"
     ]
    },
    {
     "name": "stderr",
     "output_type": "stream",
     "text": [
      "d:\\arfa\\code\\ocr\\venv\\Lib\\site-packages\\torch\\utils\\data\\dataloader.py:665: UserWarning: 'pin_memory' argument is set as true but no accelerator is found, then device pinned memory won't be used.\n",
      "  warnings.warn(warn_msg)\n"
     ]
    },
    {
     "name": "stdout",
     "output_type": "stream",
     "text": [
      "Confidence: 0.49\n",
      "\n",
      "Processing 03019057860503340522001.jpg...\n",
      "Confidence: 0.00\n",
      "\n",
      "Processing batch 22/60\n",
      "\n",
      "Processing 03019057860503340856001.jpg...\n",
      "Confidence: 0.00\n",
      "\n",
      "Processing 03019057860503475144001.jpg...\n",
      "Confidence: 0.00\n",
      "\n",
      "Processing 03019057860503710206001.jpg...\n"
     ]
    },
    {
     "name": "stderr",
     "output_type": "stream",
     "text": [
      "d:\\arfa\\code\\ocr\\venv\\Lib\\site-packages\\torch\\utils\\data\\dataloader.py:665: UserWarning: 'pin_memory' argument is set as true but no accelerator is found, then device pinned memory won't be used.\n",
      "  warnings.warn(warn_msg)\n"
     ]
    },
    {
     "name": "stdout",
     "output_type": "stream",
     "text": [
      "Confidence: 0.49\n",
      "\n",
      "Processing 03019057860504050041001.jpg...\n"
     ]
    },
    {
     "name": "stderr",
     "output_type": "stream",
     "text": [
      "d:\\arfa\\code\\ocr\\venv\\Lib\\site-packages\\torch\\utils\\data\\dataloader.py:665: UserWarning: 'pin_memory' argument is set as true but no accelerator is found, then device pinned memory won't be used.\n",
      "  warnings.warn(warn_msg)\n"
     ]
    },
    {
     "name": "stdout",
     "output_type": "stream",
     "text": [
      "Confidence: 0.27\n",
      "\n",
      "Processing batch 23/60\n",
      "\n",
      "Processing 03019057860504050080001.jpg...\n"
     ]
    },
    {
     "name": "stderr",
     "output_type": "stream",
     "text": [
      "d:\\arfa\\code\\ocr\\venv\\Lib\\site-packages\\torch\\utils\\data\\dataloader.py:665: UserWarning: 'pin_memory' argument is set as true but no accelerator is found, then device pinned memory won't be used.\n",
      "  warnings.warn(warn_msg)\n"
     ]
    },
    {
     "name": "stdout",
     "output_type": "stream",
     "text": [
      "Confidence: 0.20\n",
      "\n",
      "Processing 03019057860504095446001.jpg...\n"
     ]
    },
    {
     "name": "stderr",
     "output_type": "stream",
     "text": [
      "d:\\arfa\\code\\ocr\\venv\\Lib\\site-packages\\torch\\utils\\data\\dataloader.py:665: UserWarning: 'pin_memory' argument is set as true but no accelerator is found, then device pinned memory won't be used.\n",
      "  warnings.warn(warn_msg)\n"
     ]
    },
    {
     "name": "stdout",
     "output_type": "stream",
     "text": [
      "Confidence: 0.06\n",
      "\n",
      "Processing 03019057860504095479001.jpg...\n",
      "Confidence: 0.00\n",
      "\n",
      "Processing 03019057860504095768001.jpg...\n",
      "Confidence: 0.00\n",
      "\n",
      "Processing batch 24/60\n",
      "\n",
      "Processing 03019057860504130236001.jpg...\n"
     ]
    },
    {
     "name": "stderr",
     "output_type": "stream",
     "text": [
      "d:\\arfa\\code\\ocr\\venv\\Lib\\site-packages\\torch\\utils\\data\\dataloader.py:665: UserWarning: 'pin_memory' argument is set as true but no accelerator is found, then device pinned memory won't be used.\n",
      "  warnings.warn(warn_msg)\n"
     ]
    },
    {
     "name": "stdout",
     "output_type": "stream",
     "text": [
      "Confidence: 0.26\n",
      "\n",
      "Processing 03019057860504530827001.jpg...\n"
     ]
    },
    {
     "name": "stderr",
     "output_type": "stream",
     "text": [
      "d:\\arfa\\code\\ocr\\venv\\Lib\\site-packages\\torch\\utils\\data\\dataloader.py:665: UserWarning: 'pin_memory' argument is set as true but no accelerator is found, then device pinned memory won't be used.\n",
      "  warnings.warn(warn_msg)\n"
     ]
    },
    {
     "name": "stdout",
     "output_type": "stream",
     "text": [
      "Confidence: 0.73\n",
      "\n",
      "Processing 03019057860504595071001.jpg...\n",
      "Confidence: 0.00\n",
      "\n",
      "Processing 03019057860504595108001.jpg...\n",
      "Confidence: 0.00\n",
      "\n",
      "Processing batch 25/60\n",
      "\n",
      "Processing 03019057860504740116001.jpg...\n"
     ]
    },
    {
     "name": "stderr",
     "output_type": "stream",
     "text": [
      "d:\\arfa\\code\\ocr\\venv\\Lib\\site-packages\\torch\\utils\\data\\dataloader.py:665: UserWarning: 'pin_memory' argument is set as true but no accelerator is found, then device pinned memory won't be used.\n",
      "  warnings.warn(warn_msg)\n"
     ]
    },
    {
     "name": "stdout",
     "output_type": "stream",
     "text": [
      "Confidence: 0.61\n",
      "\n",
      "Processing 03019057860504741110001.jpg...\n"
     ]
    },
    {
     "name": "stderr",
     "output_type": "stream",
     "text": [
      "d:\\arfa\\code\\ocr\\venv\\Lib\\site-packages\\torch\\utils\\data\\dataloader.py:665: UserWarning: 'pin_memory' argument is set as true but no accelerator is found, then device pinned memory won't be used.\n",
      "  warnings.warn(warn_msg)\n"
     ]
    },
    {
     "name": "stdout",
     "output_type": "stream",
     "text": [
      "Confidence: 0.26\n",
      "\n",
      "Processing 03019057860504741747001.jpg...\n",
      "Confidence: 0.00\n",
      "\n",
      "Processing 03019057860504743143001.jpg...\n",
      "Confidence: 0.00\n",
      "\n",
      "Processing batch 26/60\n",
      "\n",
      "Processing 03020057870503250303001.jpg...\n"
     ]
    },
    {
     "name": "stderr",
     "output_type": "stream",
     "text": [
      "d:\\arfa\\code\\ocr\\venv\\Lib\\site-packages\\torch\\utils\\data\\dataloader.py:665: UserWarning: 'pin_memory' argument is set as true but no accelerator is found, then device pinned memory won't be used.\n",
      "  warnings.warn(warn_msg)\n"
     ]
    },
    {
     "name": "stdout",
     "output_type": "stream",
     "text": [
      "Confidence: 0.17\n",
      "\n",
      "Processing 03020057870503260267001.jpg...\n"
     ]
    },
    {
     "name": "stderr",
     "output_type": "stream",
     "text": [
      "d:\\arfa\\code\\ocr\\venv\\Lib\\site-packages\\torch\\utils\\data\\dataloader.py:665: UserWarning: 'pin_memory' argument is set as true but no accelerator is found, then device pinned memory won't be used.\n",
      "  warnings.warn(warn_msg)\n"
     ]
    },
    {
     "name": "stdout",
     "output_type": "stream",
     "text": [
      "Confidence: 0.17\n",
      "\n",
      "Processing 03020057870503280010001.jpg...\n"
     ]
    },
    {
     "name": "stderr",
     "output_type": "stream",
     "text": [
      "d:\\arfa\\code\\ocr\\venv\\Lib\\site-packages\\torch\\utils\\data\\dataloader.py:665: UserWarning: 'pin_memory' argument is set as true but no accelerator is found, then device pinned memory won't be used.\n",
      "  warnings.warn(warn_msg)\n"
     ]
    },
    {
     "name": "stdout",
     "output_type": "stream",
     "text": [
      "Confidence: 0.34\n",
      "\n",
      "Processing 03020057870503280227001.jpg...\n"
     ]
    },
    {
     "name": "stderr",
     "output_type": "stream",
     "text": [
      "d:\\arfa\\code\\ocr\\venv\\Lib\\site-packages\\torch\\utils\\data\\dataloader.py:665: UserWarning: 'pin_memory' argument is set as true but no accelerator is found, then device pinned memory won't be used.\n",
      "  warnings.warn(warn_msg)\n"
     ]
    },
    {
     "name": "stdout",
     "output_type": "stream",
     "text": [
      "Confidence: 0.17\n",
      "\n",
      "Processing batch 27/60\n",
      "\n",
      "Processing 03020057870503340522001.jpg...\n",
      "Confidence: 0.00\n",
      "\n",
      "Processing 03020057870503390615001.jpg...\n"
     ]
    },
    {
     "name": "stderr",
     "output_type": "stream",
     "text": [
      "d:\\arfa\\code\\ocr\\venv\\Lib\\site-packages\\torch\\utils\\data\\dataloader.py:665: UserWarning: 'pin_memory' argument is set as true but no accelerator is found, then device pinned memory won't be used.\n",
      "  warnings.warn(warn_msg)\n"
     ]
    },
    {
     "name": "stdout",
     "output_type": "stream",
     "text": [
      "Confidence: 0.31\n",
      "\n",
      "Processing 03020057870503475144001.jpg...\n"
     ]
    },
    {
     "name": "stderr",
     "output_type": "stream",
     "text": [
      "d:\\arfa\\code\\ocr\\venv\\Lib\\site-packages\\torch\\utils\\data\\dataloader.py:665: UserWarning: 'pin_memory' argument is set as true but no accelerator is found, then device pinned memory won't be used.\n",
      "  warnings.warn(warn_msg)\n"
     ]
    },
    {
     "name": "stdout",
     "output_type": "stream",
     "text": [
      "Confidence: 0.12\n",
      "\n",
      "Processing 03020057870503710206001.jpg...\n"
     ]
    },
    {
     "name": "stderr",
     "output_type": "stream",
     "text": [
      "d:\\arfa\\code\\ocr\\venv\\Lib\\site-packages\\torch\\utils\\data\\dataloader.py:665: UserWarning: 'pin_memory' argument is set as true but no accelerator is found, then device pinned memory won't be used.\n",
      "  warnings.warn(warn_msg)\n"
     ]
    },
    {
     "name": "stdout",
     "output_type": "stream",
     "text": [
      "Confidence: 0.67\n",
      "\n",
      "Processing batch 28/60\n",
      "\n",
      "Processing 03020057870504050041001.jpg...\n"
     ]
    },
    {
     "name": "stderr",
     "output_type": "stream",
     "text": [
      "d:\\arfa\\code\\ocr\\venv\\Lib\\site-packages\\torch\\utils\\data\\dataloader.py:665: UserWarning: 'pin_memory' argument is set as true but no accelerator is found, then device pinned memory won't be used.\n",
      "  warnings.warn(warn_msg)\n"
     ]
    },
    {
     "name": "stdout",
     "output_type": "stream",
     "text": [
      "Confidence: 0.19\n",
      "\n",
      "Processing 03020057870504050080001.jpg...\n",
      "Confidence: 0.00\n",
      "\n",
      "Processing 03020057870504051423001.jpg...\n"
     ]
    },
    {
     "name": "stderr",
     "output_type": "stream",
     "text": [
      "d:\\arfa\\code\\ocr\\venv\\Lib\\site-packages\\torch\\utils\\data\\dataloader.py:665: UserWarning: 'pin_memory' argument is set as true but no accelerator is found, then device pinned memory won't be used.\n",
      "  warnings.warn(warn_msg)\n"
     ]
    },
    {
     "name": "stdout",
     "output_type": "stream",
     "text": [
      "Confidence: 0.14\n",
      "\n",
      "Processing 03020057870504095000001.jpg...\n"
     ]
    },
    {
     "name": "stderr",
     "output_type": "stream",
     "text": [
      "d:\\arfa\\code\\ocr\\venv\\Lib\\site-packages\\torch\\utils\\data\\dataloader.py:665: UserWarning: 'pin_memory' argument is set as true but no accelerator is found, then device pinned memory won't be used.\n",
      "  warnings.warn(warn_msg)\n"
     ]
    },
    {
     "name": "stdout",
     "output_type": "stream",
     "text": [
      "Confidence: 0.15\n",
      "\n",
      "Processing batch 29/60\n",
      "\n",
      "Processing 03020057870504095446001.jpg...\n"
     ]
    },
    {
     "name": "stderr",
     "output_type": "stream",
     "text": [
      "d:\\arfa\\code\\ocr\\venv\\Lib\\site-packages\\torch\\utils\\data\\dataloader.py:665: UserWarning: 'pin_memory' argument is set as true but no accelerator is found, then device pinned memory won't be used.\n",
      "  warnings.warn(warn_msg)\n"
     ]
    },
    {
     "name": "stdout",
     "output_type": "stream",
     "text": [
      "Confidence: 0.10\n",
      "\n",
      "Processing 03020057870504130236001.jpg...\n",
      "Confidence: 0.00\n",
      "\n",
      "Processing 03020057870504530827001.jpg...\n"
     ]
    },
    {
     "name": "stderr",
     "output_type": "stream",
     "text": [
      "d:\\arfa\\code\\ocr\\venv\\Lib\\site-packages\\torch\\utils\\data\\dataloader.py:665: UserWarning: 'pin_memory' argument is set as true but no accelerator is found, then device pinned memory won't be used.\n",
      "  warnings.warn(warn_msg)\n"
     ]
    },
    {
     "name": "stdout",
     "output_type": "stream",
     "text": [
      "Confidence: 0.26\n",
      "\n",
      "Processing 03020057870504595108001.jpg...\n",
      "Confidence: 0.00\n",
      "\n",
      "Processing batch 30/60\n",
      "\n",
      "Processing 03020057870504740116001.jpg...\n"
     ]
    },
    {
     "name": "stderr",
     "output_type": "stream",
     "text": [
      "d:\\arfa\\code\\ocr\\venv\\Lib\\site-packages\\torch\\utils\\data\\dataloader.py:665: UserWarning: 'pin_memory' argument is set as true but no accelerator is found, then device pinned memory won't be used.\n",
      "  warnings.warn(warn_msg)\n"
     ]
    },
    {
     "name": "stdout",
     "output_type": "stream",
     "text": [
      "Confidence: 0.39\n",
      "\n",
      "Processing 03020057870504741110001.jpg...\n"
     ]
    },
    {
     "name": "stderr",
     "output_type": "stream",
     "text": [
      "d:\\arfa\\code\\ocr\\venv\\Lib\\site-packages\\torch\\utils\\data\\dataloader.py:665: UserWarning: 'pin_memory' argument is set as true but no accelerator is found, then device pinned memory won't be used.\n",
      "  warnings.warn(warn_msg)\n"
     ]
    },
    {
     "name": "stdout",
     "output_type": "stream",
     "text": [
      "Confidence: 0.09\n",
      "\n",
      "Processing 03020057870504741747001.jpg...\n"
     ]
    },
    {
     "name": "stderr",
     "output_type": "stream",
     "text": [
      "d:\\arfa\\code\\ocr\\venv\\Lib\\site-packages\\torch\\utils\\data\\dataloader.py:665: UserWarning: 'pin_memory' argument is set as true but no accelerator is found, then device pinned memory won't be used.\n",
      "  warnings.warn(warn_msg)\n"
     ]
    },
    {
     "name": "stdout",
     "output_type": "stream",
     "text": [
      "Confidence: 0.27\n",
      "\n",
      "Processing 03020057870504743143001.jpg...\n"
     ]
    },
    {
     "name": "stderr",
     "output_type": "stream",
     "text": [
      "d:\\arfa\\code\\ocr\\venv\\Lib\\site-packages\\torch\\utils\\data\\dataloader.py:665: UserWarning: 'pin_memory' argument is set as true but no accelerator is found, then device pinned memory won't be used.\n",
      "  warnings.warn(warn_msg)\n"
     ]
    },
    {
     "name": "stdout",
     "output_type": "stream",
     "text": [
      "Confidence: 0.21\n",
      "\n",
      "Processing batch 31/60\n",
      "\n",
      "Processing 03021057900503250743001.jpg...\n"
     ]
    },
    {
     "name": "stderr",
     "output_type": "stream",
     "text": [
      "d:\\arfa\\code\\ocr\\venv\\Lib\\site-packages\\torch\\utils\\data\\dataloader.py:665: UserWarning: 'pin_memory' argument is set as true but no accelerator is found, then device pinned memory won't be used.\n",
      "  warnings.warn(warn_msg)\n"
     ]
    },
    {
     "name": "stdout",
     "output_type": "stream",
     "text": [
      "Confidence: 0.03\n",
      "\n",
      "Processing 03021057900503340551001.jpg...\n"
     ]
    },
    {
     "name": "stderr",
     "output_type": "stream",
     "text": [
      "d:\\arfa\\code\\ocr\\venv\\Lib\\site-packages\\torch\\utils\\data\\dataloader.py:665: UserWarning: 'pin_memory' argument is set as true but no accelerator is found, then device pinned memory won't be used.\n",
      "  warnings.warn(warn_msg)\n"
     ]
    },
    {
     "name": "stdout",
     "output_type": "stream",
     "text": [
      "Confidence: 0.02\n",
      "\n",
      "Processing 03021057900503390711001.jpg...\n"
     ]
    },
    {
     "name": "stderr",
     "output_type": "stream",
     "text": [
      "d:\\arfa\\code\\ocr\\venv\\Lib\\site-packages\\torch\\utils\\data\\dataloader.py:665: UserWarning: 'pin_memory' argument is set as true but no accelerator is found, then device pinned memory won't be used.\n",
      "  warnings.warn(warn_msg)\n"
     ]
    },
    {
     "name": "stdout",
     "output_type": "stream",
     "text": [
      "Confidence: 0.41\n",
      "\n",
      "Processing 03021057900503390758001.jpg...\n"
     ]
    },
    {
     "name": "stderr",
     "output_type": "stream",
     "text": [
      "d:\\arfa\\code\\ocr\\venv\\Lib\\site-packages\\torch\\utils\\data\\dataloader.py:665: UserWarning: 'pin_memory' argument is set as true but no accelerator is found, then device pinned memory won't be used.\n",
      "  warnings.warn(warn_msg)\n"
     ]
    },
    {
     "name": "stdout",
     "output_type": "stream",
     "text": [
      "Confidence: 0.09\n",
      "\n",
      "Processing batch 32/60\n",
      "\n",
      "Processing 03021057900503460103001.jpg...\n"
     ]
    },
    {
     "name": "stderr",
     "output_type": "stream",
     "text": [
      "d:\\arfa\\code\\ocr\\venv\\Lib\\site-packages\\torch\\utils\\data\\dataloader.py:665: UserWarning: 'pin_memory' argument is set as true but no accelerator is found, then device pinned memory won't be used.\n",
      "  warnings.warn(warn_msg)\n"
     ]
    },
    {
     "name": "stdout",
     "output_type": "stream",
     "text": [
      "Confidence: 0.23\n",
      "\n",
      "Processing 03021057900503800225001.jpg...\n"
     ]
    },
    {
     "name": "stderr",
     "output_type": "stream",
     "text": [
      "d:\\arfa\\code\\ocr\\venv\\Lib\\site-packages\\torch\\utils\\data\\dataloader.py:665: UserWarning: 'pin_memory' argument is set as true but no accelerator is found, then device pinned memory won't be used.\n",
      "  warnings.warn(warn_msg)\n"
     ]
    },
    {
     "name": "stdout",
     "output_type": "stream",
     "text": [
      "Confidence: 0.46\n",
      "\n",
      "Processing 03021057900503800896001.jpg...\n"
     ]
    },
    {
     "name": "stderr",
     "output_type": "stream",
     "text": [
      "d:\\arfa\\code\\ocr\\venv\\Lib\\site-packages\\torch\\utils\\data\\dataloader.py:665: UserWarning: 'pin_memory' argument is set as true but no accelerator is found, then device pinned memory won't be used.\n",
      "  warnings.warn(warn_msg)\n"
     ]
    },
    {
     "name": "stdout",
     "output_type": "stream",
     "text": [
      "Confidence: 0.09\n",
      "\n",
      "Processing 03021057900504095276001.jpg...\n",
      "Confidence: 0.00\n",
      "\n",
      "Processing batch 33/60\n",
      "\n",
      "Processing 03021057900504095460001.jpg...\n",
      "Confidence: 0.00\n",
      "\n",
      "Processing 03021057900504100968001.jpg...\n",
      "Confidence: 0.00\n",
      "\n",
      "Processing 03021057900504148252001.jpg...\n",
      "Confidence: 0.00\n",
      "\n",
      "Processing 03021057900504210208001.jpg...\n",
      "Confidence: 0.00\n",
      "\n",
      "Processing batch 34/60\n",
      "\n",
      "Processing 03021057900504740594001.jpg...\n"
     ]
    },
    {
     "name": "stderr",
     "output_type": "stream",
     "text": [
      "d:\\arfa\\code\\ocr\\venv\\Lib\\site-packages\\torch\\utils\\data\\dataloader.py:665: UserWarning: 'pin_memory' argument is set as true but no accelerator is found, then device pinned memory won't be used.\n",
      "  warnings.warn(warn_msg)\n"
     ]
    },
    {
     "name": "stdout",
     "output_type": "stream",
     "text": [
      "Confidence: 0.07\n",
      "\n",
      "Processing 03021057900504740596001.jpg...\n"
     ]
    },
    {
     "name": "stderr",
     "output_type": "stream",
     "text": [
      "d:\\arfa\\code\\ocr\\venv\\Lib\\site-packages\\torch\\utils\\data\\dataloader.py:665: UserWarning: 'pin_memory' argument is set as true but no accelerator is found, then device pinned memory won't be used.\n",
      "  warnings.warn(warn_msg)\n"
     ]
    },
    {
     "name": "stdout",
     "output_type": "stream",
     "text": [
      "Confidence: 0.31\n",
      "\n",
      "Processing 03021057900504741016001.jpg...\n",
      "Confidence: 0.00\n",
      "\n",
      "Processing 03021057900505340956001.jpg...\n",
      "Confidence: 0.00\n",
      "\n",
      "Processing batch 35/60\n",
      "\n",
      "Processing 03021057900505390183001.jpg...\n",
      "Confidence: 0.00\n",
      "\n",
      "Processing 03021057900505975346001.jpg...\n"
     ]
    },
    {
     "name": "stderr",
     "output_type": "stream",
     "text": [
      "d:\\arfa\\code\\ocr\\venv\\Lib\\site-packages\\torch\\utils\\data\\dataloader.py:665: UserWarning: 'pin_memory' argument is set as true but no accelerator is found, then device pinned memory won't be used.\n",
      "  warnings.warn(warn_msg)\n"
     ]
    },
    {
     "name": "stdout",
     "output_type": "stream",
     "text": [
      "Confidence: 0.30\n",
      "\n",
      "Processing 03021057900505985280001.jpg...\n"
     ]
    },
    {
     "name": "stderr",
     "output_type": "stream",
     "text": [
      "d:\\arfa\\code\\ocr\\venv\\Lib\\site-packages\\torch\\utils\\data\\dataloader.py:665: UserWarning: 'pin_memory' argument is set as true but no accelerator is found, then device pinned memory won't be used.\n",
      "  warnings.warn(warn_msg)\n"
     ]
    },
    {
     "name": "stdout",
     "output_type": "stream",
     "text": [
      "Confidence: 0.13\n",
      "\n",
      "Processing 03021057900513295111001.jpg...\n",
      "Confidence: 0.00\n",
      "\n",
      "Processing batch 36/60\n",
      "\n",
      "Processing 03024057930503260989001.jpg...\n"
     ]
    },
    {
     "name": "stderr",
     "output_type": "stream",
     "text": [
      "d:\\arfa\\code\\ocr\\venv\\Lib\\site-packages\\torch\\utils\\data\\dataloader.py:665: UserWarning: 'pin_memory' argument is set as true but no accelerator is found, then device pinned memory won't be used.\n",
      "  warnings.warn(warn_msg)\n"
     ]
    },
    {
     "name": "stdout",
     "output_type": "stream",
     "text": [
      "Confidence: 0.33\n",
      "\n",
      "Processing 03024057930503335223001.jpg...\n",
      "Confidence: 0.00\n",
      "\n",
      "Processing 03024057930503335310001.jpg...\n",
      "Confidence: 0.00\n",
      "\n",
      "Processing 03024057930503335364001.jpg...\n"
     ]
    },
    {
     "name": "stderr",
     "output_type": "stream",
     "text": [
      "d:\\arfa\\code\\ocr\\venv\\Lib\\site-packages\\torch\\utils\\data\\dataloader.py:665: UserWarning: 'pin_memory' argument is set as true but no accelerator is found, then device pinned memory won't be used.\n",
      "  warnings.warn(warn_msg)\n"
     ]
    },
    {
     "name": "stdout",
     "output_type": "stream",
     "text": [
      "Confidence: 0.15\n",
      "\n",
      "Processing batch 37/60\n",
      "\n",
      "Processing 03024057930503335434001.jpg...\n"
     ]
    },
    {
     "name": "stderr",
     "output_type": "stream",
     "text": [
      "d:\\arfa\\code\\ocr\\venv\\Lib\\site-packages\\torch\\utils\\data\\dataloader.py:665: UserWarning: 'pin_memory' argument is set as true but no accelerator is found, then device pinned memory won't be used.\n",
      "  warnings.warn(warn_msg)\n"
     ]
    },
    {
     "name": "stdout",
     "output_type": "stream",
     "text": [
      "Confidence: 0.13\n",
      "\n",
      "Processing 03024057930503340073001.jpg...\n"
     ]
    },
    {
     "name": "stderr",
     "output_type": "stream",
     "text": [
      "d:\\arfa\\code\\ocr\\venv\\Lib\\site-packages\\torch\\utils\\data\\dataloader.py:665: UserWarning: 'pin_memory' argument is set as true but no accelerator is found, then device pinned memory won't be used.\n",
      "  warnings.warn(warn_msg)\n"
     ]
    },
    {
     "name": "stdout",
     "output_type": "stream",
     "text": [
      "Confidence: 0.09\n",
      "\n",
      "Processing 03024057930503390774001.jpg...\n"
     ]
    },
    {
     "name": "stderr",
     "output_type": "stream",
     "text": [
      "d:\\arfa\\code\\ocr\\venv\\Lib\\site-packages\\torch\\utils\\data\\dataloader.py:665: UserWarning: 'pin_memory' argument is set as true but no accelerator is found, then device pinned memory won't be used.\n",
      "  warnings.warn(warn_msg)\n"
     ]
    },
    {
     "name": "stdout",
     "output_type": "stream",
     "text": [
      "Confidence: 0.98\n",
      "\n",
      "Processing 03024057930503450625001.jpg...\n"
     ]
    },
    {
     "name": "stderr",
     "output_type": "stream",
     "text": [
      "d:\\arfa\\code\\ocr\\venv\\Lib\\site-packages\\torch\\utils\\data\\dataloader.py:665: UserWarning: 'pin_memory' argument is set as true but no accelerator is found, then device pinned memory won't be used.\n",
      "  warnings.warn(warn_msg)\n"
     ]
    },
    {
     "name": "stdout",
     "output_type": "stream",
     "text": [
      "Confidence: 0.28\n",
      "\n",
      "Processing batch 38/60\n",
      "\n",
      "Processing 03024057930503550052001.jpg...\n"
     ]
    },
    {
     "name": "stderr",
     "output_type": "stream",
     "text": [
      "d:\\arfa\\code\\ocr\\venv\\Lib\\site-packages\\torch\\utils\\data\\dataloader.py:665: UserWarning: 'pin_memory' argument is set as true but no accelerator is found, then device pinned memory won't be used.\n",
      "  warnings.warn(warn_msg)\n"
     ]
    },
    {
     "name": "stdout",
     "output_type": "stream",
     "text": [
      "Confidence: 0.20\n",
      "\n",
      "Processing 03024057930503635024001.jpg...\n"
     ]
    },
    {
     "name": "stderr",
     "output_type": "stream",
     "text": [
      "d:\\arfa\\code\\ocr\\venv\\Lib\\site-packages\\torch\\utils\\data\\dataloader.py:665: UserWarning: 'pin_memory' argument is set as true but no accelerator is found, then device pinned memory won't be used.\n",
      "  warnings.warn(warn_msg)\n"
     ]
    },
    {
     "name": "stdout",
     "output_type": "stream",
     "text": [
      "Confidence: 0.46\n",
      "\n",
      "Processing 03024057930503670284001.jpg...\n"
     ]
    },
    {
     "name": "stderr",
     "output_type": "stream",
     "text": [
      "d:\\arfa\\code\\ocr\\venv\\Lib\\site-packages\\torch\\utils\\data\\dataloader.py:665: UserWarning: 'pin_memory' argument is set as true but no accelerator is found, then device pinned memory won't be used.\n",
      "  warnings.warn(warn_msg)\n"
     ]
    },
    {
     "name": "stdout",
     "output_type": "stream",
     "text": [
      "Confidence: 0.67\n",
      "\n",
      "Processing 03024057930503830063001.jpg...\n",
      "Confidence: 0.00\n",
      "\n",
      "Processing batch 39/60\n",
      "\n",
      "Processing 03024057930504051334001.jpg...\n",
      "Confidence: 0.00\n",
      "\n",
      "Processing 03024057930504051408001.jpg...\n",
      "Confidence: 0.00\n",
      "\n",
      "Processing 03024057930504051454001.jpg...\n"
     ]
    },
    {
     "name": "stderr",
     "output_type": "stream",
     "text": [
      "d:\\arfa\\code\\ocr\\venv\\Lib\\site-packages\\torch\\utils\\data\\dataloader.py:665: UserWarning: 'pin_memory' argument is set as true but no accelerator is found, then device pinned memory won't be used.\n",
      "  warnings.warn(warn_msg)\n"
     ]
    },
    {
     "name": "stdout",
     "output_type": "stream",
     "text": [
      "Confidence: 0.13\n",
      "\n",
      "Processing 03024057930504080272001.jpg...\n",
      "Confidence: 0.00\n",
      "\n",
      "Processing batch 40/60\n",
      "\n",
      "Processing 03024057930504190330001.jpg...\n",
      "Confidence: 0.00\n",
      "\n",
      "Processing 03024057930504210584001.jpg...\n",
      "Confidence: 0.00\n",
      "\n",
      "Processing 03024057930504475408001.jpg...\n",
      "Confidence: 0.00\n",
      "\n",
      "Processing 03024057930504475456001.jpg...\n"
     ]
    },
    {
     "name": "stderr",
     "output_type": "stream",
     "text": [
      "d:\\arfa\\code\\ocr\\venv\\Lib\\site-packages\\torch\\utils\\data\\dataloader.py:665: UserWarning: 'pin_memory' argument is set as true but no accelerator is found, then device pinned memory won't be used.\n",
      "  warnings.warn(warn_msg)\n"
     ]
    },
    {
     "name": "stdout",
     "output_type": "stream",
     "text": [
      "Confidence: 0.71\n",
      "\n",
      "Processing batch 41/60\n",
      "\n",
      "Processing 03027057960503360337001.jpg...\n"
     ]
    },
    {
     "name": "stderr",
     "output_type": "stream",
     "text": [
      "d:\\arfa\\code\\ocr\\venv\\Lib\\site-packages\\torch\\utils\\data\\dataloader.py:665: UserWarning: 'pin_memory' argument is set as true but no accelerator is found, then device pinned memory won't be used.\n",
      "  warnings.warn(warn_msg)\n"
     ]
    },
    {
     "name": "stdout",
     "output_type": "stream",
     "text": [
      "Confidence: 0.57\n",
      "\n",
      "Processing 03027057960503450424001.jpg...\n"
     ]
    },
    {
     "name": "stderr",
     "output_type": "stream",
     "text": [
      "d:\\arfa\\code\\ocr\\venv\\Lib\\site-packages\\torch\\utils\\data\\dataloader.py:665: UserWarning: 'pin_memory' argument is set as true but no accelerator is found, then device pinned memory won't be used.\n",
      "  warnings.warn(warn_msg)\n"
     ]
    },
    {
     "name": "stdout",
     "output_type": "stream",
     "text": [
      "Confidence: 0.38\n",
      "\n",
      "Processing 03027057960503712186001.jpg...\n"
     ]
    },
    {
     "name": "stderr",
     "output_type": "stream",
     "text": [
      "d:\\arfa\\code\\ocr\\venv\\Lib\\site-packages\\torch\\utils\\data\\dataloader.py:665: UserWarning: 'pin_memory' argument is set as true but no accelerator is found, then device pinned memory won't be used.\n",
      "  warnings.warn(warn_msg)\n"
     ]
    },
    {
     "name": "stdout",
     "output_type": "stream",
     "text": [
      "Confidence: 0.50\n",
      "\n",
      "Processing 03027057960504690156001.jpg...\n"
     ]
    },
    {
     "name": "stderr",
     "output_type": "stream",
     "text": [
      "d:\\arfa\\code\\ocr\\venv\\Lib\\site-packages\\torch\\utils\\data\\dataloader.py:665: UserWarning: 'pin_memory' argument is set as true but no accelerator is found, then device pinned memory won't be used.\n",
      "  warnings.warn(warn_msg)\n"
     ]
    },
    {
     "name": "stdout",
     "output_type": "stream",
     "text": [
      "Confidence: 0.28\n",
      "\n",
      "Processing batch 42/60\n",
      "\n",
      "Processing 03027057960504690274001.jpg...\n"
     ]
    },
    {
     "name": "stderr",
     "output_type": "stream",
     "text": [
      "d:\\arfa\\code\\ocr\\venv\\Lib\\site-packages\\torch\\utils\\data\\dataloader.py:665: UserWarning: 'pin_memory' argument is set as true but no accelerator is found, then device pinned memory won't be used.\n",
      "  warnings.warn(warn_msg)\n"
     ]
    },
    {
     "name": "stdout",
     "output_type": "stream",
     "text": [
      "Confidence: 0.22\n",
      "\n",
      "Processing 03027057960504690462001.jpg...\n"
     ]
    },
    {
     "name": "stderr",
     "output_type": "stream",
     "text": [
      "d:\\arfa\\code\\ocr\\venv\\Lib\\site-packages\\torch\\utils\\data\\dataloader.py:665: UserWarning: 'pin_memory' argument is set as true but no accelerator is found, then device pinned memory won't be used.\n",
      "  warnings.warn(warn_msg)\n"
     ]
    },
    {
     "name": "stdout",
     "output_type": "stream",
     "text": [
      "Confidence: 0.06\n",
      "\n",
      "Processing 03027057960504740321001.jpg...\n"
     ]
    },
    {
     "name": "stderr",
     "output_type": "stream",
     "text": [
      "d:\\arfa\\code\\ocr\\venv\\Lib\\site-packages\\torch\\utils\\data\\dataloader.py:665: UserWarning: 'pin_memory' argument is set as true but no accelerator is found, then device pinned memory won't be used.\n",
      "  warnings.warn(warn_msg)\n"
     ]
    },
    {
     "name": "stdout",
     "output_type": "stream",
     "text": [
      "Confidence: 0.05\n",
      "\n",
      "Processing 03027057960504741280001.jpg...\n"
     ]
    },
    {
     "name": "stderr",
     "output_type": "stream",
     "text": [
      "d:\\arfa\\code\\ocr\\venv\\Lib\\site-packages\\torch\\utils\\data\\dataloader.py:665: UserWarning: 'pin_memory' argument is set as true but no accelerator is found, then device pinned memory won't be used.\n",
      "  warnings.warn(warn_msg)\n"
     ]
    },
    {
     "name": "stdout",
     "output_type": "stream",
     "text": [
      "Confidence: 0.43\n",
      "\n",
      "Processing batch 43/60\n",
      "\n",
      "Processing 03027057960504743176001.jpg...\n"
     ]
    },
    {
     "name": "stderr",
     "output_type": "stream",
     "text": [
      "d:\\arfa\\code\\ocr\\venv\\Lib\\site-packages\\torch\\utils\\data\\dataloader.py:665: UserWarning: 'pin_memory' argument is set as true but no accelerator is found, then device pinned memory won't be used.\n",
      "  warnings.warn(warn_msg)\n"
     ]
    },
    {
     "name": "stdout",
     "output_type": "stream",
     "text": [
      "Confidence: 0.21\n",
      "\n",
      "Processing 03027057960507825054001.jpg...\n",
      "Confidence: 0.00\n",
      "\n",
      "Processing 03027057960513070785001.jpg...\n"
     ]
    },
    {
     "name": "stderr",
     "output_type": "stream",
     "text": [
      "d:\\arfa\\code\\ocr\\venv\\Lib\\site-packages\\torch\\utils\\data\\dataloader.py:665: UserWarning: 'pin_memory' argument is set as true but no accelerator is found, then device pinned memory won't be used.\n",
      "  warnings.warn(warn_msg)\n"
     ]
    },
    {
     "name": "stdout",
     "output_type": "stream",
     "text": [
      "Confidence: 0.24\n",
      "\n",
      "Processing 03027057960513250382001.jpg...\n"
     ]
    },
    {
     "name": "stderr",
     "output_type": "stream",
     "text": [
      "d:\\arfa\\code\\ocr\\venv\\Lib\\site-packages\\torch\\utils\\data\\dataloader.py:665: UserWarning: 'pin_memory' argument is set as true but no accelerator is found, then device pinned memory won't be used.\n",
      "  warnings.warn(warn_msg)\n"
     ]
    },
    {
     "name": "stdout",
     "output_type": "stream",
     "text": [
      "Confidence: 0.70\n",
      "\n",
      "Processing batch 44/60\n",
      "\n",
      "Processing 03027057960513250902001.jpg...\n"
     ]
    },
    {
     "name": "stderr",
     "output_type": "stream",
     "text": [
      "d:\\arfa\\code\\ocr\\venv\\Lib\\site-packages\\torch\\utils\\data\\dataloader.py:665: UserWarning: 'pin_memory' argument is set as true but no accelerator is found, then device pinned memory won't be used.\n",
      "  warnings.warn(warn_msg)\n"
     ]
    },
    {
     "name": "stdout",
     "output_type": "stream",
     "text": [
      "Confidence: 0.56\n",
      "\n",
      "Processing 03027057960513360169001.jpg...\n"
     ]
    },
    {
     "name": "stderr",
     "output_type": "stream",
     "text": [
      "d:\\arfa\\code\\ocr\\venv\\Lib\\site-packages\\torch\\utils\\data\\dataloader.py:665: UserWarning: 'pin_memory' argument is set as true but no accelerator is found, then device pinned memory won't be used.\n",
      "  warnings.warn(warn_msg)\n"
     ]
    },
    {
     "name": "stdout",
     "output_type": "stream",
     "text": [
      "Confidence: 0.54\n",
      "\n",
      "Processing 03027057960513360715001.jpg...\n"
     ]
    },
    {
     "name": "stderr",
     "output_type": "stream",
     "text": [
      "d:\\arfa\\code\\ocr\\venv\\Lib\\site-packages\\torch\\utils\\data\\dataloader.py:665: UserWarning: 'pin_memory' argument is set as true but no accelerator is found, then device pinned memory won't be used.\n",
      "  warnings.warn(warn_msg)\n"
     ]
    },
    {
     "name": "stdout",
     "output_type": "stream",
     "text": [
      "Confidence: 0.53\n",
      "\n",
      "Processing 03027057960513450667001.jpg...\n"
     ]
    },
    {
     "name": "stderr",
     "output_type": "stream",
     "text": [
      "d:\\arfa\\code\\ocr\\venv\\Lib\\site-packages\\torch\\utils\\data\\dataloader.py:665: UserWarning: 'pin_memory' argument is set as true but no accelerator is found, then device pinned memory won't be used.\n",
      "  warnings.warn(warn_msg)\n"
     ]
    },
    {
     "name": "stdout",
     "output_type": "stream",
     "text": [
      "Confidence: 0.15\n",
      "\n",
      "Processing batch 45/60\n",
      "\n",
      "Processing 03027057960513451358001.jpg...\n"
     ]
    },
    {
     "name": "stderr",
     "output_type": "stream",
     "text": [
      "d:\\arfa\\code\\ocr\\venv\\Lib\\site-packages\\torch\\utils\\data\\dataloader.py:665: UserWarning: 'pin_memory' argument is set as true but no accelerator is found, then device pinned memory won't be used.\n",
      "  warnings.warn(warn_msg)\n"
     ]
    },
    {
     "name": "stdout",
     "output_type": "stream",
     "text": [
      "Confidence: 0.24\n",
      "\n",
      "Processing 03027057960513451587001.jpg...\n"
     ]
    },
    {
     "name": "stderr",
     "output_type": "stream",
     "text": [
      "d:\\arfa\\code\\ocr\\venv\\Lib\\site-packages\\torch\\utils\\data\\dataloader.py:665: UserWarning: 'pin_memory' argument is set as true but no accelerator is found, then device pinned memory won't be used.\n",
      "  warnings.warn(warn_msg)\n"
     ]
    },
    {
     "name": "stdout",
     "output_type": "stream",
     "text": [
      "Confidence: 0.22\n",
      "\n",
      "Processing 03027057960513460652001.jpg...\n"
     ]
    },
    {
     "name": "stderr",
     "output_type": "stream",
     "text": [
      "d:\\arfa\\code\\ocr\\venv\\Lib\\site-packages\\torch\\utils\\data\\dataloader.py:665: UserWarning: 'pin_memory' argument is set as true but no accelerator is found, then device pinned memory won't be used.\n",
      "  warnings.warn(warn_msg)\n"
     ]
    },
    {
     "name": "stdout",
     "output_type": "stream",
     "text": [
      "Confidence: 0.41\n",
      "\n",
      "Processing 03027057960513830164001.jpg...\n"
     ]
    },
    {
     "name": "stderr",
     "output_type": "stream",
     "text": [
      "d:\\arfa\\code\\ocr\\venv\\Lib\\site-packages\\torch\\utils\\data\\dataloader.py:665: UserWarning: 'pin_memory' argument is set as true but no accelerator is found, then device pinned memory won't be used.\n",
      "  warnings.warn(warn_msg)\n"
     ]
    },
    {
     "name": "stdout",
     "output_type": "stream",
     "text": [
      "Confidence: 0.43\n",
      "\n",
      "Processing batch 46/60\n",
      "\n",
      "Processing 03030057990503260381001.jpg...\n",
      "Confidence: 0.00\n",
      "\n",
      "Processing 03030057990503280560001.jpg...\n"
     ]
    },
    {
     "name": "stderr",
     "output_type": "stream",
     "text": [
      "d:\\arfa\\code\\ocr\\venv\\Lib\\site-packages\\torch\\utils\\data\\dataloader.py:665: UserWarning: 'pin_memory' argument is set as true but no accelerator is found, then device pinned memory won't be used.\n",
      "  warnings.warn(warn_msg)\n"
     ]
    },
    {
     "name": "stdout",
     "output_type": "stream",
     "text": [
      "Confidence: 0.27\n",
      "\n",
      "Processing 03030057990503280561001.jpg...\n"
     ]
    },
    {
     "name": "stderr",
     "output_type": "stream",
     "text": [
      "d:\\arfa\\code\\ocr\\venv\\Lib\\site-packages\\torch\\utils\\data\\dataloader.py:665: UserWarning: 'pin_memory' argument is set as true but no accelerator is found, then device pinned memory won't be used.\n",
      "  warnings.warn(warn_msg)\n"
     ]
    },
    {
     "name": "stdout",
     "output_type": "stream",
     "text": [
      "Confidence: 0.37\n",
      "\n",
      "Processing 03030057990503280651001.jpg...\n"
     ]
    },
    {
     "name": "stderr",
     "output_type": "stream",
     "text": [
      "d:\\arfa\\code\\ocr\\venv\\Lib\\site-packages\\torch\\utils\\data\\dataloader.py:665: UserWarning: 'pin_memory' argument is set as true but no accelerator is found, then device pinned memory won't be used.\n",
      "  warnings.warn(warn_msg)\n"
     ]
    },
    {
     "name": "stdout",
     "output_type": "stream",
     "text": [
      "Confidence: 0.96\n",
      "\n",
      "Processing batch 47/60\n",
      "\n",
      "Processing 03030057990503295026001.jpg...\n"
     ]
    },
    {
     "name": "stderr",
     "output_type": "stream",
     "text": [
      "d:\\arfa\\code\\ocr\\venv\\Lib\\site-packages\\torch\\utils\\data\\dataloader.py:665: UserWarning: 'pin_memory' argument is set as true but no accelerator is found, then device pinned memory won't be used.\n",
      "  warnings.warn(warn_msg)\n"
     ]
    },
    {
     "name": "stdout",
     "output_type": "stream",
     "text": [
      "Confidence: 0.30\n",
      "\n",
      "Processing 03030057990503295028001.jpg...\n",
      "Confidence: 0.00\n",
      "\n",
      "Processing 03030057990503301513001.jpg...\n",
      "Confidence: 0.00\n",
      "\n",
      "Processing 03030057990503311087001.jpg...\n"
     ]
    },
    {
     "name": "stderr",
     "output_type": "stream",
     "text": [
      "d:\\arfa\\code\\ocr\\venv\\Lib\\site-packages\\torch\\utils\\data\\dataloader.py:665: UserWarning: 'pin_memory' argument is set as true but no accelerator is found, then device pinned memory won't be used.\n",
      "  warnings.warn(warn_msg)\n"
     ]
    },
    {
     "name": "stdout",
     "output_type": "stream",
     "text": [
      "Confidence: 0.17\n",
      "\n",
      "Processing batch 48/60\n",
      "\n",
      "Processing 03030057990503325341001.jpg...\n"
     ]
    },
    {
     "name": "stderr",
     "output_type": "stream",
     "text": [
      "d:\\arfa\\code\\ocr\\venv\\Lib\\site-packages\\torch\\utils\\data\\dataloader.py:665: UserWarning: 'pin_memory' argument is set as true but no accelerator is found, then device pinned memory won't be used.\n",
      "  warnings.warn(warn_msg)\n"
     ]
    },
    {
     "name": "stdout",
     "output_type": "stream",
     "text": [
      "Confidence: 0.17\n",
      "\n",
      "Processing 03030057990503325516001.jpg...\n"
     ]
    },
    {
     "name": "stderr",
     "output_type": "stream",
     "text": [
      "d:\\arfa\\code\\ocr\\venv\\Lib\\site-packages\\torch\\utils\\data\\dataloader.py:665: UserWarning: 'pin_memory' argument is set as true but no accelerator is found, then device pinned memory won't be used.\n",
      "  warnings.warn(warn_msg)\n"
     ]
    },
    {
     "name": "stdout",
     "output_type": "stream",
     "text": [
      "Confidence: 0.62\n",
      "\n",
      "Processing 03030057990503335208001.jpg...\n"
     ]
    },
    {
     "name": "stderr",
     "output_type": "stream",
     "text": [
      "d:\\arfa\\code\\ocr\\venv\\Lib\\site-packages\\torch\\utils\\data\\dataloader.py:665: UserWarning: 'pin_memory' argument is set as true but no accelerator is found, then device pinned memory won't be used.\n",
      "  warnings.warn(warn_msg)\n"
     ]
    },
    {
     "name": "stdout",
     "output_type": "stream",
     "text": [
      "Confidence: 0.08\n",
      "\n",
      "Processing 03030057990503360416001.jpg...\n"
     ]
    },
    {
     "name": "stderr",
     "output_type": "stream",
     "text": [
      "d:\\arfa\\code\\ocr\\venv\\Lib\\site-packages\\torch\\utils\\data\\dataloader.py:665: UserWarning: 'pin_memory' argument is set as true but no accelerator is found, then device pinned memory won't be used.\n",
      "  warnings.warn(warn_msg)\n"
     ]
    },
    {
     "name": "stdout",
     "output_type": "stream",
     "text": [
      "Confidence: 0.48\n",
      "\n",
      "Processing batch 49/60\n",
      "\n",
      "Processing 03030057990503365068001.jpg...\n",
      "Confidence: 0.00\n",
      "\n",
      "Processing 03030057990503405047001.jpg...\n",
      "Confidence: 0.00\n",
      "\n",
      "Processing 03030057990503460168001.jpg...\n"
     ]
    },
    {
     "name": "stderr",
     "output_type": "stream",
     "text": [
      "d:\\arfa\\code\\ocr\\venv\\Lib\\site-packages\\torch\\utils\\data\\dataloader.py:665: UserWarning: 'pin_memory' argument is set as true but no accelerator is found, then device pinned memory won't be used.\n",
      "  warnings.warn(warn_msg)\n"
     ]
    },
    {
     "name": "stdout",
     "output_type": "stream",
     "text": [
      "Confidence: 0.52\n",
      "\n",
      "Processing 03030057990503460423001.jpg...\n",
      "Confidence: 0.00\n",
      "\n",
      "Processing batch 50/60\n",
      "\n",
      "Processing 03030057990503461023001.jpg...\n"
     ]
    },
    {
     "name": "stderr",
     "output_type": "stream",
     "text": [
      "d:\\arfa\\code\\ocr\\venv\\Lib\\site-packages\\torch\\utils\\data\\dataloader.py:665: UserWarning: 'pin_memory' argument is set as true but no accelerator is found, then device pinned memory won't be used.\n",
      "  warnings.warn(warn_msg)\n"
     ]
    },
    {
     "name": "stdout",
     "output_type": "stream",
     "text": [
      "Confidence: 0.13\n",
      "\n",
      "Processing 03030057990503461050001.jpg...\n"
     ]
    },
    {
     "name": "stderr",
     "output_type": "stream",
     "text": [
      "d:\\arfa\\code\\ocr\\venv\\Lib\\site-packages\\torch\\utils\\data\\dataloader.py:665: UserWarning: 'pin_memory' argument is set as true but no accelerator is found, then device pinned memory won't be used.\n",
      "  warnings.warn(warn_msg)\n"
     ]
    },
    {
     "name": "stdout",
     "output_type": "stream",
     "text": [
      "Confidence: 0.50\n",
      "\n",
      "Processing 03030057990503475284001.jpg...\n"
     ]
    },
    {
     "name": "stderr",
     "output_type": "stream",
     "text": [
      "d:\\arfa\\code\\ocr\\venv\\Lib\\site-packages\\torch\\utils\\data\\dataloader.py:665: UserWarning: 'pin_memory' argument is set as true but no accelerator is found, then device pinned memory won't be used.\n",
      "  warnings.warn(warn_msg)\n"
     ]
    },
    {
     "name": "stdout",
     "output_type": "stream",
     "text": [
      "Confidence: 0.45\n",
      "\n",
      "Processing 03030057990503475325001.jpg...\n"
     ]
    },
    {
     "name": "stderr",
     "output_type": "stream",
     "text": [
      "d:\\arfa\\code\\ocr\\venv\\Lib\\site-packages\\torch\\utils\\data\\dataloader.py:665: UserWarning: 'pin_memory' argument is set as true but no accelerator is found, then device pinned memory won't be used.\n",
      "  warnings.warn(warn_msg)\n"
     ]
    },
    {
     "name": "stdout",
     "output_type": "stream",
     "text": [
      "Confidence: 0.17\n",
      "\n",
      "Processing batch 51/60\n",
      "\n",
      "Processing 03033058000504050322001.jpg...\n"
     ]
    },
    {
     "name": "stderr",
     "output_type": "stream",
     "text": [
      "d:\\arfa\\code\\ocr\\venv\\Lib\\site-packages\\torch\\utils\\data\\dataloader.py:665: UserWarning: 'pin_memory' argument is set as true but no accelerator is found, then device pinned memory won't be used.\n",
      "  warnings.warn(warn_msg)\n"
     ]
    },
    {
     "name": "stdout",
     "output_type": "stream",
     "text": [
      "Confidence: 0.10\n",
      "\n",
      "Processing 03033058000514595085001.jpg...\n",
      "Confidence: 0.00\n",
      "\n",
      "Processing 03033058000523145238001.jpg...\n"
     ]
    },
    {
     "name": "stderr",
     "output_type": "stream",
     "text": [
      "d:\\arfa\\code\\ocr\\venv\\Lib\\site-packages\\torch\\utils\\data\\dataloader.py:665: UserWarning: 'pin_memory' argument is set as true but no accelerator is found, then device pinned memory won't be used.\n",
      "  warnings.warn(warn_msg)\n"
     ]
    },
    {
     "name": "stdout",
     "output_type": "stream",
     "text": [
      "Confidence: 0.45\n",
      "\n",
      "Processing 03033058000523250293001.jpg...\n",
      "Confidence: 0.00\n",
      "\n",
      "Processing batch 52/60\n",
      "\n",
      "Processing 03033058000523250894001.jpg...\n",
      "Confidence: 0.00\n",
      "\n",
      "Processing 03033058000523340394001.jpg...\n"
     ]
    },
    {
     "name": "stderr",
     "output_type": "stream",
     "text": [
      "d:\\arfa\\code\\ocr\\venv\\Lib\\site-packages\\torch\\utils\\data\\dataloader.py:665: UserWarning: 'pin_memory' argument is set as true but no accelerator is found, then device pinned memory won't be used.\n",
      "  warnings.warn(warn_msg)\n"
     ]
    },
    {
     "name": "stdout",
     "output_type": "stream",
     "text": [
      "Confidence: 0.03\n",
      "\n",
      "Processing 03033058000523392133001.jpg...\n"
     ]
    },
    {
     "name": "stderr",
     "output_type": "stream",
     "text": [
      "d:\\arfa\\code\\ocr\\venv\\Lib\\site-packages\\torch\\utils\\data\\dataloader.py:665: UserWarning: 'pin_memory' argument is set as true but no accelerator is found, then device pinned memory won't be used.\n",
      "  warnings.warn(warn_msg)\n"
     ]
    },
    {
     "name": "stdout",
     "output_type": "stream",
     "text": [
      "Error processing 03033058000523392133001.jpg: OpenCV(4.11.0) D:\\a\\opencv-python\\opencv-python\\opencv\\modules\\imgproc\\src\\resize.cpp:4208: error: (-215:Assertion failed) !ssize.empty() in function 'cv::resize'\n",
      "\n",
      "\n",
      "Processing 03033058000523460753001.jpg...\n"
     ]
    },
    {
     "name": "stderr",
     "output_type": "stream",
     "text": [
      "d:\\arfa\\code\\ocr\\venv\\Lib\\site-packages\\torch\\utils\\data\\dataloader.py:665: UserWarning: 'pin_memory' argument is set as true but no accelerator is found, then device pinned memory won't be used.\n",
      "  warnings.warn(warn_msg)\n"
     ]
    },
    {
     "name": "stdout",
     "output_type": "stream",
     "text": [
      "Confidence: 0.21\n",
      "\n",
      "Processing batch 53/60\n",
      "\n",
      "Processing 03033058000524000133001.jpg...\n"
     ]
    },
    {
     "name": "stderr",
     "output_type": "stream",
     "text": [
      "d:\\arfa\\code\\ocr\\venv\\Lib\\site-packages\\torch\\utils\\data\\dataloader.py:665: UserWarning: 'pin_memory' argument is set as true but no accelerator is found, then device pinned memory won't be used.\n",
      "  warnings.warn(warn_msg)\n"
     ]
    },
    {
     "name": "stdout",
     "output_type": "stream",
     "text": [
      "Confidence: 0.18\n",
      "\n",
      "Processing 03033058000524565042001.jpg...\n"
     ]
    },
    {
     "name": "stderr",
     "output_type": "stream",
     "text": [
      "d:\\arfa\\code\\ocr\\venv\\Lib\\site-packages\\torch\\utils\\data\\dataloader.py:665: UserWarning: 'pin_memory' argument is set as true but no accelerator is found, then device pinned memory won't be used.\n",
      "  warnings.warn(warn_msg)\n"
     ]
    },
    {
     "name": "stdout",
     "output_type": "stream",
     "text": [
      "Confidence: 0.02\n",
      "\n",
      "Processing 03033058000525341820001.jpg...\n"
     ]
    },
    {
     "name": "stderr",
     "output_type": "stream",
     "text": [
      "d:\\arfa\\code\\ocr\\venv\\Lib\\site-packages\\torch\\utils\\data\\dataloader.py:665: UserWarning: 'pin_memory' argument is set as true but no accelerator is found, then device pinned memory won't be used.\n",
      "  warnings.warn(warn_msg)\n"
     ]
    },
    {
     "name": "stdout",
     "output_type": "stream",
     "text": [
      "Confidence: 0.16\n",
      "\n",
      "Processing 03033058000525342819001.jpg...\n"
     ]
    },
    {
     "name": "stderr",
     "output_type": "stream",
     "text": [
      "d:\\arfa\\code\\ocr\\venv\\Lib\\site-packages\\torch\\utils\\data\\dataloader.py:665: UserWarning: 'pin_memory' argument is set as true but no accelerator is found, then device pinned memory won't be used.\n",
      "  warnings.warn(warn_msg)\n"
     ]
    },
    {
     "name": "stdout",
     "output_type": "stream",
     "text": [
      "Confidence: 0.05\n",
      "\n",
      "Processing batch 54/60\n",
      "\n",
      "Processing 03033058000525461445001.jpg...\n"
     ]
    },
    {
     "name": "stderr",
     "output_type": "stream",
     "text": [
      "d:\\arfa\\code\\ocr\\venv\\Lib\\site-packages\\torch\\utils\\data\\dataloader.py:665: UserWarning: 'pin_memory' argument is set as true but no accelerator is found, then device pinned memory won't be used.\n",
      "  warnings.warn(warn_msg)\n"
     ]
    },
    {
     "name": "stdout",
     "output_type": "stream",
     "text": [
      "Confidence: 0.43\n",
      "\n",
      "Processing 03033058000525461463001.jpg...\n"
     ]
    },
    {
     "name": "stderr",
     "output_type": "stream",
     "text": [
      "d:\\arfa\\code\\ocr\\venv\\Lib\\site-packages\\torch\\utils\\data\\dataloader.py:665: UserWarning: 'pin_memory' argument is set as true but no accelerator is found, then device pinned memory won't be used.\n",
      "  warnings.warn(warn_msg)\n"
     ]
    },
    {
     "name": "stdout",
     "output_type": "stream",
     "text": [
      "Confidence: 0.07\n",
      "\n",
      "Processing 03033058000525461627001.jpg...\n"
     ]
    },
    {
     "name": "stderr",
     "output_type": "stream",
     "text": [
      "d:\\arfa\\code\\ocr\\venv\\Lib\\site-packages\\torch\\utils\\data\\dataloader.py:665: UserWarning: 'pin_memory' argument is set as true but no accelerator is found, then device pinned memory won't be used.\n",
      "  warnings.warn(warn_msg)\n"
     ]
    },
    {
     "name": "stdout",
     "output_type": "stream",
     "text": [
      "Confidence: 0.09\n",
      "\n",
      "Processing 03033058000526435752001.jpg...\n"
     ]
    },
    {
     "name": "stderr",
     "output_type": "stream",
     "text": [
      "d:\\arfa\\code\\ocr\\venv\\Lib\\site-packages\\torch\\utils\\data\\dataloader.py:665: UserWarning: 'pin_memory' argument is set as true but no accelerator is found, then device pinned memory won't be used.\n",
      "  warnings.warn(warn_msg)\n"
     ]
    },
    {
     "name": "stdout",
     "output_type": "stream",
     "text": [
      "Confidence: 0.52\n",
      "\n",
      "Processing batch 55/60\n",
      "\n",
      "Processing 03033058000526439085001.jpg...\n"
     ]
    },
    {
     "name": "stderr",
     "output_type": "stream",
     "text": [
      "d:\\arfa\\code\\ocr\\venv\\Lib\\site-packages\\torch\\utils\\data\\dataloader.py:665: UserWarning: 'pin_memory' argument is set as true but no accelerator is found, then device pinned memory won't be used.\n",
      "  warnings.warn(warn_msg)\n"
     ]
    },
    {
     "name": "stdout",
     "output_type": "stream",
     "text": [
      "Confidence: 0.35\n",
      "\n",
      "Processing 03033058000526540765001.jpg...\n",
      "Confidence: 0.00\n",
      "\n",
      "Processing 03033058000533110182001.jpg...\n"
     ]
    },
    {
     "name": "stderr",
     "output_type": "stream",
     "text": [
      "d:\\arfa\\code\\ocr\\venv\\Lib\\site-packages\\torch\\utils\\data\\dataloader.py:665: UserWarning: 'pin_memory' argument is set as true but no accelerator is found, then device pinned memory won't be used.\n",
      "  warnings.warn(warn_msg)\n"
     ]
    },
    {
     "name": "stdout",
     "output_type": "stream",
     "text": [
      "Confidence: 0.21\n",
      "\n",
      "Processing 03033058000533110277001.jpg...\n"
     ]
    },
    {
     "name": "stderr",
     "output_type": "stream",
     "text": [
      "d:\\arfa\\code\\ocr\\venv\\Lib\\site-packages\\torch\\utils\\data\\dataloader.py:665: UserWarning: 'pin_memory' argument is set as true but no accelerator is found, then device pinned memory won't be used.\n",
      "  warnings.warn(warn_msg)\n"
     ]
    },
    {
     "name": "stdout",
     "output_type": "stream",
     "text": [
      "Confidence: 0.29\n",
      "\n",
      "Processing batch 56/60\n",
      "\n",
      "Processing 03034058010504050322001.jpg...\n"
     ]
    },
    {
     "name": "stderr",
     "output_type": "stream",
     "text": [
      "d:\\arfa\\code\\ocr\\venv\\Lib\\site-packages\\torch\\utils\\data\\dataloader.py:665: UserWarning: 'pin_memory' argument is set as true but no accelerator is found, then device pinned memory won't be used.\n",
      "  warnings.warn(warn_msg)\n"
     ]
    },
    {
     "name": "stdout",
     "output_type": "stream",
     "text": [
      "Confidence: 0.11\n",
      "\n",
      "Processing 03034058010513460457001.jpg...\n"
     ]
    },
    {
     "name": "stderr",
     "output_type": "stream",
     "text": [
      "d:\\arfa\\code\\ocr\\venv\\Lib\\site-packages\\torch\\utils\\data\\dataloader.py:665: UserWarning: 'pin_memory' argument is set as true but no accelerator is found, then device pinned memory won't be used.\n",
      "  warnings.warn(warn_msg)\n"
     ]
    },
    {
     "name": "stdout",
     "output_type": "stream",
     "text": [
      "Confidence: 0.21\n",
      "\n",
      "Processing 03034058010514050157001.jpg...\n"
     ]
    },
    {
     "name": "stderr",
     "output_type": "stream",
     "text": [
      "d:\\arfa\\code\\ocr\\venv\\Lib\\site-packages\\torch\\utils\\data\\dataloader.py:665: UserWarning: 'pin_memory' argument is set as true but no accelerator is found, then device pinned memory won't be used.\n",
      "  warnings.warn(warn_msg)\n"
     ]
    },
    {
     "name": "stdout",
     "output_type": "stream",
     "text": [
      "Confidence: 0.22\n",
      "\n",
      "Processing 03034058010514050409001.jpg...\n"
     ]
    },
    {
     "name": "stderr",
     "output_type": "stream",
     "text": [
      "d:\\arfa\\code\\ocr\\venv\\Lib\\site-packages\\torch\\utils\\data\\dataloader.py:665: UserWarning: 'pin_memory' argument is set as true but no accelerator is found, then device pinned memory won't be used.\n",
      "  warnings.warn(warn_msg)\n"
     ]
    },
    {
     "name": "stdout",
     "output_type": "stream",
     "text": [
      "Confidence: 0.29\n",
      "\n",
      "Processing batch 57/60\n",
      "\n",
      "Processing 03034058010514051642001.jpg...\n"
     ]
    },
    {
     "name": "stderr",
     "output_type": "stream",
     "text": [
      "d:\\arfa\\code\\ocr\\venv\\Lib\\site-packages\\torch\\utils\\data\\dataloader.py:665: UserWarning: 'pin_memory' argument is set as true but no accelerator is found, then device pinned memory won't be used.\n",
      "  warnings.warn(warn_msg)\n"
     ]
    },
    {
     "name": "stdout",
     "output_type": "stream",
     "text": [
      "Confidence: 0.36\n",
      "\n",
      "Processing 03034058010514550207001.jpg...\n"
     ]
    },
    {
     "name": "stderr",
     "output_type": "stream",
     "text": [
      "d:\\arfa\\code\\ocr\\venv\\Lib\\site-packages\\torch\\utils\\data\\dataloader.py:665: UserWarning: 'pin_memory' argument is set as true but no accelerator is found, then device pinned memory won't be used.\n",
      "  warnings.warn(warn_msg)\n"
     ]
    },
    {
     "name": "stdout",
     "output_type": "stream",
     "text": [
      "Confidence: 0.09\n",
      "\n",
      "Processing 03034058010523145238001.jpg...\n"
     ]
    },
    {
     "name": "stderr",
     "output_type": "stream",
     "text": [
      "d:\\arfa\\code\\ocr\\venv\\Lib\\site-packages\\torch\\utils\\data\\dataloader.py:665: UserWarning: 'pin_memory' argument is set as true but no accelerator is found, then device pinned memory won't be used.\n",
      "  warnings.warn(warn_msg)\n"
     ]
    },
    {
     "name": "stdout",
     "output_type": "stream",
     "text": [
      "Confidence: 0.49\n",
      "\n",
      "Processing 03034058010523250293001.jpg...\n"
     ]
    },
    {
     "name": "stderr",
     "output_type": "stream",
     "text": [
      "d:\\arfa\\code\\ocr\\venv\\Lib\\site-packages\\torch\\utils\\data\\dataloader.py:665: UserWarning: 'pin_memory' argument is set as true but no accelerator is found, then device pinned memory won't be used.\n",
      "  warnings.warn(warn_msg)\n"
     ]
    },
    {
     "name": "stdout",
     "output_type": "stream",
     "text": [
      "Confidence: 0.08\n",
      "\n",
      "Processing batch 58/60\n",
      "\n",
      "Processing 03034058010523250894001.jpg...\n"
     ]
    },
    {
     "name": "stderr",
     "output_type": "stream",
     "text": [
      "d:\\arfa\\code\\ocr\\venv\\Lib\\site-packages\\torch\\utils\\data\\dataloader.py:665: UserWarning: 'pin_memory' argument is set as true but no accelerator is found, then device pinned memory won't be used.\n",
      "  warnings.warn(warn_msg)\n"
     ]
    },
    {
     "name": "stdout",
     "output_type": "stream",
     "text": [
      "Confidence: 0.12\n",
      "\n",
      "Processing 03034058010523340000001.jpg...\n"
     ]
    },
    {
     "name": "stderr",
     "output_type": "stream",
     "text": [
      "d:\\arfa\\code\\ocr\\venv\\Lib\\site-packages\\torch\\utils\\data\\dataloader.py:665: UserWarning: 'pin_memory' argument is set as true but no accelerator is found, then device pinned memory won't be used.\n",
      "  warnings.warn(warn_msg)\n"
     ]
    },
    {
     "name": "stdout",
     "output_type": "stream",
     "text": [
      "Confidence: 0.55\n",
      "\n",
      "Processing 03034058010523340033001.jpg...\n"
     ]
    },
    {
     "name": "stderr",
     "output_type": "stream",
     "text": [
      "d:\\arfa\\code\\ocr\\venv\\Lib\\site-packages\\torch\\utils\\data\\dataloader.py:665: UserWarning: 'pin_memory' argument is set as true but no accelerator is found, then device pinned memory won't be used.\n",
      "  warnings.warn(warn_msg)\n"
     ]
    },
    {
     "name": "stdout",
     "output_type": "stream",
     "text": [
      "Confidence: 0.12\n",
      "\n",
      "Processing 03034058010523340394001.jpg...\n"
     ]
    },
    {
     "name": "stderr",
     "output_type": "stream",
     "text": [
      "d:\\arfa\\code\\ocr\\venv\\Lib\\site-packages\\torch\\utils\\data\\dataloader.py:665: UserWarning: 'pin_memory' argument is set as true but no accelerator is found, then device pinned memory won't be used.\n",
      "  warnings.warn(warn_msg)\n"
     ]
    },
    {
     "name": "stdout",
     "output_type": "stream",
     "text": [
      "Confidence: 0.54\n",
      "\n",
      "Processing batch 59/60\n",
      "\n",
      "Processing 03034058010523392133001.jpg...\n"
     ]
    },
    {
     "name": "stderr",
     "output_type": "stream",
     "text": [
      "d:\\arfa\\code\\ocr\\venv\\Lib\\site-packages\\torch\\utils\\data\\dataloader.py:665: UserWarning: 'pin_memory' argument is set as true but no accelerator is found, then device pinned memory won't be used.\n",
      "  warnings.warn(warn_msg)\n"
     ]
    },
    {
     "name": "stdout",
     "output_type": "stream",
     "text": [
      "Confidence: 0.12\n",
      "\n",
      "Processing 03034058010523460753001.jpg...\n"
     ]
    },
    {
     "name": "stderr",
     "output_type": "stream",
     "text": [
      "d:\\arfa\\code\\ocr\\venv\\Lib\\site-packages\\torch\\utils\\data\\dataloader.py:665: UserWarning: 'pin_memory' argument is set as true but no accelerator is found, then device pinned memory won't be used.\n",
      "  warnings.warn(warn_msg)\n"
     ]
    },
    {
     "name": "stdout",
     "output_type": "stream",
     "text": [
      "Confidence: 0.27\n",
      "\n",
      "Processing 03034058010523560064001.jpg...\n"
     ]
    },
    {
     "name": "stderr",
     "output_type": "stream",
     "text": [
      "d:\\arfa\\code\\ocr\\venv\\Lib\\site-packages\\torch\\utils\\data\\dataloader.py:665: UserWarning: 'pin_memory' argument is set as true but no accelerator is found, then device pinned memory won't be used.\n",
      "  warnings.warn(warn_msg)\n"
     ]
    },
    {
     "name": "stdout",
     "output_type": "stream",
     "text": [
      "Confidence: 0.14\n",
      "\n",
      "Processing 03034058010523670524001.jpg...\n"
     ]
    },
    {
     "name": "stderr",
     "output_type": "stream",
     "text": [
      "d:\\arfa\\code\\ocr\\venv\\Lib\\site-packages\\torch\\utils\\data\\dataloader.py:665: UserWarning: 'pin_memory' argument is set as true but no accelerator is found, then device pinned memory won't be used.\n",
      "  warnings.warn(warn_msg)\n"
     ]
    },
    {
     "name": "stdout",
     "output_type": "stream",
     "text": [
      "Confidence: 0.14\n",
      "\n",
      "Processing batch 60/60\n",
      "\n",
      "Processing 03034058010524000133001.jpg...\n",
      "Confidence: 0.00\n",
      "\n",
      "Processing 03034058010524050079001.jpg...\n"
     ]
    },
    {
     "name": "stderr",
     "output_type": "stream",
     "text": [
      "d:\\arfa\\code\\ocr\\venv\\Lib\\site-packages\\torch\\utils\\data\\dataloader.py:665: UserWarning: 'pin_memory' argument is set as true but no accelerator is found, then device pinned memory won't be used.\n",
      "  warnings.warn(warn_msg)\n"
     ]
    },
    {
     "name": "stdout",
     "output_type": "stream",
     "text": [
      "Confidence: 0.24\n",
      "\n",
      "Processing 03034058010524050854001.jpg...\n",
      "Confidence: 0.00\n",
      "\n",
      "Results saved to ocr_results.txt\n",
      "\n",
      "ground_truth.txt already exists. Not overwriting.\n"
     ]
    }
   ],
   "source": [
    "def process_all_images(batch_size=4):\n",
    "    \"\"\"Process all images in the handwritten_data directory\"\"\"\n",
    "    # Get all image files\n",
    "    image_files = sorted([\n",
    "        os.path.join('handwritten_data', f)\n",
    "        for f in os.listdir('handwritten_data')\n",
    "        if f.lower().endswith(('.png', '.jpg', '.jpeg'))\n",
    "    ])\n",
    "    \n",
    "    print(f\"Found {len(image_files)} images to process\")\n",
    "    \n",
    "    results = []\n",
    "    for i in range(0, len(image_files), batch_size):\n",
    "        batch = image_files[i:i + batch_size]\n",
    "        print(f\"\\nProcessing batch {i//batch_size + 1}/{(len(image_files)-1)//batch_size + 1}\")\n",
    "        \n",
    "        for img_path in batch:\n",
    "            img_name = os.path.basename(img_path)\n",
    "            print(f\"\\nProcessing {img_name}...\")\n",
    "            \n",
    "            # Run OCR\n",
    "            try:\n",
    "                ocr_result = reader.readtext(img_path)\n",
    "                # Combine all detected text\n",
    "                text = ' '.join([r[1] for r in ocr_result])\n",
    "                confidence = np.mean([r[2] for r in ocr_result]) if ocr_result else 0\n",
    "                \n",
    "                results.append({\n",
    "                    'image': img_name,\n",
    "                    'text': text,\n",
    "                    'confidence': confidence\n",
    "                })\n",
    "                \n",
    "                print(f\"Confidence: {confidence:.2f}\")\n",
    "            except Exception as e:\n",
    "                print(f\"Error processing {img_name}: {str(e)}\")\n",
    "    \n",
    "    # Save results\n",
    "    save_results(results)\n",
    "    create_ground_truth_template(results)\n",
    "    \n",
    "    return results\n",
    "\n",
    "def save_results(results, output_file='ocr_results.txt'):\n",
    "    \"\"\"Save OCR results to a file\"\"\"\n",
    "    with open(output_file, 'w', encoding='utf-8') as f:\n",
    "        for r in results:\n",
    "            f.write(f\"{r['image']} → {r['text']}\\n\")\n",
    "    print(f\"\\nResults saved to {output_file}\")\n",
    "\n",
    "def create_ground_truth_template(results, output_file='ground_truth.txt'):\n",
    "    \"\"\"Create a template file for ground truth data\"\"\"\n",
    "    if os.path.exists(output_file):\n",
    "        print(f\"\\n{output_file} already exists. Not overwriting.\")\n",
    "        return\n",
    "        \n",
    "    with open(output_file, 'w', encoding='utf-8') as f:\n",
    "        for r in results:\n",
    "            # Pre-fill with OCR result to make it easier to correct\n",
    "            f.write(f\"{r['image']} → {r['text']}\\n\")\n",
    "    \n",
    "    print(f\"\\nGround truth template created in {output_file}\")\n",
    "    print(\"Please review and correct the text in this file for evaluation\")\n",
    "\n",
    "# Process all images\n",
    "print(\"Starting batch processing of all images...\")\n",
    "results = process_all_images(batch_size=4)"
   ]
  },
  {
   "cell_type": "code",
   "execution_count": 43,
   "id": "ebe08e6d",
   "metadata": {},
   "outputs": [
    {
     "name": "stdout",
     "output_type": "stream",
     "text": [
      "To evaluate the results:\n",
      "1. Check ocr_results.txt for the OCR output\n",
      "2. Review and correct ground_truth.txt\n",
      "3. Run evaluate_results() to see the accuracy metrics\n"
     ]
    }
   ],
   "source": [
    "def evaluate_results(results_file='ocr_results.txt', ground_truth_file='ground_truth.txt'):\n",
    "    \"\"\"Evaluate OCR results against ground truth\"\"\"\n",
    "    if not os.path.exists(ground_truth_file):\n",
    "        print(f\"Ground truth file {ground_truth_file} not found.\")\n",
    "        print(\"Please fill in the ground truth data first.\")\n",
    "        return\n",
    "    \n",
    "    # Load results\n",
    "    ocr_results = {}\n",
    "    with open(results_file, 'r', encoding='utf-8') as f:\n",
    "        for line in f:\n",
    "            if '→' in line:\n",
    "                img, text = line.strip().split(' → ')\n",
    "                ocr_results[img] = text\n",
    "    \n",
    "    # Load ground truth\n",
    "    ground_truth = {}\n",
    "    with open(ground_truth_file, 'r', encoding='utf-8') as f:\n",
    "        for line in f:\n",
    "            if '→' in line:\n",
    "                img, text = line.strip().split(' → ')\n",
    "                ground_truth[img] = text\n",
    "    \n",
    "    # Calculate metrics\n",
    "    total_chars_acc = 0\n",
    "    total_words_acc = 0\n",
    "    total_images = 0\n",
    "    \n",
    "    print(\"\\nEvaluation Results:\")\n",
    "    print(\"-\" * 50)\n",
    "    \n",
    "    for img in ground_truth:\n",
    "        if img in ocr_results:\n",
    "            gt_text = ground_truth[img]\n",
    "            ocr_text = ocr_results[img]\n",
    "            \n",
    "            char_acc, word_acc = calculate_metrics(ocr_text, gt_text)\n",
    "            total_chars_acc += char_acc\n",
    "            total_words_acc += word_acc\n",
    "            total_images += 1\n",
    "            \n",
    "            print(f\"\\nImage: {img}\")\n",
    "            print(f\"OCR Text: {ocr_text}\")\n",
    "            print(f\"Ground Truth: {gt_text}\")\n",
    "            print(f\"Character Accuracy: {char_acc:.2%}\")\n",
    "            print(f\"Word Accuracy: {word_acc:.2%}\")\n",
    "    \n",
    "    if total_images > 0:\n",
    "        print(\"\\nOverall Metrics:\")\n",
    "        print(f\"Average Character Accuracy: {total_chars_acc/total_images:.2%}\")\n",
    "        print(f\"Average Word Accuracy: {total_words_acc/total_images:.2%}\")\n",
    "        print(f\"Total Images Evaluated: {total_images}\")\n",
    "    else:\n",
    "        print(\"No matching images found between results and ground truth\")\n",
    "\n",
    "# Note: Run this cell after filling in ground_truth.txt\n",
    "print(\"To evaluate the results:\")\n",
    "print(\"1. Check ocr_results.txt for the OCR output\")\n",
    "print(\"2. Review and correct ground_truth.txt\")\n",
    "print(\"3. Run evaluate_results() to see the accuracy metrics\")"
   ]
  },
  {
   "cell_type": "markdown",
   "id": "336a7074",
   "metadata": {},
   "source": [
    "## Usage Example\n",
    "\n",
    "1. Place your Persian text images in the `handwritten_data` directory\n",
    "2. If you have a pre-trained model, place it in `model/persian_ocr.pth`\n",
    "3. Run all cells in this notebook\n",
    "4. Check the results in `results.txt`"
   ]
  },
  {
   "cell_type": "markdown",
   "id": "3085de14",
   "metadata": {},
   "source": [
    "## 8. Evaluation Metrics\n",
    "\n",
    "Implement metrics to evaluate OCR accuracy and performance:\n",
    "1. Character Accuracy (CA)\n",
    "2. Word Accuracy (WA)\n",
    "3. Processing Speed\n",
    "4. Model Flexibility"
   ]
  },
  {
   "cell_type": "code",
   "execution_count": 44,
   "id": "bcc435ec",
   "metadata": {},
   "outputs": [],
   "source": [
    "import time\n",
    "from difflib import SequenceMatcher\n",
    "\n",
    "def levenshtein_distance(s1, s2):\n",
    "    \"\"\"Calculate the Levenshtein distance between two strings.\n",
    "    \n",
    "    Args:\n",
    "        s1 (str): First string\n",
    "        s2 (str): Second string\n",
    "    \n",
    "    Returns:\n",
    "        int: Edit distance between the strings\n",
    "    \"\"\"\n",
    "    if len(s1) < len(s2):\n",
    "        return levenshtein_distance(s2, s1)\n",
    "    if len(s2) == 0:\n",
    "        return len(s1)\n",
    "    \n",
    "    previous_row = range(len(s2) + 1)\n",
    "    for i, c1 in enumerate(s1):\n",
    "        current_row = [i + 1]\n",
    "        for j, c2 in enumerate(s2):\n",
    "            insertions = previous_row[j + 1] + 1\n",
    "            deletions = current_row[j] + 1\n",
    "            substitutions = previous_row[j] + (c1 != c2)\n",
    "            current_row.append(min(insertions, deletions, substitutions))\n",
    "        previous_row = current_row\n",
    "    \n",
    "    return previous_row[-1]"
   ]
  },
  {
   "cell_type": "code",
   "execution_count": 45,
   "id": "f92f2f19",
   "metadata": {},
   "outputs": [],
   "source": [
    "def calculate_metrics(predicted_text, ground_truth):\n",
    "    \"\"\"Calculate character and word accuracy metrics.\n",
    "    \n",
    "    Args:\n",
    "        predicted_text (str): OCR output text\n",
    "        ground_truth (str): Ground truth text\n",
    "    \n",
    "    Returns:\n",
    "        tuple: (character_accuracy, word_accuracy)\n",
    "    \"\"\"\n",
    "    # Character accuracy\n",
    "    char_distance = levenshtein_distance(predicted_text, ground_truth)\n",
    "    total_chars = max(len(predicted_text), len(ground_truth))\n",
    "    char_accuracy = 1 - (char_distance / total_chars) if total_chars > 0 else 0\n",
    "    \n",
    "    # Word accuracy\n",
    "    pred_words = set(predicted_text.split())\n",
    "    truth_words = set(ground_truth.split())\n",
    "    correct_words = len(pred_words.intersection(truth_words))\n",
    "    total_words = len(truth_words)\n",
    "    word_accuracy = correct_words / total_words if total_words > 0 else 0\n",
    "    \n",
    "    return char_accuracy, word_accuracy\n",
    "\n",
    "def evaluate_model(test_images, ground_truth_file, model=None, batch_size=4):\n",
    "    \"\"\"Evaluate model performance on test data.\n",
    "    \n",
    "    Args:\n",
    "        test_images (list): List of test image paths\n",
    "        ground_truth_file (str): Path to ground truth file\n",
    "        model: Optional pre-trained model\n",
    "        batch_size (int): Batch size for processing\n",
    "    \n",
    "    Returns:\n",
    "        dict: Dictionary containing evaluation metrics\n",
    "    \"\"\"\n",
    "    # Load ground truth data\n",
    "    ground_truth = {}\n",
    "    with open(ground_truth_file, 'r', encoding='utf-8') as f:\n",
    "        for line_num, line in enumerate(f, 1):\n",
    "            line = line.strip()\n",
    "            if not line:  # Skip empty lines\n",
    "                continue\n",
    "                \n",
    "            try:\n",
    "                if '→' not in line:\n",
    "                    print(f\"Warning: Line {line_num} does not contain '→' separator: {line}\")\n",
    "                    continue\n",
    "                    \n",
    "                parts = line.split('→')\n",
    "                if len(parts) != 2:\n",
    "                    print(f\"Warning: Line {line_num} is not in the correct format 'image → text': {line}\")\n",
    "                    continue\n",
    "                    \n",
    "                img_name, text = parts\n",
    "                text = text.strip()\n",
    "                if not text or text == '<ground_truth_text>':\n",
    "                    print(f\"Warning: Line {line_num} has no valid ground truth text: {line}\")\n",
    "                    continue\n",
    "                    \n",
    "                ground_truth[img_name] = text\n",
    "                \n",
    "            except Exception as e:\n",
    "                print(f\"Error processing line {line_num}: {line}\")\n",
    "                print(f\"Error details: {str(e)}\")\n",
    "                continue\n",
    "    \n",
    "    if not ground_truth:\n",
    "        raise ValueError(\"No valid ground truth data found in the file. Please check the format.\")\n",
    "    \n",
    "    total_time = 0\n",
    "    total_char_acc = 0\n",
    "    total_word_acc = 0\n",
    "    processed = 0\n",
    "    \n",
    "    start_time = time.time()\n",
    "    results = process_image_batch(test_images, model, batch_size)\n",
    "    total_time = time.time() - start_time\n",
    "    \n",
    "    for img_name, pred_text in results:\n",
    "        if img_name in ground_truth:\n",
    "            char_acc, word_acc = calculate_metrics(pred_text, ground_truth[img_name])\n",
    "            total_char_acc += char_acc\n",
    "            total_word_acc += word_acc\n",
    "            processed += 1\n",
    "    \n",
    "    if processed == 0:\n",
    "        raise ValueError(\"No images could be processed. Check that image names in ground truth match your files.\")\n",
    "    \n",
    "    metrics = {\n",
    "        'avg_char_accuracy': total_char_acc / processed if processed > 0 else 0,\n",
    "        'avg_word_accuracy': total_word_acc / processed if processed > 0 else 0,\n",
    "        'avg_time_per_image': total_time / len(test_images),\n",
    "        'total_images': len(test_images),\n",
    "        'processed_images': processed\n",
    "    }\n",
    "    \n",
    "    return metrics"
   ]
  },
  {
   "cell_type": "code",
   "execution_count": 46,
   "id": "7cd1f5de",
   "metadata": {},
   "outputs": [
    {
     "name": "stdout",
     "output_type": "stream",
     "text": [
      "Running evaluation...\n",
      "Warning: Line 21 has no valid ground truth text: 03016057830503390204001.jpg →\n",
      "Warning: Line 23 has no valid ground truth text: 03016057830504270126001.jpg →\n",
      "Warning: Line 29 has no valid ground truth text: 03016057830513530545001.jpg →\n",
      "Warning: Line 31 has no valid ground truth text: 03016057830514050412001.jpg →\n",
      "Warning: Line 33 has no valid ground truth text: 03016057830514470846001.jpg →\n",
      "Warning: Line 39 has no valid ground truth text: 03016057830523280158001.jpg →\n",
      "Warning: Line 43 has no valid ground truth text: 03017057840505546992001.jpg →\n",
      "Warning: Line 44 has no valid ground truth text: 03017057840513460611001.jpg →\n",
      "Warning: Line 46 has no valid ground truth text: 03017057840514095603001.jpg →\n",
      "Warning: Line 49 has no valid ground truth text: 03017057840514470740001.jpg →\n",
      "Warning: Line 50 has no valid ground truth text: 03017057840514743346001.jpg →\n",
      "Warning: Line 53 has no valid ground truth text: 03017057840515540562001.jpg →\n",
      "Warning: Line 60 has no valid ground truth text: 03017057840523335117001.jpg →\n",
      "Warning: Line 62 has no valid ground truth text: 03018057850504095241001.jpg →\n",
      "Warning: Line 67 has no valid ground truth text: 03018057850506540342001.jpg →\n",
      "Warning: Line 71 has no valid ground truth text: 03018057850513340830001.jpg →\n",
      "Warning: Line 73 has no valid ground truth text: 03018057850513391136001.jpg →\n",
      "Warning: Line 80 has no valid ground truth text: 03018057850514470740001.jpg →\n",
      "Warning: Line 84 has no valid ground truth text: 03019057860503340522001.jpg →\n",
      "Warning: Line 85 has no valid ground truth text: 03019057860503340856001.jpg →\n",
      "Warning: Line 86 has no valid ground truth text: 03019057860503475144001.jpg →\n",
      "Warning: Line 91 has no valid ground truth text: 03019057860504095479001.jpg →\n",
      "Warning: Line 92 has no valid ground truth text: 03019057860504095768001.jpg →\n",
      "Warning: Line 95 has no valid ground truth text: 03019057860504595071001.jpg →\n",
      "Warning: Line 96 has no valid ground truth text: 03019057860504595108001.jpg →\n",
      "Warning: Line 99 has no valid ground truth text: 03019057860504741747001.jpg →\n",
      "Warning: Line 100 has no valid ground truth text: 03019057860504743143001.jpg →\n",
      "Warning: Line 105 has no valid ground truth text: 03020057870503340522001.jpg →\n",
      "Warning: Line 110 has no valid ground truth text: 03020057870504050080001.jpg →\n",
      "Warning: Line 114 has no valid ground truth text: 03020057870504130236001.jpg →\n",
      "Warning: Line 116 has no valid ground truth text: 03020057870504595108001.jpg →\n",
      "Warning: Line 128 has no valid ground truth text: 03021057900504095276001.jpg →\n",
      "Warning: Line 129 has no valid ground truth text: 03021057900504095460001.jpg →\n",
      "Warning: Line 130 has no valid ground truth text: 03021057900504100968001.jpg →\n",
      "Warning: Line 131 has no valid ground truth text: 03021057900504148252001.jpg →\n",
      "Warning: Line 132 has no valid ground truth text: 03021057900504210208001.jpg →\n",
      "Warning: Line 135 has no valid ground truth text: 03021057900504741016001.jpg →\n",
      "Warning: Line 136 has no valid ground truth text: 03021057900505340956001.jpg →\n",
      "Warning: Line 137 has no valid ground truth text: 03021057900505390183001.jpg →\n",
      "Warning: Line 140 has no valid ground truth text: 03021057900513295111001.jpg →\n",
      "Warning: Line 142 has no valid ground truth text: 03024057930503335223001.jpg →\n",
      "Warning: Line 143 has no valid ground truth text: 03024057930503335310001.jpg →\n",
      "Warning: Line 152 has no valid ground truth text: 03024057930503830063001.jpg →\n",
      "Warning: Line 153 has no valid ground truth text: 03024057930504051334001.jpg →\n",
      "Warning: Line 154 has no valid ground truth text: 03024057930504051408001.jpg →\n",
      "Warning: Line 156 has no valid ground truth text: 03024057930504080272001.jpg →\n",
      "Warning: Line 157 has no valid ground truth text: 03024057930504190330001.jpg →\n",
      "Warning: Line 158 has no valid ground truth text: 03024057930504210584001.jpg →\n",
      "Warning: Line 159 has no valid ground truth text: 03024057930504475408001.jpg →\n",
      "Warning: Line 170 has no valid ground truth text: 03027057960507825054001.jpg →\n",
      "Warning: Line 181 has no valid ground truth text: 03030057990503260381001.jpg →\n",
      "Warning: Line 186 has no valid ground truth text: 03030057990503295028001.jpg →\n",
      "Warning: Line 187 has no valid ground truth text: 03030057990503301513001.jpg →\n",
      "Warning: Line 193 has no valid ground truth text: 03030057990503365068001.jpg →\n",
      "Warning: Line 194 has no valid ground truth text: 03030057990503405047001.jpg →\n",
      "Warning: Line 196 has no valid ground truth text: 03030057990503460423001.jpg →\n",
      "Warning: Line 202 has no valid ground truth text: 03033058000514595085001.jpg →\n",
      "Warning: Line 204 has no valid ground truth text: 03033058000523250293001.jpg →\n",
      "Warning: Line 205 has no valid ground truth text: 03033058000523250894001.jpg →\n",
      "Warning: Line 217 has no valid ground truth text: 03033058000526540765001.jpg →\n",
      "Warning: Line 236 has no valid ground truth text: 03034058010524000133001.jpg →\n",
      "Warning: Line 238 has no valid ground truth text: 03034058010524050854001.jpg →\n",
      "\n",
      "Processing batch 1/60\n",
      "Processing 03015057820506540105001.jpg...\n"
     ]
    },
    {
     "name": "stderr",
     "output_type": "stream",
     "text": [
      "d:\\arfa\\code\\ocr\\venv\\Lib\\site-packages\\torch\\utils\\data\\dataloader.py:665: UserWarning: 'pin_memory' argument is set as true but no accelerator is found, then device pinned memory won't be used.\n",
      "  warnings.warn(warn_msg)\n"
     ]
    },
    {
     "name": "stdout",
     "output_type": "stream",
     "text": [
      "Confidence: 0.39\n",
      "Processing 03015057820506540105002.jpg...\n"
     ]
    },
    {
     "name": "stderr",
     "output_type": "stream",
     "text": [
      "d:\\arfa\\code\\ocr\\venv\\Lib\\site-packages\\torch\\utils\\data\\dataloader.py:665: UserWarning: 'pin_memory' argument is set as true but no accelerator is found, then device pinned memory won't be used.\n",
      "  warnings.warn(warn_msg)\n"
     ]
    },
    {
     "name": "stdout",
     "output_type": "stream",
     "text": [
      "Confidence: 0.19\n",
      "Processing 03015057820506540105003.jpg...\n"
     ]
    },
    {
     "name": "stderr",
     "output_type": "stream",
     "text": [
      "d:\\arfa\\code\\ocr\\venv\\Lib\\site-packages\\torch\\utils\\data\\dataloader.py:665: UserWarning: 'pin_memory' argument is set as true but no accelerator is found, then device pinned memory won't be used.\n",
      "  warnings.warn(warn_msg)\n"
     ]
    },
    {
     "name": "stdout",
     "output_type": "stream",
     "text": [
      "Confidence: 0.30\n",
      "Processing 03015057820506540105005.jpg...\n"
     ]
    },
    {
     "name": "stderr",
     "output_type": "stream",
     "text": [
      "d:\\arfa\\code\\ocr\\venv\\Lib\\site-packages\\torch\\utils\\data\\dataloader.py:665: UserWarning: 'pin_memory' argument is set as true but no accelerator is found, then device pinned memory won't be used.\n",
      "  warnings.warn(warn_msg)\n"
     ]
    },
    {
     "name": "stdout",
     "output_type": "stream",
     "text": [
      "Confidence: 0.14\n",
      "\n",
      "Processing batch 2/60\n",
      "Processing 03015057820506540105006.jpg...\n"
     ]
    },
    {
     "name": "stderr",
     "output_type": "stream",
     "text": [
      "d:\\arfa\\code\\ocr\\venv\\Lib\\site-packages\\torch\\utils\\data\\dataloader.py:665: UserWarning: 'pin_memory' argument is set as true but no accelerator is found, then device pinned memory won't be used.\n",
      "  warnings.warn(warn_msg)\n"
     ]
    },
    {
     "name": "stdout",
     "output_type": "stream",
     "text": [
      "Confidence: 0.20\n",
      "Processing 03015057820506540105008.jpg...\n"
     ]
    },
    {
     "name": "stderr",
     "output_type": "stream",
     "text": [
      "d:\\arfa\\code\\ocr\\venv\\Lib\\site-packages\\torch\\utils\\data\\dataloader.py:665: UserWarning: 'pin_memory' argument is set as true but no accelerator is found, then device pinned memory won't be used.\n",
      "  warnings.warn(warn_msg)\n"
     ]
    },
    {
     "name": "stdout",
     "output_type": "stream",
     "text": [
      "Confidence: 0.10\n",
      "Processing 03015057820513070562001.jpg...\n"
     ]
    },
    {
     "name": "stderr",
     "output_type": "stream",
     "text": [
      "d:\\arfa\\code\\ocr\\venv\\Lib\\site-packages\\torch\\utils\\data\\dataloader.py:665: UserWarning: 'pin_memory' argument is set as true but no accelerator is found, then device pinned memory won't be used.\n",
      "  warnings.warn(warn_msg)\n"
     ]
    },
    {
     "name": "stdout",
     "output_type": "stream",
     "text": [
      "Confidence: 0.29\n",
      "Processing 03015057820513070562002.jpg...\n"
     ]
    },
    {
     "name": "stderr",
     "output_type": "stream",
     "text": [
      "d:\\arfa\\code\\ocr\\venv\\Lib\\site-packages\\torch\\utils\\data\\dataloader.py:665: UserWarning: 'pin_memory' argument is set as true but no accelerator is found, then device pinned memory won't be used.\n",
      "  warnings.warn(warn_msg)\n"
     ]
    },
    {
     "name": "stdout",
     "output_type": "stream",
     "text": [
      "Confidence: 0.17\n",
      "\n",
      "Processing batch 3/60\n",
      "Processing 03015057820513070562003.jpg...\n"
     ]
    },
    {
     "name": "stderr",
     "output_type": "stream",
     "text": [
      "d:\\arfa\\code\\ocr\\venv\\Lib\\site-packages\\torch\\utils\\data\\dataloader.py:665: UserWarning: 'pin_memory' argument is set as true but no accelerator is found, then device pinned memory won't be used.\n",
      "  warnings.warn(warn_msg)\n"
     ]
    },
    {
     "name": "stdout",
     "output_type": "stream",
     "text": [
      "Confidence: 0.27\n",
      "Processing 03015057820513070562005.jpg...\n"
     ]
    },
    {
     "name": "stderr",
     "output_type": "stream",
     "text": [
      "d:\\arfa\\code\\ocr\\venv\\Lib\\site-packages\\torch\\utils\\data\\dataloader.py:665: UserWarning: 'pin_memory' argument is set as true but no accelerator is found, then device pinned memory won't be used.\n",
      "  warnings.warn(warn_msg)\n"
     ]
    },
    {
     "name": "stdout",
     "output_type": "stream",
     "text": [
      "Confidence: 0.14\n",
      "Processing 03015057820513070562008.jpg...\n"
     ]
    },
    {
     "name": "stderr",
     "output_type": "stream",
     "text": [
      "d:\\arfa\\code\\ocr\\venv\\Lib\\site-packages\\torch\\utils\\data\\dataloader.py:665: UserWarning: 'pin_memory' argument is set as true but no accelerator is found, then device pinned memory won't be used.\n",
      "  warnings.warn(warn_msg)\n"
     ]
    },
    {
     "name": "stdout",
     "output_type": "stream",
     "text": [
      "Confidence: 0.14\n",
      "Processing 03015057820513280635002.jpg...\n"
     ]
    },
    {
     "name": "stderr",
     "output_type": "stream",
     "text": [
      "d:\\arfa\\code\\ocr\\venv\\Lib\\site-packages\\torch\\utils\\data\\dataloader.py:665: UserWarning: 'pin_memory' argument is set as true but no accelerator is found, then device pinned memory won't be used.\n",
      "  warnings.warn(warn_msg)\n"
     ]
    },
    {
     "name": "stdout",
     "output_type": "stream",
     "text": [
      "Confidence: 0.31\n",
      "\n",
      "Processing batch 4/60\n",
      "Processing 03015057820513280635003.jpg...\n"
     ]
    },
    {
     "name": "stderr",
     "output_type": "stream",
     "text": [
      "d:\\arfa\\code\\ocr\\venv\\Lib\\site-packages\\torch\\utils\\data\\dataloader.py:665: UserWarning: 'pin_memory' argument is set as true but no accelerator is found, then device pinned memory won't be used.\n",
      "  warnings.warn(warn_msg)\n"
     ]
    },
    {
     "name": "stdout",
     "output_type": "stream",
     "text": [
      "Confidence: 0.25\n",
      "Processing 03015057820513280635006.jpg...\n"
     ]
    },
    {
     "name": "stderr",
     "output_type": "stream",
     "text": [
      "d:\\arfa\\code\\ocr\\venv\\Lib\\site-packages\\torch\\utils\\data\\dataloader.py:665: UserWarning: 'pin_memory' argument is set as true but no accelerator is found, then device pinned memory won't be used.\n",
      "  warnings.warn(warn_msg)\n"
     ]
    },
    {
     "name": "stdout",
     "output_type": "stream",
     "text": [
      "Confidence: 0.17\n",
      "Processing 03015057820513955066001.jpg...\n"
     ]
    },
    {
     "name": "stderr",
     "output_type": "stream",
     "text": [
      "d:\\arfa\\code\\ocr\\venv\\Lib\\site-packages\\torch\\utils\\data\\dataloader.py:665: UserWarning: 'pin_memory' argument is set as true but no accelerator is found, then device pinned memory won't be used.\n",
      "  warnings.warn(warn_msg)\n"
     ]
    },
    {
     "name": "stdout",
     "output_type": "stream",
     "text": [
      "Confidence: 0.44\n",
      "Processing 03015057820513955066002.jpg...\n"
     ]
    },
    {
     "name": "stderr",
     "output_type": "stream",
     "text": [
      "d:\\arfa\\code\\ocr\\venv\\Lib\\site-packages\\torch\\utils\\data\\dataloader.py:665: UserWarning: 'pin_memory' argument is set as true but no accelerator is found, then device pinned memory won't be used.\n",
      "  warnings.warn(warn_msg)\n"
     ]
    },
    {
     "name": "stdout",
     "output_type": "stream",
     "text": [
      "Confidence: 0.12\n",
      "\n",
      "Processing batch 5/60\n",
      "Processing 03015057820513955066003.jpg...\n"
     ]
    },
    {
     "name": "stderr",
     "output_type": "stream",
     "text": [
      "d:\\arfa\\code\\ocr\\venv\\Lib\\site-packages\\torch\\utils\\data\\dataloader.py:665: UserWarning: 'pin_memory' argument is set as true but no accelerator is found, then device pinned memory won't be used.\n",
      "  warnings.warn(warn_msg)\n"
     ]
    },
    {
     "name": "stdout",
     "output_type": "stream",
     "text": [
      "Confidence: 0.33\n",
      "Processing 03015057820513955066004.jpg...\n"
     ]
    },
    {
     "name": "stderr",
     "output_type": "stream",
     "text": [
      "d:\\arfa\\code\\ocr\\venv\\Lib\\site-packages\\torch\\utils\\data\\dataloader.py:665: UserWarning: 'pin_memory' argument is set as true but no accelerator is found, then device pinned memory won't be used.\n",
      "  warnings.warn(warn_msg)\n"
     ]
    },
    {
     "name": "stdout",
     "output_type": "stream",
     "text": [
      "Confidence: 0.96\n",
      "Processing 03015057820513955066006.jpg...\n"
     ]
    },
    {
     "name": "stderr",
     "output_type": "stream",
     "text": [
      "d:\\arfa\\code\\ocr\\venv\\Lib\\site-packages\\torch\\utils\\data\\dataloader.py:665: UserWarning: 'pin_memory' argument is set as true but no accelerator is found, then device pinned memory won't be used.\n",
      "  warnings.warn(warn_msg)\n"
     ]
    },
    {
     "name": "stdout",
     "output_type": "stream",
     "text": [
      "Confidence: 0.12\n",
      "Processing 03015057820514050267001.jpg...\n"
     ]
    },
    {
     "name": "stderr",
     "output_type": "stream",
     "text": [
      "d:\\arfa\\code\\ocr\\venv\\Lib\\site-packages\\torch\\utils\\data\\dataloader.py:665: UserWarning: 'pin_memory' argument is set as true but no accelerator is found, then device pinned memory won't be used.\n",
      "  warnings.warn(warn_msg)\n"
     ]
    },
    {
     "name": "stdout",
     "output_type": "stream",
     "text": [
      "Confidence: 0.98\n",
      "\n",
      "Processing batch 6/60\n",
      "Processing 03016057830503390204001.jpg...\n",
      "Confidence: 0.00\n",
      "Processing 03016057830503390594001.jpg...\n",
      "Confidence: 0.00\n",
      "Processing 03016057830503390594001.jpg...\n"
     ]
    },
    {
     "name": "stderr",
     "output_type": "stream",
     "text": [
      "d:\\arfa\\code\\ocr\\venv\\Lib\\site-packages\\torch\\utils\\data\\dataloader.py:665: UserWarning: 'pin_memory' argument is set as true but no accelerator is found, then device pinned memory won't be used.\n",
      "  warnings.warn(warn_msg)\n"
     ]
    },
    {
     "name": "stdout",
     "output_type": "stream",
     "text": [
      "Confidence: 0.04\n",
      "Processing 03016057830504270126001.jpg...\n",
      "Confidence: 0.00\n",
      "Processing 03016057830506540105001.jpg...\n",
      "Confidence: 0.00\n",
      "Processing 03016057830506540105001.jpg...\n"
     ]
    },
    {
     "name": "stderr",
     "output_type": "stream",
     "text": [
      "d:\\arfa\\code\\ocr\\venv\\Lib\\site-packages\\torch\\utils\\data\\dataloader.py:665: UserWarning: 'pin_memory' argument is set as true but no accelerator is found, then device pinned memory won't be used.\n",
      "  warnings.warn(warn_msg)\n"
     ]
    },
    {
     "name": "stdout",
     "output_type": "stream",
     "text": [
      "Confidence: 0.57\n",
      "\n",
      "Processing batch 7/60\n",
      "Processing 03016057830513070562001.jpg...\n"
     ]
    },
    {
     "name": "stderr",
     "output_type": "stream",
     "text": [
      "d:\\arfa\\code\\ocr\\venv\\Lib\\site-packages\\torch\\utils\\data\\dataloader.py:665: UserWarning: 'pin_memory' argument is set as true but no accelerator is found, then device pinned memory won't be used.\n",
      "  warnings.warn(warn_msg)\n"
     ]
    },
    {
     "name": "stdout",
     "output_type": "stream",
     "text": [
      "Confidence: 0.83\n",
      "Processing 03016057830513280164001.jpg...\n"
     ]
    },
    {
     "name": "stderr",
     "output_type": "stream",
     "text": [
      "d:\\arfa\\code\\ocr\\venv\\Lib\\site-packages\\torch\\utils\\data\\dataloader.py:665: UserWarning: 'pin_memory' argument is set as true but no accelerator is found, then device pinned memory won't be used.\n",
      "  warnings.warn(warn_msg)\n"
     ]
    },
    {
     "name": "stdout",
     "output_type": "stream",
     "text": [
      "Confidence: 0.18\n",
      "Processing 03016057830513280226001.jpg...\n"
     ]
    },
    {
     "name": "stderr",
     "output_type": "stream",
     "text": [
      "d:\\arfa\\code\\ocr\\venv\\Lib\\site-packages\\torch\\utils\\data\\dataloader.py:665: UserWarning: 'pin_memory' argument is set as true but no accelerator is found, then device pinned memory won't be used.\n",
      "  warnings.warn(warn_msg)\n"
     ]
    },
    {
     "name": "stdout",
     "output_type": "stream",
     "text": [
      "Confidence: 0.61\n",
      "Processing 03016057830513280331001.jpg...\n"
     ]
    },
    {
     "name": "stderr",
     "output_type": "stream",
     "text": [
      "d:\\arfa\\code\\ocr\\venv\\Lib\\site-packages\\torch\\utils\\data\\dataloader.py:665: UserWarning: 'pin_memory' argument is set as true but no accelerator is found, then device pinned memory won't be used.\n",
      "  warnings.warn(warn_msg)\n"
     ]
    },
    {
     "name": "stdout",
     "output_type": "stream",
     "text": [
      "Confidence: 0.12\n",
      "\n",
      "Processing batch 8/60\n",
      "Processing 03016057830513530545001.jpg...\n",
      "Confidence: 0.00\n",
      "Processing 03016057830513955066001.jpg...\n",
      "Confidence: 0.00\n",
      "Processing 03016057830513955066001.jpg...\n"
     ]
    },
    {
     "name": "stderr",
     "output_type": "stream",
     "text": [
      "d:\\arfa\\code\\ocr\\venv\\Lib\\site-packages\\torch\\utils\\data\\dataloader.py:665: UserWarning: 'pin_memory' argument is set as true but no accelerator is found, then device pinned memory won't be used.\n",
      "  warnings.warn(warn_msg)\n"
     ]
    },
    {
     "name": "stdout",
     "output_type": "stream",
     "text": [
      "Confidence: 0.39\n",
      "Processing 03016057830514050412001.jpg...\n",
      "Confidence: 0.00\n",
      "Processing 03016057830514270163001.jpg...\n",
      "Confidence: 0.00\n",
      "Processing 03016057830514270163001.jpg...\n"
     ]
    },
    {
     "name": "stderr",
     "output_type": "stream",
     "text": [
      "d:\\arfa\\code\\ocr\\venv\\Lib\\site-packages\\torch\\utils\\data\\dataloader.py:665: UserWarning: 'pin_memory' argument is set as true but no accelerator is found, then device pinned memory won't be used.\n",
      "  warnings.warn(warn_msg)\n"
     ]
    },
    {
     "name": "stdout",
     "output_type": "stream",
     "text": [
      "Confidence: 0.35\n",
      "\n",
      "Processing batch 9/60\n",
      "Processing 03016057830514470846001.jpg...\n",
      "Confidence: 0.00\n",
      "Processing 03016057830515540504001.jpg...\n",
      "Confidence: 0.00\n",
      "Processing 03016057830515540504001.jpg...\n"
     ]
    },
    {
     "name": "stderr",
     "output_type": "stream",
     "text": [
      "d:\\arfa\\code\\ocr\\venv\\Lib\\site-packages\\torch\\utils\\data\\dataloader.py:665: UserWarning: 'pin_memory' argument is set as true but no accelerator is found, then device pinned memory won't be used.\n",
      "  warnings.warn(warn_msg)\n"
     ]
    },
    {
     "name": "stdout",
     "output_type": "stream",
     "text": [
      "Confidence: 0.25\n",
      "Processing 03016057830523270176001.jpg...\n"
     ]
    },
    {
     "name": "stderr",
     "output_type": "stream",
     "text": [
      "d:\\arfa\\code\\ocr\\venv\\Lib\\site-packages\\torch\\utils\\data\\dataloader.py:665: UserWarning: 'pin_memory' argument is set as true but no accelerator is found, then device pinned memory won't be used.\n",
      "  warnings.warn(warn_msg)\n"
     ]
    },
    {
     "name": "stdout",
     "output_type": "stream",
     "text": [
      "Confidence: 0.10\n",
      "Processing 03016057830523280063001.jpg...\n"
     ]
    },
    {
     "name": "stderr",
     "output_type": "stream",
     "text": [
      "d:\\arfa\\code\\ocr\\venv\\Lib\\site-packages\\torch\\utils\\data\\dataloader.py:665: UserWarning: 'pin_memory' argument is set as true but no accelerator is found, then device pinned memory won't be used.\n",
      "  warnings.warn(warn_msg)\n"
     ]
    },
    {
     "name": "stdout",
     "output_type": "stream",
     "text": [
      "Confidence: 0.38\n",
      "\n",
      "Processing batch 10/60\n",
      "Processing 03016057830523280064001.jpg...\n"
     ]
    },
    {
     "name": "stderr",
     "output_type": "stream",
     "text": [
      "d:\\arfa\\code\\ocr\\venv\\Lib\\site-packages\\torch\\utils\\data\\dataloader.py:665: UserWarning: 'pin_memory' argument is set as true but no accelerator is found, then device pinned memory won't be used.\n",
      "  warnings.warn(warn_msg)\n"
     ]
    },
    {
     "name": "stdout",
     "output_type": "stream",
     "text": [
      "Confidence: 0.42\n",
      "Processing 03016057830523280109001.jpg...\n"
     ]
    },
    {
     "name": "stderr",
     "output_type": "stream",
     "text": [
      "d:\\arfa\\code\\ocr\\venv\\Lib\\site-packages\\torch\\utils\\data\\dataloader.py:665: UserWarning: 'pin_memory' argument is set as true but no accelerator is found, then device pinned memory won't be used.\n",
      "  warnings.warn(warn_msg)\n"
     ]
    },
    {
     "name": "stdout",
     "output_type": "stream",
     "text": [
      "Confidence: 0.85\n",
      "Processing 03016057830523280158001.jpg...\n",
      "Confidence: 0.00\n",
      "Processing 03016057830523280370001.jpg...\n",
      "Confidence: 0.00\n",
      "Processing 03016057830523280370001.jpg...\n"
     ]
    },
    {
     "name": "stderr",
     "output_type": "stream",
     "text": [
      "d:\\arfa\\code\\ocr\\venv\\Lib\\site-packages\\torch\\utils\\data\\dataloader.py:665: UserWarning: 'pin_memory' argument is set as true but no accelerator is found, then device pinned memory won't be used.\n",
      "  warnings.warn(warn_msg)\n"
     ]
    },
    {
     "name": "stdout",
     "output_type": "stream",
     "text": [
      "Confidence: 0.68\n",
      "\n",
      "Processing batch 11/60\n",
      "Processing 03017057840504075057001.jpg...\n"
     ]
    },
    {
     "name": "stderr",
     "output_type": "stream",
     "text": [
      "d:\\arfa\\code\\ocr\\venv\\Lib\\site-packages\\torch\\utils\\data\\dataloader.py:665: UserWarning: 'pin_memory' argument is set as true but no accelerator is found, then device pinned memory won't be used.\n",
      "  warnings.warn(warn_msg)\n"
     ]
    },
    {
     "name": "stdout",
     "output_type": "stream",
     "text": [
      "Confidence: 0.36\n",
      "Processing 03017057840504475169001.jpg...\n"
     ]
    },
    {
     "name": "stderr",
     "output_type": "stream",
     "text": [
      "d:\\arfa\\code\\ocr\\venv\\Lib\\site-packages\\torch\\utils\\data\\dataloader.py:665: UserWarning: 'pin_memory' argument is set as true but no accelerator is found, then device pinned memory won't be used.\n",
      "  warnings.warn(warn_msg)\n"
     ]
    },
    {
     "name": "stdout",
     "output_type": "stream",
     "text": [
      "Confidence: 0.66\n",
      "Processing 03017057840505546992001.jpg...\n",
      "Confidence: 0.00\n",
      "Processing 03017057840513460611001.jpg...\n",
      "Confidence: 0.00\n",
      "\n",
      "Processing batch 12/60\n",
      "Processing 03017057840514090074001.jpg...\n",
      "Confidence: 0.00\n",
      "\n",
      "Processing batch 12/60\n",
      "Processing 03017057840514090074001.jpg...\n"
     ]
    },
    {
     "name": "stderr",
     "output_type": "stream",
     "text": [
      "d:\\arfa\\code\\ocr\\venv\\Lib\\site-packages\\torch\\utils\\data\\dataloader.py:665: UserWarning: 'pin_memory' argument is set as true but no accelerator is found, then device pinned memory won't be used.\n",
      "  warnings.warn(warn_msg)\n"
     ]
    },
    {
     "name": "stdout",
     "output_type": "stream",
     "text": [
      "Confidence: 0.15\n",
      "Processing 03017057840514095603001.jpg...\n",
      "Confidence: 0.00\n",
      "Processing 03017057840514095679001.jpg...\n"
     ]
    },
    {
     "name": "stderr",
     "output_type": "stream",
     "text": [
      "d:\\arfa\\code\\ocr\\venv\\Lib\\site-packages\\torch\\utils\\data\\dataloader.py:665: UserWarning: 'pin_memory' argument is set as true but no accelerator is found, then device pinned memory won't be used.\n",
      "  warnings.warn(warn_msg)\n"
     ]
    },
    {
     "name": "stdout",
     "output_type": "stream",
     "text": [
      "Confidence: 0.21\n",
      "Processing 03017057840514095709001.jpg...\n"
     ]
    },
    {
     "name": "stderr",
     "output_type": "stream",
     "text": [
      "d:\\arfa\\code\\ocr\\venv\\Lib\\site-packages\\torch\\utils\\data\\dataloader.py:665: UserWarning: 'pin_memory' argument is set as true but no accelerator is found, then device pinned memory won't be used.\n",
      "  warnings.warn(warn_msg)\n"
     ]
    },
    {
     "name": "stdout",
     "output_type": "stream",
     "text": [
      "Confidence: 0.27\n",
      "\n",
      "Processing batch 13/60\n",
      "Processing 03017057840514470740001.jpg...\n",
      "Confidence: 0.00\n",
      "Processing 03017057840514743346001.jpg...\n",
      "Confidence: 0.00\n",
      "Processing 03017057840514743471001.jpg...\n",
      "Confidence: 0.00\n",
      "Processing 03017057840514743471001.jpg...\n"
     ]
    },
    {
     "name": "stderr",
     "output_type": "stream",
     "text": [
      "d:\\arfa\\code\\ocr\\venv\\Lib\\site-packages\\torch\\utils\\data\\dataloader.py:665: UserWarning: 'pin_memory' argument is set as true but no accelerator is found, then device pinned memory won't be used.\n",
      "  warnings.warn(warn_msg)\n"
     ]
    },
    {
     "name": "stdout",
     "output_type": "stream",
     "text": [
      "Confidence: 0.31\n",
      "Processing 03017057840514743485001.jpg...\n"
     ]
    },
    {
     "name": "stderr",
     "output_type": "stream",
     "text": [
      "d:\\arfa\\code\\ocr\\venv\\Lib\\site-packages\\torch\\utils\\data\\dataloader.py:665: UserWarning: 'pin_memory' argument is set as true but no accelerator is found, then device pinned memory won't be used.\n",
      "  warnings.warn(warn_msg)\n"
     ]
    },
    {
     "name": "stdout",
     "output_type": "stream",
     "text": [
      "Confidence: 0.19\n",
      "\n",
      "Processing batch 14/60\n",
      "Processing 03017057840515540562001.jpg...\n",
      "Confidence: 0.00\n",
      "Processing 03017057840515541166001.jpg...\n"
     ]
    },
    {
     "name": "stderr",
     "output_type": "stream",
     "text": [
      "d:\\arfa\\code\\ocr\\venv\\Lib\\site-packages\\torch\\utils\\data\\dataloader.py:665: UserWarning: 'pin_memory' argument is set as true but no accelerator is found, then device pinned memory won't be used.\n",
      "  warnings.warn(warn_msg)\n"
     ]
    },
    {
     "name": "stdout",
     "output_type": "stream",
     "text": [
      "Confidence: 0.29\n",
      "Processing 03017057840515880004001.jpg...\n"
     ]
    },
    {
     "name": "stderr",
     "output_type": "stream",
     "text": [
      "d:\\arfa\\code\\ocr\\venv\\Lib\\site-packages\\torch\\utils\\data\\dataloader.py:665: UserWarning: 'pin_memory' argument is set as true but no accelerator is found, then device pinned memory won't be used.\n",
      "  warnings.warn(warn_msg)\n"
     ]
    },
    {
     "name": "stdout",
     "output_type": "stream",
     "text": [
      "Confidence: 0.41\n",
      "Processing 03017057840515885115001.jpg...\n"
     ]
    },
    {
     "name": "stderr",
     "output_type": "stream",
     "text": [
      "d:\\arfa\\code\\ocr\\venv\\Lib\\site-packages\\torch\\utils\\data\\dataloader.py:665: UserWarning: 'pin_memory' argument is set as true but no accelerator is found, then device pinned memory won't be used.\n",
      "  warnings.warn(warn_msg)\n"
     ]
    },
    {
     "name": "stdout",
     "output_type": "stream",
     "text": [
      "Confidence: 0.19\n",
      "\n",
      "Processing batch 15/60\n",
      "Processing 03017057840516435121001.jpg...\n"
     ]
    },
    {
     "name": "stderr",
     "output_type": "stream",
     "text": [
      "d:\\arfa\\code\\ocr\\venv\\Lib\\site-packages\\torch\\utils\\data\\dataloader.py:665: UserWarning: 'pin_memory' argument is set as true but no accelerator is found, then device pinned memory won't be used.\n",
      "  warnings.warn(warn_msg)\n"
     ]
    },
    {
     "name": "stdout",
     "output_type": "stream",
     "text": [
      "Confidence: 0.27\n",
      "Processing 03017057840517810330001.jpg...\n"
     ]
    },
    {
     "name": "stderr",
     "output_type": "stream",
     "text": [
      "d:\\arfa\\code\\ocr\\venv\\Lib\\site-packages\\torch\\utils\\data\\dataloader.py:665: UserWarning: 'pin_memory' argument is set as true but no accelerator is found, then device pinned memory won't be used.\n",
      "  warnings.warn(warn_msg)\n"
     ]
    },
    {
     "name": "stdout",
     "output_type": "stream",
     "text": [
      "Confidence: 0.09\n",
      "Processing 03017057840523280295001.jpg...\n"
     ]
    },
    {
     "name": "stderr",
     "output_type": "stream",
     "text": [
      "d:\\arfa\\code\\ocr\\venv\\Lib\\site-packages\\torch\\utils\\data\\dataloader.py:665: UserWarning: 'pin_memory' argument is set as true but no accelerator is found, then device pinned memory won't be used.\n",
      "  warnings.warn(warn_msg)\n"
     ]
    },
    {
     "name": "stdout",
     "output_type": "stream",
     "text": [
      "Confidence: 0.27\n",
      "Processing 03017057840523335117001.jpg...\n",
      "Confidence: 0.00\n",
      "\n",
      "Processing batch 16/60\n",
      "Processing 03018057850503265148001.jpg...\n",
      "Confidence: 0.00\n",
      "\n",
      "Processing batch 16/60\n",
      "Processing 03018057850503265148001.jpg...\n"
     ]
    },
    {
     "name": "stderr",
     "output_type": "stream",
     "text": [
      "d:\\arfa\\code\\ocr\\venv\\Lib\\site-packages\\torch\\utils\\data\\dataloader.py:665: UserWarning: 'pin_memory' argument is set as true but no accelerator is found, then device pinned memory won't be used.\n",
      "  warnings.warn(warn_msg)\n"
     ]
    },
    {
     "name": "stdout",
     "output_type": "stream",
     "text": [
      "Confidence: 0.12\n",
      "Processing 03018057850504095241001.jpg...\n",
      "Confidence: 0.00\n",
      "Processing 03018057850504475169001.jpg...\n",
      "Confidence: 0.00\n",
      "Processing 03018057850504475169001.jpg...\n"
     ]
    },
    {
     "name": "stderr",
     "output_type": "stream",
     "text": [
      "d:\\arfa\\code\\ocr\\venv\\Lib\\site-packages\\torch\\utils\\data\\dataloader.py:665: UserWarning: 'pin_memory' argument is set as true but no accelerator is found, then device pinned memory won't be used.\n",
      "  warnings.warn(warn_msg)\n"
     ]
    },
    {
     "name": "stdout",
     "output_type": "stream",
     "text": [
      "Confidence: 0.25\n",
      "Processing 03018057850504800033001.jpg...\n"
     ]
    },
    {
     "name": "stderr",
     "output_type": "stream",
     "text": [
      "d:\\arfa\\code\\ocr\\venv\\Lib\\site-packages\\torch\\utils\\data\\dataloader.py:665: UserWarning: 'pin_memory' argument is set as true but no accelerator is found, then device pinned memory won't be used.\n",
      "  warnings.warn(warn_msg)\n"
     ]
    },
    {
     "name": "stdout",
     "output_type": "stream",
     "text": [
      "Confidence: 0.12\n",
      "\n",
      "Processing batch 17/60\n",
      "Processing 03018057850505541440001.jpg...\n"
     ]
    },
    {
     "name": "stderr",
     "output_type": "stream",
     "text": [
      "d:\\arfa\\code\\ocr\\venv\\Lib\\site-packages\\torch\\utils\\data\\dataloader.py:665: UserWarning: 'pin_memory' argument is set as true but no accelerator is found, then device pinned memory won't be used.\n",
      "  warnings.warn(warn_msg)\n"
     ]
    },
    {
     "name": "stdout",
     "output_type": "stream",
     "text": [
      "Confidence: 0.33\n",
      "Processing 03018057850505546992001.jpg...\n"
     ]
    },
    {
     "name": "stderr",
     "output_type": "stream",
     "text": [
      "d:\\arfa\\code\\ocr\\venv\\Lib\\site-packages\\torch\\utils\\data\\dataloader.py:665: UserWarning: 'pin_memory' argument is set as true but no accelerator is found, then device pinned memory won't be used.\n",
      "  warnings.warn(warn_msg)\n"
     ]
    },
    {
     "name": "stdout",
     "output_type": "stream",
     "text": [
      "Confidence: 0.10\n",
      "Processing 03018057850506540342001.jpg...\n",
      "Confidence: 0.00\n",
      "Processing 03018057850513260733001.jpg...\n",
      "Confidence: 0.00\n",
      "Processing 03018057850513260733001.jpg...\n"
     ]
    },
    {
     "name": "stderr",
     "output_type": "stream",
     "text": [
      "d:\\arfa\\code\\ocr\\venv\\Lib\\site-packages\\torch\\utils\\data\\dataloader.py:665: UserWarning: 'pin_memory' argument is set as true but no accelerator is found, then device pinned memory won't be used.\n",
      "  warnings.warn(warn_msg)\n"
     ]
    },
    {
     "name": "stdout",
     "output_type": "stream",
     "text": [
      "Confidence: 0.11\n",
      "\n",
      "Processing batch 18/60\n",
      "Processing 03018057850513280512001.jpg...\n"
     ]
    },
    {
     "name": "stderr",
     "output_type": "stream",
     "text": [
      "d:\\arfa\\code\\ocr\\venv\\Lib\\site-packages\\torch\\utils\\data\\dataloader.py:665: UserWarning: 'pin_memory' argument is set as true but no accelerator is found, then device pinned memory won't be used.\n",
      "  warnings.warn(warn_msg)\n"
     ]
    },
    {
     "name": "stdout",
     "output_type": "stream",
     "text": [
      "Confidence: 0.23\n",
      "Processing 03018057850513280745001.jpg...\n"
     ]
    },
    {
     "name": "stderr",
     "output_type": "stream",
     "text": [
      "d:\\arfa\\code\\ocr\\venv\\Lib\\site-packages\\torch\\utils\\data\\dataloader.py:665: UserWarning: 'pin_memory' argument is set as true but no accelerator is found, then device pinned memory won't be used.\n",
      "  warnings.warn(warn_msg)\n"
     ]
    },
    {
     "name": "stdout",
     "output_type": "stream",
     "text": [
      "Confidence: 0.31\n",
      "Processing 03018057850513340830001.jpg...\n",
      "Confidence: 0.00\n",
      "Processing 03018057850513390423001.jpg...\n",
      "Confidence: 0.00\n",
      "Processing 03018057850513390423001.jpg...\n"
     ]
    },
    {
     "name": "stderr",
     "output_type": "stream",
     "text": [
      "d:\\arfa\\code\\ocr\\venv\\Lib\\site-packages\\torch\\utils\\data\\dataloader.py:665: UserWarning: 'pin_memory' argument is set as true but no accelerator is found, then device pinned memory won't be used.\n",
      "  warnings.warn(warn_msg)\n"
     ]
    },
    {
     "name": "stdout",
     "output_type": "stream",
     "text": [
      "Confidence: 0.33\n",
      "\n",
      "Processing batch 19/60\n",
      "Processing 03018057850513391136001.jpg...\n",
      "Confidence: 0.00\n",
      "Processing 03018057850514050151001.jpg...\n",
      "Confidence: 0.00\n",
      "Processing 03018057850514050151001.jpg...\n"
     ]
    },
    {
     "name": "stderr",
     "output_type": "stream",
     "text": [
      "d:\\arfa\\code\\ocr\\venv\\Lib\\site-packages\\torch\\utils\\data\\dataloader.py:665: UserWarning: 'pin_memory' argument is set as true but no accelerator is found, then device pinned memory won't be used.\n",
      "  warnings.warn(warn_msg)\n"
     ]
    },
    {
     "name": "stdout",
     "output_type": "stream",
     "text": [
      "Confidence: 0.14\n",
      "Processing 03018057850514050289001.jpg...\n"
     ]
    },
    {
     "name": "stderr",
     "output_type": "stream",
     "text": [
      "d:\\arfa\\code\\ocr\\venv\\Lib\\site-packages\\torch\\utils\\data\\dataloader.py:665: UserWarning: 'pin_memory' argument is set as true but no accelerator is found, then device pinned memory won't be used.\n",
      "  warnings.warn(warn_msg)\n"
     ]
    },
    {
     "name": "stdout",
     "output_type": "stream",
     "text": [
      "Confidence: 0.11\n",
      "Processing 03018057850514090074001.jpg...\n"
     ]
    },
    {
     "name": "stderr",
     "output_type": "stream",
     "text": [
      "d:\\arfa\\code\\ocr\\venv\\Lib\\site-packages\\torch\\utils\\data\\dataloader.py:665: UserWarning: 'pin_memory' argument is set as true but no accelerator is found, then device pinned memory won't be used.\n",
      "  warnings.warn(warn_msg)\n"
     ]
    },
    {
     "name": "stdout",
     "output_type": "stream",
     "text": [
      "Confidence: 0.29\n",
      "\n",
      "Processing batch 20/60\n",
      "Processing 03018057850514095679001.jpg...\n"
     ]
    },
    {
     "name": "stderr",
     "output_type": "stream",
     "text": [
      "d:\\arfa\\code\\ocr\\venv\\Lib\\site-packages\\torch\\utils\\data\\dataloader.py:665: UserWarning: 'pin_memory' argument is set as true but no accelerator is found, then device pinned memory won't be used.\n",
      "  warnings.warn(warn_msg)\n"
     ]
    },
    {
     "name": "stdout",
     "output_type": "stream",
     "text": [
      "Confidence: 0.15\n",
      "Processing 03018057850514095709001.jpg...\n"
     ]
    },
    {
     "name": "stderr",
     "output_type": "stream",
     "text": [
      "d:\\arfa\\code\\ocr\\venv\\Lib\\site-packages\\torch\\utils\\data\\dataloader.py:665: UserWarning: 'pin_memory' argument is set as true but no accelerator is found, then device pinned memory won't be used.\n",
      "  warnings.warn(warn_msg)\n"
     ]
    },
    {
     "name": "stdout",
     "output_type": "stream",
     "text": [
      "Confidence: 0.51\n",
      "Processing 03018057850514270369001.jpg...\n"
     ]
    },
    {
     "name": "stderr",
     "output_type": "stream",
     "text": [
      "d:\\arfa\\code\\ocr\\venv\\Lib\\site-packages\\torch\\utils\\data\\dataloader.py:665: UserWarning: 'pin_memory' argument is set as true but no accelerator is found, then device pinned memory won't be used.\n",
      "  warnings.warn(warn_msg)\n"
     ]
    },
    {
     "name": "stdout",
     "output_type": "stream",
     "text": [
      "Confidence: 0.49\n",
      "Processing 03018057850514470740001.jpg...\n",
      "Confidence: 0.00\n",
      "\n",
      "Processing batch 21/60\n",
      "Processing 03019057860503260267001.jpg...\n",
      "Confidence: 0.00\n",
      "\n",
      "Processing batch 21/60\n",
      "Processing 03019057860503260267001.jpg...\n"
     ]
    },
    {
     "name": "stderr",
     "output_type": "stream",
     "text": [
      "d:\\arfa\\code\\ocr\\venv\\Lib\\site-packages\\torch\\utils\\data\\dataloader.py:665: UserWarning: 'pin_memory' argument is set as true but no accelerator is found, then device pinned memory won't be used.\n",
      "  warnings.warn(warn_msg)\n"
     ]
    },
    {
     "name": "stdout",
     "output_type": "stream",
     "text": [
      "Confidence: 0.22\n",
      "Processing 03019057860503280010001.jpg...\n"
     ]
    },
    {
     "name": "stderr",
     "output_type": "stream",
     "text": [
      "d:\\arfa\\code\\ocr\\venv\\Lib\\site-packages\\torch\\utils\\data\\dataloader.py:665: UserWarning: 'pin_memory' argument is set as true but no accelerator is found, then device pinned memory won't be used.\n",
      "  warnings.warn(warn_msg)\n"
     ]
    },
    {
     "name": "stdout",
     "output_type": "stream",
     "text": [
      "Confidence: 0.20\n",
      "Processing 03019057860503280227001.jpg...\n"
     ]
    },
    {
     "name": "stderr",
     "output_type": "stream",
     "text": [
      "d:\\arfa\\code\\ocr\\venv\\Lib\\site-packages\\torch\\utils\\data\\dataloader.py:665: UserWarning: 'pin_memory' argument is set as true but no accelerator is found, then device pinned memory won't be used.\n",
      "  warnings.warn(warn_msg)\n"
     ]
    },
    {
     "name": "stdout",
     "output_type": "stream",
     "text": [
      "Confidence: 0.49\n",
      "Processing 03019057860503340522001.jpg...\n",
      "Confidence: 0.00\n",
      "\n",
      "Processing batch 22/60\n",
      "Processing 03019057860503340856001.jpg...\n",
      "Confidence: 0.00\n",
      "\n",
      "Processing batch 22/60\n",
      "Processing 03019057860503340856001.jpg...\n",
      "Confidence: 0.00\n",
      "Processing 03019057860503475144001.jpg...\n",
      "Confidence: 0.00\n",
      "Processing 03019057860503710206001.jpg...\n",
      "Confidence: 0.00\n",
      "Processing 03019057860503475144001.jpg...\n",
      "Confidence: 0.00\n",
      "Processing 03019057860503710206001.jpg...\n"
     ]
    },
    {
     "name": "stderr",
     "output_type": "stream",
     "text": [
      "d:\\arfa\\code\\ocr\\venv\\Lib\\site-packages\\torch\\utils\\data\\dataloader.py:665: UserWarning: 'pin_memory' argument is set as true but no accelerator is found, then device pinned memory won't be used.\n",
      "  warnings.warn(warn_msg)\n"
     ]
    },
    {
     "name": "stdout",
     "output_type": "stream",
     "text": [
      "Confidence: 0.49\n",
      "Processing 03019057860504050041001.jpg...\n"
     ]
    },
    {
     "name": "stderr",
     "output_type": "stream",
     "text": [
      "d:\\arfa\\code\\ocr\\venv\\Lib\\site-packages\\torch\\utils\\data\\dataloader.py:665: UserWarning: 'pin_memory' argument is set as true but no accelerator is found, then device pinned memory won't be used.\n",
      "  warnings.warn(warn_msg)\n"
     ]
    },
    {
     "name": "stdout",
     "output_type": "stream",
     "text": [
      "Confidence: 0.27\n",
      "\n",
      "Processing batch 23/60\n",
      "Processing 03019057860504050080001.jpg...\n"
     ]
    },
    {
     "name": "stderr",
     "output_type": "stream",
     "text": [
      "d:\\arfa\\code\\ocr\\venv\\Lib\\site-packages\\torch\\utils\\data\\dataloader.py:665: UserWarning: 'pin_memory' argument is set as true but no accelerator is found, then device pinned memory won't be used.\n",
      "  warnings.warn(warn_msg)\n"
     ]
    },
    {
     "name": "stdout",
     "output_type": "stream",
     "text": [
      "Confidence: 0.20\n",
      "Processing 03019057860504095446001.jpg...\n"
     ]
    },
    {
     "name": "stderr",
     "output_type": "stream",
     "text": [
      "d:\\arfa\\code\\ocr\\venv\\Lib\\site-packages\\torch\\utils\\data\\dataloader.py:665: UserWarning: 'pin_memory' argument is set as true but no accelerator is found, then device pinned memory won't be used.\n",
      "  warnings.warn(warn_msg)\n"
     ]
    },
    {
     "name": "stdout",
     "output_type": "stream",
     "text": [
      "Confidence: 0.06\n",
      "Processing 03019057860504095479001.jpg...\n",
      "Confidence: 0.00\n",
      "Processing 03019057860504095768001.jpg...\n",
      "Confidence: 0.00\n",
      "\n",
      "Processing batch 24/60\n",
      "Processing 03019057860504130236001.jpg...\n",
      "Confidence: 0.00\n",
      "\n",
      "Processing batch 24/60\n",
      "Processing 03019057860504130236001.jpg...\n"
     ]
    },
    {
     "name": "stderr",
     "output_type": "stream",
     "text": [
      "d:\\arfa\\code\\ocr\\venv\\Lib\\site-packages\\torch\\utils\\data\\dataloader.py:665: UserWarning: 'pin_memory' argument is set as true but no accelerator is found, then device pinned memory won't be used.\n",
      "  warnings.warn(warn_msg)\n"
     ]
    },
    {
     "name": "stdout",
     "output_type": "stream",
     "text": [
      "Confidence: 0.26\n",
      "Processing 03019057860504530827001.jpg...\n"
     ]
    },
    {
     "name": "stderr",
     "output_type": "stream",
     "text": [
      "d:\\arfa\\code\\ocr\\venv\\Lib\\site-packages\\torch\\utils\\data\\dataloader.py:665: UserWarning: 'pin_memory' argument is set as true but no accelerator is found, then device pinned memory won't be used.\n",
      "  warnings.warn(warn_msg)\n"
     ]
    },
    {
     "name": "stdout",
     "output_type": "stream",
     "text": [
      "Confidence: 0.73\n",
      "Processing 03019057860504595071001.jpg...\n",
      "Confidence: 0.00\n",
      "Processing 03019057860504595108001.jpg...\n",
      "Confidence: 0.00\n",
      "Processing 03019057860504595108001.jpg...\n",
      "Confidence: 0.00\n",
      "\n",
      "Processing batch 25/60\n",
      "Processing 03019057860504740116001.jpg...\n",
      "Confidence: 0.00\n",
      "\n",
      "Processing batch 25/60\n",
      "Processing 03019057860504740116001.jpg...\n"
     ]
    },
    {
     "name": "stderr",
     "output_type": "stream",
     "text": [
      "d:\\arfa\\code\\ocr\\venv\\Lib\\site-packages\\torch\\utils\\data\\dataloader.py:665: UserWarning: 'pin_memory' argument is set as true but no accelerator is found, then device pinned memory won't be used.\n",
      "  warnings.warn(warn_msg)\n"
     ]
    },
    {
     "name": "stdout",
     "output_type": "stream",
     "text": [
      "Confidence: 0.61\n",
      "Processing 03019057860504741110001.jpg...\n"
     ]
    },
    {
     "name": "stderr",
     "output_type": "stream",
     "text": [
      "d:\\arfa\\code\\ocr\\venv\\Lib\\site-packages\\torch\\utils\\data\\dataloader.py:665: UserWarning: 'pin_memory' argument is set as true but no accelerator is found, then device pinned memory won't be used.\n",
      "  warnings.warn(warn_msg)\n"
     ]
    },
    {
     "name": "stdout",
     "output_type": "stream",
     "text": [
      "Confidence: 0.26\n",
      "Processing 03019057860504741747001.jpg...\n",
      "Confidence: 0.00\n",
      "Processing 03019057860504743143001.jpg...\n",
      "Confidence: 0.00\n",
      "Processing 03019057860504743143001.jpg...\n",
      "Confidence: 0.00\n",
      "\n",
      "Processing batch 26/60\n",
      "Processing 03020057870503250303001.jpg...\n",
      "Confidence: 0.00\n",
      "\n",
      "Processing batch 26/60\n",
      "Processing 03020057870503250303001.jpg...\n"
     ]
    },
    {
     "name": "stderr",
     "output_type": "stream",
     "text": [
      "d:\\arfa\\code\\ocr\\venv\\Lib\\site-packages\\torch\\utils\\data\\dataloader.py:665: UserWarning: 'pin_memory' argument is set as true but no accelerator is found, then device pinned memory won't be used.\n",
      "  warnings.warn(warn_msg)\n"
     ]
    },
    {
     "name": "stdout",
     "output_type": "stream",
     "text": [
      "Confidence: 0.17\n",
      "Processing 03020057870503260267001.jpg...\n"
     ]
    },
    {
     "name": "stderr",
     "output_type": "stream",
     "text": [
      "d:\\arfa\\code\\ocr\\venv\\Lib\\site-packages\\torch\\utils\\data\\dataloader.py:665: UserWarning: 'pin_memory' argument is set as true but no accelerator is found, then device pinned memory won't be used.\n",
      "  warnings.warn(warn_msg)\n"
     ]
    },
    {
     "name": "stdout",
     "output_type": "stream",
     "text": [
      "Confidence: 0.17\n",
      "Processing 03020057870503280010001.jpg...\n"
     ]
    },
    {
     "name": "stderr",
     "output_type": "stream",
     "text": [
      "d:\\arfa\\code\\ocr\\venv\\Lib\\site-packages\\torch\\utils\\data\\dataloader.py:665: UserWarning: 'pin_memory' argument is set as true but no accelerator is found, then device pinned memory won't be used.\n",
      "  warnings.warn(warn_msg)\n"
     ]
    },
    {
     "name": "stdout",
     "output_type": "stream",
     "text": [
      "Confidence: 0.34\n",
      "Processing 03020057870503280227001.jpg...\n"
     ]
    },
    {
     "name": "stderr",
     "output_type": "stream",
     "text": [
      "d:\\arfa\\code\\ocr\\venv\\Lib\\site-packages\\torch\\utils\\data\\dataloader.py:665: UserWarning: 'pin_memory' argument is set as true but no accelerator is found, then device pinned memory won't be used.\n",
      "  warnings.warn(warn_msg)\n"
     ]
    },
    {
     "name": "stdout",
     "output_type": "stream",
     "text": [
      "Confidence: 0.17\n",
      "\n",
      "Processing batch 27/60\n",
      "Processing 03020057870503340522001.jpg...\n",
      "Confidence: 0.00\n",
      "Processing 03020057870503390615001.jpg...\n",
      "Confidence: 0.00\n",
      "Processing 03020057870503390615001.jpg...\n"
     ]
    },
    {
     "name": "stderr",
     "output_type": "stream",
     "text": [
      "d:\\arfa\\code\\ocr\\venv\\Lib\\site-packages\\torch\\utils\\data\\dataloader.py:665: UserWarning: 'pin_memory' argument is set as true but no accelerator is found, then device pinned memory won't be used.\n",
      "  warnings.warn(warn_msg)\n"
     ]
    },
    {
     "name": "stdout",
     "output_type": "stream",
     "text": [
      "Confidence: 0.31\n",
      "Processing 03020057870503475144001.jpg...\n"
     ]
    },
    {
     "name": "stderr",
     "output_type": "stream",
     "text": [
      "d:\\arfa\\code\\ocr\\venv\\Lib\\site-packages\\torch\\utils\\data\\dataloader.py:665: UserWarning: 'pin_memory' argument is set as true but no accelerator is found, then device pinned memory won't be used.\n",
      "  warnings.warn(warn_msg)\n"
     ]
    },
    {
     "name": "stdout",
     "output_type": "stream",
     "text": [
      "Confidence: 0.12\n",
      "Processing 03020057870503710206001.jpg...\n"
     ]
    },
    {
     "name": "stderr",
     "output_type": "stream",
     "text": [
      "d:\\arfa\\code\\ocr\\venv\\Lib\\site-packages\\torch\\utils\\data\\dataloader.py:665: UserWarning: 'pin_memory' argument is set as true but no accelerator is found, then device pinned memory won't be used.\n",
      "  warnings.warn(warn_msg)\n"
     ]
    },
    {
     "name": "stdout",
     "output_type": "stream",
     "text": [
      "Confidence: 0.67\n",
      "\n",
      "Processing batch 28/60\n",
      "Processing 03020057870504050041001.jpg...\n"
     ]
    },
    {
     "name": "stderr",
     "output_type": "stream",
     "text": [
      "d:\\arfa\\code\\ocr\\venv\\Lib\\site-packages\\torch\\utils\\data\\dataloader.py:665: UserWarning: 'pin_memory' argument is set as true but no accelerator is found, then device pinned memory won't be used.\n",
      "  warnings.warn(warn_msg)\n"
     ]
    },
    {
     "name": "stdout",
     "output_type": "stream",
     "text": [
      "Confidence: 0.19\n",
      "Processing 03020057870504050080001.jpg...\n",
      "Confidence: 0.00\n",
      "Processing 03020057870504051423001.jpg...\n",
      "Confidence: 0.00\n",
      "Processing 03020057870504051423001.jpg...\n"
     ]
    },
    {
     "name": "stderr",
     "output_type": "stream",
     "text": [
      "d:\\arfa\\code\\ocr\\venv\\Lib\\site-packages\\torch\\utils\\data\\dataloader.py:665: UserWarning: 'pin_memory' argument is set as true but no accelerator is found, then device pinned memory won't be used.\n",
      "  warnings.warn(warn_msg)\n"
     ]
    },
    {
     "name": "stdout",
     "output_type": "stream",
     "text": [
      "Confidence: 0.14\n",
      "Processing 03020057870504095000001.jpg...\n"
     ]
    },
    {
     "name": "stderr",
     "output_type": "stream",
     "text": [
      "d:\\arfa\\code\\ocr\\venv\\Lib\\site-packages\\torch\\utils\\data\\dataloader.py:665: UserWarning: 'pin_memory' argument is set as true but no accelerator is found, then device pinned memory won't be used.\n",
      "  warnings.warn(warn_msg)\n"
     ]
    },
    {
     "name": "stdout",
     "output_type": "stream",
     "text": [
      "Confidence: 0.15\n",
      "\n",
      "Processing batch 29/60\n",
      "Processing 03020057870504095446001.jpg...\n"
     ]
    },
    {
     "name": "stderr",
     "output_type": "stream",
     "text": [
      "d:\\arfa\\code\\ocr\\venv\\Lib\\site-packages\\torch\\utils\\data\\dataloader.py:665: UserWarning: 'pin_memory' argument is set as true but no accelerator is found, then device pinned memory won't be used.\n",
      "  warnings.warn(warn_msg)\n"
     ]
    },
    {
     "name": "stdout",
     "output_type": "stream",
     "text": [
      "Confidence: 0.10\n",
      "Processing 03020057870504130236001.jpg...\n",
      "Confidence: 0.00\n",
      "Processing 03020057870504530827001.jpg...\n",
      "Confidence: 0.00\n",
      "Processing 03020057870504530827001.jpg...\n"
     ]
    },
    {
     "name": "stderr",
     "output_type": "stream",
     "text": [
      "d:\\arfa\\code\\ocr\\venv\\Lib\\site-packages\\torch\\utils\\data\\dataloader.py:665: UserWarning: 'pin_memory' argument is set as true but no accelerator is found, then device pinned memory won't be used.\n",
      "  warnings.warn(warn_msg)\n"
     ]
    },
    {
     "name": "stdout",
     "output_type": "stream",
     "text": [
      "Confidence: 0.26\n",
      "Processing 03020057870504595108001.jpg...\n",
      "Confidence: 0.00\n",
      "\n",
      "Processing batch 30/60\n",
      "Processing 03020057870504740116001.jpg...\n",
      "Confidence: 0.00\n",
      "\n",
      "Processing batch 30/60\n",
      "Processing 03020057870504740116001.jpg...\n"
     ]
    },
    {
     "name": "stderr",
     "output_type": "stream",
     "text": [
      "d:\\arfa\\code\\ocr\\venv\\Lib\\site-packages\\torch\\utils\\data\\dataloader.py:665: UserWarning: 'pin_memory' argument is set as true but no accelerator is found, then device pinned memory won't be used.\n",
      "  warnings.warn(warn_msg)\n"
     ]
    },
    {
     "name": "stdout",
     "output_type": "stream",
     "text": [
      "Confidence: 0.39\n",
      "Processing 03020057870504741110001.jpg...\n"
     ]
    },
    {
     "name": "stderr",
     "output_type": "stream",
     "text": [
      "d:\\arfa\\code\\ocr\\venv\\Lib\\site-packages\\torch\\utils\\data\\dataloader.py:665: UserWarning: 'pin_memory' argument is set as true but no accelerator is found, then device pinned memory won't be used.\n",
      "  warnings.warn(warn_msg)\n"
     ]
    },
    {
     "name": "stdout",
     "output_type": "stream",
     "text": [
      "Confidence: 0.09\n",
      "Processing 03020057870504741747001.jpg...\n"
     ]
    },
    {
     "name": "stderr",
     "output_type": "stream",
     "text": [
      "d:\\arfa\\code\\ocr\\venv\\Lib\\site-packages\\torch\\utils\\data\\dataloader.py:665: UserWarning: 'pin_memory' argument is set as true but no accelerator is found, then device pinned memory won't be used.\n",
      "  warnings.warn(warn_msg)\n"
     ]
    },
    {
     "name": "stdout",
     "output_type": "stream",
     "text": [
      "Confidence: 0.27\n",
      "Processing 03020057870504743143001.jpg...\n"
     ]
    },
    {
     "name": "stderr",
     "output_type": "stream",
     "text": [
      "d:\\arfa\\code\\ocr\\venv\\Lib\\site-packages\\torch\\utils\\data\\dataloader.py:665: UserWarning: 'pin_memory' argument is set as true but no accelerator is found, then device pinned memory won't be used.\n",
      "  warnings.warn(warn_msg)\n"
     ]
    },
    {
     "name": "stdout",
     "output_type": "stream",
     "text": [
      "Confidence: 0.21\n",
      "\n",
      "Processing batch 31/60\n",
      "Processing 03021057900503250743001.jpg...\n"
     ]
    },
    {
     "name": "stderr",
     "output_type": "stream",
     "text": [
      "d:\\arfa\\code\\ocr\\venv\\Lib\\site-packages\\torch\\utils\\data\\dataloader.py:665: UserWarning: 'pin_memory' argument is set as true but no accelerator is found, then device pinned memory won't be used.\n",
      "  warnings.warn(warn_msg)\n"
     ]
    },
    {
     "name": "stdout",
     "output_type": "stream",
     "text": [
      "Confidence: 0.03\n",
      "Processing 03021057900503340551001.jpg...\n"
     ]
    },
    {
     "name": "stderr",
     "output_type": "stream",
     "text": [
      "d:\\arfa\\code\\ocr\\venv\\Lib\\site-packages\\torch\\utils\\data\\dataloader.py:665: UserWarning: 'pin_memory' argument is set as true but no accelerator is found, then device pinned memory won't be used.\n",
      "  warnings.warn(warn_msg)\n"
     ]
    },
    {
     "name": "stdout",
     "output_type": "stream",
     "text": [
      "Confidence: 0.02\n",
      "Processing 03021057900503390711001.jpg...\n"
     ]
    },
    {
     "name": "stderr",
     "output_type": "stream",
     "text": [
      "d:\\arfa\\code\\ocr\\venv\\Lib\\site-packages\\torch\\utils\\data\\dataloader.py:665: UserWarning: 'pin_memory' argument is set as true but no accelerator is found, then device pinned memory won't be used.\n",
      "  warnings.warn(warn_msg)\n"
     ]
    },
    {
     "name": "stdout",
     "output_type": "stream",
     "text": [
      "Confidence: 0.41\n",
      "Processing 03021057900503390758001.jpg...\n"
     ]
    },
    {
     "name": "stderr",
     "output_type": "stream",
     "text": [
      "d:\\arfa\\code\\ocr\\venv\\Lib\\site-packages\\torch\\utils\\data\\dataloader.py:665: UserWarning: 'pin_memory' argument is set as true but no accelerator is found, then device pinned memory won't be used.\n",
      "  warnings.warn(warn_msg)\n"
     ]
    },
    {
     "name": "stdout",
     "output_type": "stream",
     "text": [
      "Confidence: 0.09\n",
      "\n",
      "Processing batch 32/60\n",
      "Processing 03021057900503460103001.jpg...\n"
     ]
    },
    {
     "name": "stderr",
     "output_type": "stream",
     "text": [
      "d:\\arfa\\code\\ocr\\venv\\Lib\\site-packages\\torch\\utils\\data\\dataloader.py:665: UserWarning: 'pin_memory' argument is set as true but no accelerator is found, then device pinned memory won't be used.\n",
      "  warnings.warn(warn_msg)\n"
     ]
    },
    {
     "name": "stdout",
     "output_type": "stream",
     "text": [
      "Confidence: 0.23\n",
      "Processing 03021057900503800225001.jpg...\n"
     ]
    },
    {
     "name": "stderr",
     "output_type": "stream",
     "text": [
      "d:\\arfa\\code\\ocr\\venv\\Lib\\site-packages\\torch\\utils\\data\\dataloader.py:665: UserWarning: 'pin_memory' argument is set as true but no accelerator is found, then device pinned memory won't be used.\n",
      "  warnings.warn(warn_msg)\n"
     ]
    },
    {
     "name": "stdout",
     "output_type": "stream",
     "text": [
      "Confidence: 0.46\n",
      "Processing 03021057900503800896001.jpg...\n"
     ]
    },
    {
     "name": "stderr",
     "output_type": "stream",
     "text": [
      "d:\\arfa\\code\\ocr\\venv\\Lib\\site-packages\\torch\\utils\\data\\dataloader.py:665: UserWarning: 'pin_memory' argument is set as true but no accelerator is found, then device pinned memory won't be used.\n",
      "  warnings.warn(warn_msg)\n"
     ]
    },
    {
     "name": "stdout",
     "output_type": "stream",
     "text": [
      "Confidence: 0.09\n",
      "Processing 03021057900504095276001.jpg...\n",
      "Confidence: 0.00\n",
      "\n",
      "Processing batch 33/60\n",
      "Processing 03021057900504095460001.jpg...\n",
      "Confidence: 0.00\n",
      "Processing 03021057900504100968001.jpg...\n",
      "Confidence: 0.00\n",
      "Processing 03021057900504148252001.jpg...\n",
      "Confidence: 0.00\n",
      "Processing 03021057900504100968001.jpg...\n",
      "Confidence: 0.00\n",
      "Processing 03021057900504148252001.jpg...\n",
      "Confidence: 0.00\n",
      "Processing 03021057900504210208001.jpg...\n",
      "Confidence: 0.00\n",
      "\n",
      "Processing batch 34/60\n",
      "Processing 03021057900504740594001.jpg...\n",
      "Confidence: 0.00\n",
      "Processing 03021057900504210208001.jpg...\n",
      "Confidence: 0.00\n",
      "\n",
      "Processing batch 34/60\n",
      "Processing 03021057900504740594001.jpg...\n"
     ]
    },
    {
     "name": "stderr",
     "output_type": "stream",
     "text": [
      "d:\\arfa\\code\\ocr\\venv\\Lib\\site-packages\\torch\\utils\\data\\dataloader.py:665: UserWarning: 'pin_memory' argument is set as true but no accelerator is found, then device pinned memory won't be used.\n",
      "  warnings.warn(warn_msg)\n"
     ]
    },
    {
     "name": "stdout",
     "output_type": "stream",
     "text": [
      "Confidence: 0.07\n",
      "Processing 03021057900504740596001.jpg...\n"
     ]
    },
    {
     "name": "stderr",
     "output_type": "stream",
     "text": [
      "d:\\arfa\\code\\ocr\\venv\\Lib\\site-packages\\torch\\utils\\data\\dataloader.py:665: UserWarning: 'pin_memory' argument is set as true but no accelerator is found, then device pinned memory won't be used.\n",
      "  warnings.warn(warn_msg)\n"
     ]
    },
    {
     "name": "stdout",
     "output_type": "stream",
     "text": [
      "Confidence: 0.31\n",
      "Processing 03021057900504741016001.jpg...\n",
      "Confidence: 0.00\n",
      "Processing 03021057900505340956001.jpg...\n",
      "Confidence: 0.00\n",
      "\n",
      "Processing batch 35/60\n",
      "Processing 03021057900505390183001.jpg...\n",
      "Confidence: 0.00\n",
      "Processing 03021057900505975346001.jpg...\n",
      "Confidence: 0.00\n",
      "\n",
      "Processing batch 35/60\n",
      "Processing 03021057900505390183001.jpg...\n",
      "Confidence: 0.00\n",
      "Processing 03021057900505975346001.jpg...\n"
     ]
    },
    {
     "name": "stderr",
     "output_type": "stream",
     "text": [
      "d:\\arfa\\code\\ocr\\venv\\Lib\\site-packages\\torch\\utils\\data\\dataloader.py:665: UserWarning: 'pin_memory' argument is set as true but no accelerator is found, then device pinned memory won't be used.\n",
      "  warnings.warn(warn_msg)\n"
     ]
    },
    {
     "name": "stdout",
     "output_type": "stream",
     "text": [
      "Confidence: 0.30\n",
      "Processing 03021057900505985280001.jpg...\n"
     ]
    },
    {
     "name": "stderr",
     "output_type": "stream",
     "text": [
      "d:\\arfa\\code\\ocr\\venv\\Lib\\site-packages\\torch\\utils\\data\\dataloader.py:665: UserWarning: 'pin_memory' argument is set as true but no accelerator is found, then device pinned memory won't be used.\n",
      "  warnings.warn(warn_msg)\n"
     ]
    },
    {
     "name": "stdout",
     "output_type": "stream",
     "text": [
      "Confidence: 0.13\n",
      "Processing 03021057900513295111001.jpg...\n",
      "Confidence: 0.00\n",
      "\n",
      "Processing batch 36/60\n",
      "Processing 03024057930503260989001.jpg...\n",
      "Confidence: 0.00\n",
      "\n",
      "Processing batch 36/60\n",
      "Processing 03024057930503260989001.jpg...\n"
     ]
    },
    {
     "name": "stderr",
     "output_type": "stream",
     "text": [
      "d:\\arfa\\code\\ocr\\venv\\Lib\\site-packages\\torch\\utils\\data\\dataloader.py:665: UserWarning: 'pin_memory' argument is set as true but no accelerator is found, then device pinned memory won't be used.\n",
      "  warnings.warn(warn_msg)\n"
     ]
    },
    {
     "name": "stdout",
     "output_type": "stream",
     "text": [
      "Confidence: 0.33\n",
      "Processing 03024057930503335223001.jpg...\n",
      "Confidence: 0.00\n",
      "Processing 03024057930503335310001.jpg...\n",
      "Confidence: 0.00\n",
      "Processing 03024057930503335310001.jpg...\n",
      "Confidence: 0.00\n",
      "Processing 03024057930503335364001.jpg...\n",
      "Confidence: 0.00\n",
      "Processing 03024057930503335364001.jpg...\n"
     ]
    },
    {
     "name": "stderr",
     "output_type": "stream",
     "text": [
      "d:\\arfa\\code\\ocr\\venv\\Lib\\site-packages\\torch\\utils\\data\\dataloader.py:665: UserWarning: 'pin_memory' argument is set as true but no accelerator is found, then device pinned memory won't be used.\n",
      "  warnings.warn(warn_msg)\n"
     ]
    },
    {
     "name": "stdout",
     "output_type": "stream",
     "text": [
      "Confidence: 0.15\n",
      "\n",
      "Processing batch 37/60\n",
      "Processing 03024057930503335434001.jpg...\n"
     ]
    },
    {
     "name": "stderr",
     "output_type": "stream",
     "text": [
      "d:\\arfa\\code\\ocr\\venv\\Lib\\site-packages\\torch\\utils\\data\\dataloader.py:665: UserWarning: 'pin_memory' argument is set as true but no accelerator is found, then device pinned memory won't be used.\n",
      "  warnings.warn(warn_msg)\n"
     ]
    },
    {
     "name": "stdout",
     "output_type": "stream",
     "text": [
      "Confidence: 0.13\n",
      "Processing 03024057930503340073001.jpg...\n"
     ]
    },
    {
     "name": "stderr",
     "output_type": "stream",
     "text": [
      "d:\\arfa\\code\\ocr\\venv\\Lib\\site-packages\\torch\\utils\\data\\dataloader.py:665: UserWarning: 'pin_memory' argument is set as true but no accelerator is found, then device pinned memory won't be used.\n",
      "  warnings.warn(warn_msg)\n"
     ]
    },
    {
     "name": "stdout",
     "output_type": "stream",
     "text": [
      "Confidence: 0.09\n",
      "Processing 03024057930503390774001.jpg...\n"
     ]
    },
    {
     "name": "stderr",
     "output_type": "stream",
     "text": [
      "d:\\arfa\\code\\ocr\\venv\\Lib\\site-packages\\torch\\utils\\data\\dataloader.py:665: UserWarning: 'pin_memory' argument is set as true but no accelerator is found, then device pinned memory won't be used.\n",
      "  warnings.warn(warn_msg)\n"
     ]
    },
    {
     "name": "stdout",
     "output_type": "stream",
     "text": [
      "Confidence: 0.98\n",
      "Processing 03024057930503450625001.jpg...\n"
     ]
    },
    {
     "name": "stderr",
     "output_type": "stream",
     "text": [
      "d:\\arfa\\code\\ocr\\venv\\Lib\\site-packages\\torch\\utils\\data\\dataloader.py:665: UserWarning: 'pin_memory' argument is set as true but no accelerator is found, then device pinned memory won't be used.\n",
      "  warnings.warn(warn_msg)\n"
     ]
    },
    {
     "name": "stdout",
     "output_type": "stream",
     "text": [
      "Confidence: 0.28\n",
      "\n",
      "Processing batch 38/60\n",
      "Processing 03024057930503550052001.jpg...\n"
     ]
    },
    {
     "name": "stderr",
     "output_type": "stream",
     "text": [
      "d:\\arfa\\code\\ocr\\venv\\Lib\\site-packages\\torch\\utils\\data\\dataloader.py:665: UserWarning: 'pin_memory' argument is set as true but no accelerator is found, then device pinned memory won't be used.\n",
      "  warnings.warn(warn_msg)\n"
     ]
    },
    {
     "name": "stdout",
     "output_type": "stream",
     "text": [
      "Confidence: 0.20\n",
      "Processing 03024057930503635024001.jpg...\n"
     ]
    },
    {
     "name": "stderr",
     "output_type": "stream",
     "text": [
      "d:\\arfa\\code\\ocr\\venv\\Lib\\site-packages\\torch\\utils\\data\\dataloader.py:665: UserWarning: 'pin_memory' argument is set as true but no accelerator is found, then device pinned memory won't be used.\n",
      "  warnings.warn(warn_msg)\n"
     ]
    },
    {
     "name": "stdout",
     "output_type": "stream",
     "text": [
      "Confidence: 0.46\n",
      "Processing 03024057930503670284001.jpg...\n"
     ]
    },
    {
     "name": "stderr",
     "output_type": "stream",
     "text": [
      "d:\\arfa\\code\\ocr\\venv\\Lib\\site-packages\\torch\\utils\\data\\dataloader.py:665: UserWarning: 'pin_memory' argument is set as true but no accelerator is found, then device pinned memory won't be used.\n",
      "  warnings.warn(warn_msg)\n"
     ]
    },
    {
     "name": "stdout",
     "output_type": "stream",
     "text": [
      "Confidence: 0.67\n",
      "Processing 03024057930503830063001.jpg...\n",
      "Confidence: 0.00\n",
      "\n",
      "Processing batch 39/60\n",
      "Processing 03024057930504051334001.jpg...\n",
      "Confidence: 0.00\n",
      "\n",
      "Processing batch 39/60\n",
      "Processing 03024057930504051334001.jpg...\n",
      "Confidence: 0.00\n",
      "Processing 03024057930504051408001.jpg...\n",
      "Confidence: 0.00\n",
      "Processing 03024057930504051454001.jpg...\n",
      "Confidence: 0.00\n",
      "Processing 03024057930504051408001.jpg...\n",
      "Confidence: 0.00\n",
      "Processing 03024057930504051454001.jpg...\n"
     ]
    },
    {
     "name": "stderr",
     "output_type": "stream",
     "text": [
      "d:\\arfa\\code\\ocr\\venv\\Lib\\site-packages\\torch\\utils\\data\\dataloader.py:665: UserWarning: 'pin_memory' argument is set as true but no accelerator is found, then device pinned memory won't be used.\n",
      "  warnings.warn(warn_msg)\n"
     ]
    },
    {
     "name": "stdout",
     "output_type": "stream",
     "text": [
      "Confidence: 0.13\n",
      "Processing 03024057930504080272001.jpg...\n",
      "Confidence: 0.00\n",
      "\n",
      "Processing batch 40/60\n",
      "Processing 03024057930504190330001.jpg...\n",
      "Confidence: 0.00\n",
      "Processing 03024057930504210584001.jpg...\n",
      "Confidence: 0.00\n",
      "Processing 03024057930504475408001.jpg...\n",
      "Confidence: 0.00\n",
      "Processing 03024057930504210584001.jpg...\n",
      "Confidence: 0.00\n",
      "Processing 03024057930504475408001.jpg...\n",
      "Confidence: 0.00\n",
      "Processing 03024057930504475456001.jpg...\n",
      "Confidence: 0.00\n",
      "Processing 03024057930504475456001.jpg...\n"
     ]
    },
    {
     "name": "stderr",
     "output_type": "stream",
     "text": [
      "d:\\arfa\\code\\ocr\\venv\\Lib\\site-packages\\torch\\utils\\data\\dataloader.py:665: UserWarning: 'pin_memory' argument is set as true but no accelerator is found, then device pinned memory won't be used.\n",
      "  warnings.warn(warn_msg)\n"
     ]
    },
    {
     "name": "stdout",
     "output_type": "stream",
     "text": [
      "Confidence: 0.71\n",
      "\n",
      "Processing batch 41/60\n",
      "Processing 03027057960503360337001.jpg...\n"
     ]
    },
    {
     "name": "stderr",
     "output_type": "stream",
     "text": [
      "d:\\arfa\\code\\ocr\\venv\\Lib\\site-packages\\torch\\utils\\data\\dataloader.py:665: UserWarning: 'pin_memory' argument is set as true but no accelerator is found, then device pinned memory won't be used.\n",
      "  warnings.warn(warn_msg)\n"
     ]
    },
    {
     "name": "stdout",
     "output_type": "stream",
     "text": [
      "Confidence: 0.57\n",
      "Processing 03027057960503450424001.jpg...\n"
     ]
    },
    {
     "name": "stderr",
     "output_type": "stream",
     "text": [
      "d:\\arfa\\code\\ocr\\venv\\Lib\\site-packages\\torch\\utils\\data\\dataloader.py:665: UserWarning: 'pin_memory' argument is set as true but no accelerator is found, then device pinned memory won't be used.\n",
      "  warnings.warn(warn_msg)\n"
     ]
    },
    {
     "name": "stdout",
     "output_type": "stream",
     "text": [
      "Confidence: 0.38\n",
      "Processing 03027057960503712186001.jpg...\n"
     ]
    },
    {
     "name": "stderr",
     "output_type": "stream",
     "text": [
      "d:\\arfa\\code\\ocr\\venv\\Lib\\site-packages\\torch\\utils\\data\\dataloader.py:665: UserWarning: 'pin_memory' argument is set as true but no accelerator is found, then device pinned memory won't be used.\n",
      "  warnings.warn(warn_msg)\n"
     ]
    },
    {
     "name": "stdout",
     "output_type": "stream",
     "text": [
      "Confidence: 0.50\n",
      "Processing 03027057960504690156001.jpg...\n"
     ]
    },
    {
     "name": "stderr",
     "output_type": "stream",
     "text": [
      "d:\\arfa\\code\\ocr\\venv\\Lib\\site-packages\\torch\\utils\\data\\dataloader.py:665: UserWarning: 'pin_memory' argument is set as true but no accelerator is found, then device pinned memory won't be used.\n",
      "  warnings.warn(warn_msg)\n"
     ]
    },
    {
     "name": "stdout",
     "output_type": "stream",
     "text": [
      "Confidence: 0.28\n",
      "\n",
      "Processing batch 42/60\n",
      "Processing 03027057960504690274001.jpg...\n"
     ]
    },
    {
     "name": "stderr",
     "output_type": "stream",
     "text": [
      "d:\\arfa\\code\\ocr\\venv\\Lib\\site-packages\\torch\\utils\\data\\dataloader.py:665: UserWarning: 'pin_memory' argument is set as true but no accelerator is found, then device pinned memory won't be used.\n",
      "  warnings.warn(warn_msg)\n"
     ]
    },
    {
     "name": "stdout",
     "output_type": "stream",
     "text": [
      "Confidence: 0.22\n",
      "Processing 03027057960504690462001.jpg...\n"
     ]
    },
    {
     "name": "stderr",
     "output_type": "stream",
     "text": [
      "d:\\arfa\\code\\ocr\\venv\\Lib\\site-packages\\torch\\utils\\data\\dataloader.py:665: UserWarning: 'pin_memory' argument is set as true but no accelerator is found, then device pinned memory won't be used.\n",
      "  warnings.warn(warn_msg)\n"
     ]
    },
    {
     "name": "stdout",
     "output_type": "stream",
     "text": [
      "Confidence: 0.06\n",
      "Processing 03027057960504740321001.jpg...\n"
     ]
    },
    {
     "name": "stderr",
     "output_type": "stream",
     "text": [
      "d:\\arfa\\code\\ocr\\venv\\Lib\\site-packages\\torch\\utils\\data\\dataloader.py:665: UserWarning: 'pin_memory' argument is set as true but no accelerator is found, then device pinned memory won't be used.\n",
      "  warnings.warn(warn_msg)\n"
     ]
    },
    {
     "name": "stdout",
     "output_type": "stream",
     "text": [
      "Confidence: 0.05\n",
      "Processing 03027057960504741280001.jpg...\n"
     ]
    },
    {
     "name": "stderr",
     "output_type": "stream",
     "text": [
      "d:\\arfa\\code\\ocr\\venv\\Lib\\site-packages\\torch\\utils\\data\\dataloader.py:665: UserWarning: 'pin_memory' argument is set as true but no accelerator is found, then device pinned memory won't be used.\n",
      "  warnings.warn(warn_msg)\n"
     ]
    },
    {
     "name": "stdout",
     "output_type": "stream",
     "text": [
      "Confidence: 0.43\n",
      "\n",
      "Processing batch 43/60\n",
      "Processing 03027057960504743176001.jpg...\n"
     ]
    },
    {
     "name": "stderr",
     "output_type": "stream",
     "text": [
      "d:\\arfa\\code\\ocr\\venv\\Lib\\site-packages\\torch\\utils\\data\\dataloader.py:665: UserWarning: 'pin_memory' argument is set as true but no accelerator is found, then device pinned memory won't be used.\n",
      "  warnings.warn(warn_msg)\n"
     ]
    },
    {
     "name": "stdout",
     "output_type": "stream",
     "text": [
      "Confidence: 0.21\n",
      "Processing 03027057960507825054001.jpg...\n",
      "Confidence: 0.00\n",
      "Processing 03027057960513070785001.jpg...\n",
      "Confidence: 0.00\n",
      "Processing 03027057960513070785001.jpg...\n"
     ]
    },
    {
     "name": "stderr",
     "output_type": "stream",
     "text": [
      "d:\\arfa\\code\\ocr\\venv\\Lib\\site-packages\\torch\\utils\\data\\dataloader.py:665: UserWarning: 'pin_memory' argument is set as true but no accelerator is found, then device pinned memory won't be used.\n",
      "  warnings.warn(warn_msg)\n"
     ]
    },
    {
     "name": "stdout",
     "output_type": "stream",
     "text": [
      "Confidence: 0.24\n",
      "Processing 03027057960513250382001.jpg...\n"
     ]
    },
    {
     "name": "stderr",
     "output_type": "stream",
     "text": [
      "d:\\arfa\\code\\ocr\\venv\\Lib\\site-packages\\torch\\utils\\data\\dataloader.py:665: UserWarning: 'pin_memory' argument is set as true but no accelerator is found, then device pinned memory won't be used.\n",
      "  warnings.warn(warn_msg)\n"
     ]
    },
    {
     "name": "stdout",
     "output_type": "stream",
     "text": [
      "Confidence: 0.70\n",
      "\n",
      "Processing batch 44/60\n",
      "Processing 03027057960513250902001.jpg...\n"
     ]
    },
    {
     "name": "stderr",
     "output_type": "stream",
     "text": [
      "d:\\arfa\\code\\ocr\\venv\\Lib\\site-packages\\torch\\utils\\data\\dataloader.py:665: UserWarning: 'pin_memory' argument is set as true but no accelerator is found, then device pinned memory won't be used.\n",
      "  warnings.warn(warn_msg)\n"
     ]
    },
    {
     "name": "stdout",
     "output_type": "stream",
     "text": [
      "Confidence: 0.56\n",
      "Processing 03027057960513360169001.jpg...\n"
     ]
    },
    {
     "name": "stderr",
     "output_type": "stream",
     "text": [
      "d:\\arfa\\code\\ocr\\venv\\Lib\\site-packages\\torch\\utils\\data\\dataloader.py:665: UserWarning: 'pin_memory' argument is set as true but no accelerator is found, then device pinned memory won't be used.\n",
      "  warnings.warn(warn_msg)\n"
     ]
    },
    {
     "name": "stdout",
     "output_type": "stream",
     "text": [
      "Confidence: 0.54\n",
      "Processing 03027057960513360715001.jpg...\n"
     ]
    },
    {
     "name": "stderr",
     "output_type": "stream",
     "text": [
      "d:\\arfa\\code\\ocr\\venv\\Lib\\site-packages\\torch\\utils\\data\\dataloader.py:665: UserWarning: 'pin_memory' argument is set as true but no accelerator is found, then device pinned memory won't be used.\n",
      "  warnings.warn(warn_msg)\n"
     ]
    },
    {
     "name": "stdout",
     "output_type": "stream",
     "text": [
      "Confidence: 0.53\n",
      "Processing 03027057960513450667001.jpg...\n"
     ]
    },
    {
     "name": "stderr",
     "output_type": "stream",
     "text": [
      "d:\\arfa\\code\\ocr\\venv\\Lib\\site-packages\\torch\\utils\\data\\dataloader.py:665: UserWarning: 'pin_memory' argument is set as true but no accelerator is found, then device pinned memory won't be used.\n",
      "  warnings.warn(warn_msg)\n"
     ]
    },
    {
     "name": "stdout",
     "output_type": "stream",
     "text": [
      "Confidence: 0.15\n",
      "\n",
      "Processing batch 45/60\n",
      "Processing 03027057960513451358001.jpg...\n"
     ]
    },
    {
     "name": "stderr",
     "output_type": "stream",
     "text": [
      "d:\\arfa\\code\\ocr\\venv\\Lib\\site-packages\\torch\\utils\\data\\dataloader.py:665: UserWarning: 'pin_memory' argument is set as true but no accelerator is found, then device pinned memory won't be used.\n",
      "  warnings.warn(warn_msg)\n"
     ]
    },
    {
     "name": "stdout",
     "output_type": "stream",
     "text": [
      "Confidence: 0.24\n",
      "Processing 03027057960513451587001.jpg...\n"
     ]
    },
    {
     "name": "stderr",
     "output_type": "stream",
     "text": [
      "d:\\arfa\\code\\ocr\\venv\\Lib\\site-packages\\torch\\utils\\data\\dataloader.py:665: UserWarning: 'pin_memory' argument is set as true but no accelerator is found, then device pinned memory won't be used.\n",
      "  warnings.warn(warn_msg)\n"
     ]
    },
    {
     "name": "stdout",
     "output_type": "stream",
     "text": [
      "Confidence: 0.22\n",
      "Processing 03027057960513460652001.jpg...\n"
     ]
    },
    {
     "name": "stderr",
     "output_type": "stream",
     "text": [
      "d:\\arfa\\code\\ocr\\venv\\Lib\\site-packages\\torch\\utils\\data\\dataloader.py:665: UserWarning: 'pin_memory' argument is set as true but no accelerator is found, then device pinned memory won't be used.\n",
      "  warnings.warn(warn_msg)\n"
     ]
    },
    {
     "name": "stdout",
     "output_type": "stream",
     "text": [
      "Confidence: 0.41\n",
      "Processing 03027057960513830164001.jpg...\n"
     ]
    },
    {
     "name": "stderr",
     "output_type": "stream",
     "text": [
      "d:\\arfa\\code\\ocr\\venv\\Lib\\site-packages\\torch\\utils\\data\\dataloader.py:665: UserWarning: 'pin_memory' argument is set as true but no accelerator is found, then device pinned memory won't be used.\n",
      "  warnings.warn(warn_msg)\n"
     ]
    },
    {
     "name": "stdout",
     "output_type": "stream",
     "text": [
      "Confidence: 0.43\n",
      "\n",
      "Processing batch 46/60\n",
      "Processing 03030057990503260381001.jpg...\n",
      "Confidence: 0.00\n",
      "Processing 03030057990503280560001.jpg...\n",
      "Confidence: 0.00\n",
      "Processing 03030057990503280560001.jpg...\n"
     ]
    },
    {
     "name": "stderr",
     "output_type": "stream",
     "text": [
      "d:\\arfa\\code\\ocr\\venv\\Lib\\site-packages\\torch\\utils\\data\\dataloader.py:665: UserWarning: 'pin_memory' argument is set as true but no accelerator is found, then device pinned memory won't be used.\n",
      "  warnings.warn(warn_msg)\n"
     ]
    },
    {
     "name": "stdout",
     "output_type": "stream",
     "text": [
      "Confidence: 0.27\n",
      "Processing 03030057990503280561001.jpg...\n"
     ]
    },
    {
     "name": "stderr",
     "output_type": "stream",
     "text": [
      "d:\\arfa\\code\\ocr\\venv\\Lib\\site-packages\\torch\\utils\\data\\dataloader.py:665: UserWarning: 'pin_memory' argument is set as true but no accelerator is found, then device pinned memory won't be used.\n",
      "  warnings.warn(warn_msg)\n"
     ]
    },
    {
     "name": "stdout",
     "output_type": "stream",
     "text": [
      "Confidence: 0.37\n",
      "Processing 03030057990503280651001.jpg...\n"
     ]
    },
    {
     "name": "stderr",
     "output_type": "stream",
     "text": [
      "d:\\arfa\\code\\ocr\\venv\\Lib\\site-packages\\torch\\utils\\data\\dataloader.py:665: UserWarning: 'pin_memory' argument is set as true but no accelerator is found, then device pinned memory won't be used.\n",
      "  warnings.warn(warn_msg)\n"
     ]
    },
    {
     "name": "stdout",
     "output_type": "stream",
     "text": [
      "Confidence: 0.96\n",
      "\n",
      "Processing batch 47/60\n",
      "Processing 03030057990503295026001.jpg...\n"
     ]
    },
    {
     "name": "stderr",
     "output_type": "stream",
     "text": [
      "d:\\arfa\\code\\ocr\\venv\\Lib\\site-packages\\torch\\utils\\data\\dataloader.py:665: UserWarning: 'pin_memory' argument is set as true but no accelerator is found, then device pinned memory won't be used.\n",
      "  warnings.warn(warn_msg)\n"
     ]
    },
    {
     "name": "stdout",
     "output_type": "stream",
     "text": [
      "Confidence: 0.30\n",
      "Processing 03030057990503295028001.jpg...\n",
      "Confidence: 0.00\n",
      "Processing 03030057990503301513001.jpg...\n",
      "Confidence: 0.00\n",
      "Processing 03030057990503301513001.jpg...\n",
      "Confidence: 0.00\n",
      "Processing 03030057990503311087001.jpg...\n",
      "Confidence: 0.00\n",
      "Processing 03030057990503311087001.jpg...\n"
     ]
    },
    {
     "name": "stderr",
     "output_type": "stream",
     "text": [
      "d:\\arfa\\code\\ocr\\venv\\Lib\\site-packages\\torch\\utils\\data\\dataloader.py:665: UserWarning: 'pin_memory' argument is set as true but no accelerator is found, then device pinned memory won't be used.\n",
      "  warnings.warn(warn_msg)\n"
     ]
    },
    {
     "name": "stdout",
     "output_type": "stream",
     "text": [
      "Confidence: 0.17\n",
      "\n",
      "Processing batch 48/60\n",
      "Processing 03030057990503325341001.jpg...\n"
     ]
    },
    {
     "name": "stderr",
     "output_type": "stream",
     "text": [
      "d:\\arfa\\code\\ocr\\venv\\Lib\\site-packages\\torch\\utils\\data\\dataloader.py:665: UserWarning: 'pin_memory' argument is set as true but no accelerator is found, then device pinned memory won't be used.\n",
      "  warnings.warn(warn_msg)\n"
     ]
    },
    {
     "name": "stdout",
     "output_type": "stream",
     "text": [
      "Confidence: 0.17\n",
      "Processing 03030057990503325516001.jpg...\n"
     ]
    },
    {
     "name": "stderr",
     "output_type": "stream",
     "text": [
      "d:\\arfa\\code\\ocr\\venv\\Lib\\site-packages\\torch\\utils\\data\\dataloader.py:665: UserWarning: 'pin_memory' argument is set as true but no accelerator is found, then device pinned memory won't be used.\n",
      "  warnings.warn(warn_msg)\n"
     ]
    },
    {
     "name": "stdout",
     "output_type": "stream",
     "text": [
      "Confidence: 0.62\n",
      "Processing 03030057990503335208001.jpg...\n"
     ]
    },
    {
     "name": "stderr",
     "output_type": "stream",
     "text": [
      "d:\\arfa\\code\\ocr\\venv\\Lib\\site-packages\\torch\\utils\\data\\dataloader.py:665: UserWarning: 'pin_memory' argument is set as true but no accelerator is found, then device pinned memory won't be used.\n",
      "  warnings.warn(warn_msg)\n"
     ]
    },
    {
     "name": "stdout",
     "output_type": "stream",
     "text": [
      "Confidence: 0.08\n",
      "Processing 03030057990503360416001.jpg...\n"
     ]
    },
    {
     "name": "stderr",
     "output_type": "stream",
     "text": [
      "d:\\arfa\\code\\ocr\\venv\\Lib\\site-packages\\torch\\utils\\data\\dataloader.py:665: UserWarning: 'pin_memory' argument is set as true but no accelerator is found, then device pinned memory won't be used.\n",
      "  warnings.warn(warn_msg)\n"
     ]
    },
    {
     "name": "stdout",
     "output_type": "stream",
     "text": [
      "Confidence: 0.48\n",
      "\n",
      "Processing batch 49/60\n",
      "Processing 03030057990503365068001.jpg...\n",
      "Confidence: 0.00\n",
      "Processing 03030057990503405047001.jpg...\n",
      "Confidence: 0.00\n",
      "Processing 03030057990503460168001.jpg...\n",
      "Confidence: 0.00\n",
      "Processing 03030057990503405047001.jpg...\n",
      "Confidence: 0.00\n",
      "Processing 03030057990503460168001.jpg...\n"
     ]
    },
    {
     "name": "stderr",
     "output_type": "stream",
     "text": [
      "d:\\arfa\\code\\ocr\\venv\\Lib\\site-packages\\torch\\utils\\data\\dataloader.py:665: UserWarning: 'pin_memory' argument is set as true but no accelerator is found, then device pinned memory won't be used.\n",
      "  warnings.warn(warn_msg)\n"
     ]
    },
    {
     "name": "stdout",
     "output_type": "stream",
     "text": [
      "Confidence: 0.52\n",
      "Processing 03030057990503460423001.jpg...\n",
      "Confidence: 0.00\n",
      "\n",
      "Processing batch 50/60\n",
      "Processing 03030057990503461023001.jpg...\n",
      "Confidence: 0.00\n",
      "\n",
      "Processing batch 50/60\n",
      "Processing 03030057990503461023001.jpg...\n"
     ]
    },
    {
     "name": "stderr",
     "output_type": "stream",
     "text": [
      "d:\\arfa\\code\\ocr\\venv\\Lib\\site-packages\\torch\\utils\\data\\dataloader.py:665: UserWarning: 'pin_memory' argument is set as true but no accelerator is found, then device pinned memory won't be used.\n",
      "  warnings.warn(warn_msg)\n"
     ]
    },
    {
     "name": "stdout",
     "output_type": "stream",
     "text": [
      "Confidence: 0.13\n",
      "Processing 03030057990503461050001.jpg...\n"
     ]
    },
    {
     "name": "stderr",
     "output_type": "stream",
     "text": [
      "d:\\arfa\\code\\ocr\\venv\\Lib\\site-packages\\torch\\utils\\data\\dataloader.py:665: UserWarning: 'pin_memory' argument is set as true but no accelerator is found, then device pinned memory won't be used.\n",
      "  warnings.warn(warn_msg)\n"
     ]
    },
    {
     "name": "stdout",
     "output_type": "stream",
     "text": [
      "Confidence: 0.50\n",
      "Processing 03030057990503475284001.jpg...\n"
     ]
    },
    {
     "name": "stderr",
     "output_type": "stream",
     "text": [
      "d:\\arfa\\code\\ocr\\venv\\Lib\\site-packages\\torch\\utils\\data\\dataloader.py:665: UserWarning: 'pin_memory' argument is set as true but no accelerator is found, then device pinned memory won't be used.\n",
      "  warnings.warn(warn_msg)\n"
     ]
    },
    {
     "name": "stdout",
     "output_type": "stream",
     "text": [
      "Confidence: 0.45\n",
      "Processing 03030057990503475325001.jpg...\n"
     ]
    },
    {
     "name": "stderr",
     "output_type": "stream",
     "text": [
      "d:\\arfa\\code\\ocr\\venv\\Lib\\site-packages\\torch\\utils\\data\\dataloader.py:665: UserWarning: 'pin_memory' argument is set as true but no accelerator is found, then device pinned memory won't be used.\n",
      "  warnings.warn(warn_msg)\n"
     ]
    },
    {
     "name": "stdout",
     "output_type": "stream",
     "text": [
      "Confidence: 0.17\n",
      "\n",
      "Processing batch 51/60\n",
      "Processing 03033058000504050322001.jpg...\n"
     ]
    },
    {
     "name": "stderr",
     "output_type": "stream",
     "text": [
      "d:\\arfa\\code\\ocr\\venv\\Lib\\site-packages\\torch\\utils\\data\\dataloader.py:665: UserWarning: 'pin_memory' argument is set as true but no accelerator is found, then device pinned memory won't be used.\n",
      "  warnings.warn(warn_msg)\n"
     ]
    },
    {
     "name": "stdout",
     "output_type": "stream",
     "text": [
      "Confidence: 0.10\n",
      "Processing 03033058000514595085001.jpg...\n",
      "Confidence: 0.00\n",
      "Processing 03033058000523145238001.jpg...\n",
      "Confidence: 0.00\n",
      "Processing 03033058000523145238001.jpg...\n"
     ]
    },
    {
     "name": "stderr",
     "output_type": "stream",
     "text": [
      "d:\\arfa\\code\\ocr\\venv\\Lib\\site-packages\\torch\\utils\\data\\dataloader.py:665: UserWarning: 'pin_memory' argument is set as true but no accelerator is found, then device pinned memory won't be used.\n",
      "  warnings.warn(warn_msg)\n"
     ]
    },
    {
     "name": "stdout",
     "output_type": "stream",
     "text": [
      "Confidence: 0.45\n",
      "Processing 03033058000523250293001.jpg...\n",
      "Confidence: 0.00\n",
      "\n",
      "Processing batch 52/60\n",
      "Processing 03033058000523250894001.jpg...\n",
      "Confidence: 0.00\n",
      "Processing 03033058000523340394001.jpg...\n",
      "Confidence: 0.00\n",
      "Processing 03033058000523340394001.jpg...\n"
     ]
    },
    {
     "name": "stderr",
     "output_type": "stream",
     "text": [
      "d:\\arfa\\code\\ocr\\venv\\Lib\\site-packages\\torch\\utils\\data\\dataloader.py:665: UserWarning: 'pin_memory' argument is set as true but no accelerator is found, then device pinned memory won't be used.\n",
      "  warnings.warn(warn_msg)\n"
     ]
    },
    {
     "name": "stdout",
     "output_type": "stream",
     "text": [
      "Confidence: 0.03\n",
      "Processing 03033058000523392133001.jpg...\n"
     ]
    },
    {
     "name": "stderr",
     "output_type": "stream",
     "text": [
      "d:\\arfa\\code\\ocr\\venv\\Lib\\site-packages\\torch\\utils\\data\\dataloader.py:665: UserWarning: 'pin_memory' argument is set as true but no accelerator is found, then device pinned memory won't be used.\n",
      "  warnings.warn(warn_msg)\n"
     ]
    },
    {
     "name": "stdout",
     "output_type": "stream",
     "text": [
      "Error processing 03033058000523392133001.jpg: OpenCV(4.11.0) D:\\a\\opencv-python\\opencv-python\\opencv\\modules\\imgproc\\src\\resize.cpp:4208: error: (-215:Assertion failed) !ssize.empty() in function 'cv::resize'\n",
      "\n",
      "Processing 03033058000523460753001.jpg...\n"
     ]
    },
    {
     "name": "stderr",
     "output_type": "stream",
     "text": [
      "d:\\arfa\\code\\ocr\\venv\\Lib\\site-packages\\torch\\utils\\data\\dataloader.py:665: UserWarning: 'pin_memory' argument is set as true but no accelerator is found, then device pinned memory won't be used.\n",
      "  warnings.warn(warn_msg)\n"
     ]
    },
    {
     "name": "stdout",
     "output_type": "stream",
     "text": [
      "Confidence: 0.21\n",
      "\n",
      "Processing batch 53/60\n",
      "Processing 03033058000524000133001.jpg...\n"
     ]
    },
    {
     "name": "stderr",
     "output_type": "stream",
     "text": [
      "d:\\arfa\\code\\ocr\\venv\\Lib\\site-packages\\torch\\utils\\data\\dataloader.py:665: UserWarning: 'pin_memory' argument is set as true but no accelerator is found, then device pinned memory won't be used.\n",
      "  warnings.warn(warn_msg)\n"
     ]
    },
    {
     "name": "stdout",
     "output_type": "stream",
     "text": [
      "Confidence: 0.18\n",
      "Processing 03033058000524565042001.jpg...\n"
     ]
    },
    {
     "name": "stderr",
     "output_type": "stream",
     "text": [
      "d:\\arfa\\code\\ocr\\venv\\Lib\\site-packages\\torch\\utils\\data\\dataloader.py:665: UserWarning: 'pin_memory' argument is set as true but no accelerator is found, then device pinned memory won't be used.\n",
      "  warnings.warn(warn_msg)\n"
     ]
    },
    {
     "name": "stdout",
     "output_type": "stream",
     "text": [
      "Confidence: 0.02\n",
      "Processing 03033058000525341820001.jpg...\n"
     ]
    },
    {
     "name": "stderr",
     "output_type": "stream",
     "text": [
      "d:\\arfa\\code\\ocr\\venv\\Lib\\site-packages\\torch\\utils\\data\\dataloader.py:665: UserWarning: 'pin_memory' argument is set as true but no accelerator is found, then device pinned memory won't be used.\n",
      "  warnings.warn(warn_msg)\n"
     ]
    },
    {
     "name": "stdout",
     "output_type": "stream",
     "text": [
      "Confidence: 0.16\n",
      "Processing 03033058000525342819001.jpg...\n"
     ]
    },
    {
     "name": "stderr",
     "output_type": "stream",
     "text": [
      "d:\\arfa\\code\\ocr\\venv\\Lib\\site-packages\\torch\\utils\\data\\dataloader.py:665: UserWarning: 'pin_memory' argument is set as true but no accelerator is found, then device pinned memory won't be used.\n",
      "  warnings.warn(warn_msg)\n"
     ]
    },
    {
     "name": "stdout",
     "output_type": "stream",
     "text": [
      "Confidence: 0.05\n",
      "\n",
      "Processing batch 54/60\n",
      "Processing 03033058000525461445001.jpg...\n"
     ]
    },
    {
     "name": "stderr",
     "output_type": "stream",
     "text": [
      "d:\\arfa\\code\\ocr\\venv\\Lib\\site-packages\\torch\\utils\\data\\dataloader.py:665: UserWarning: 'pin_memory' argument is set as true but no accelerator is found, then device pinned memory won't be used.\n",
      "  warnings.warn(warn_msg)\n"
     ]
    },
    {
     "name": "stdout",
     "output_type": "stream",
     "text": [
      "Confidence: 0.43\n",
      "Processing 03033058000525461463001.jpg...\n"
     ]
    },
    {
     "name": "stderr",
     "output_type": "stream",
     "text": [
      "d:\\arfa\\code\\ocr\\venv\\Lib\\site-packages\\torch\\utils\\data\\dataloader.py:665: UserWarning: 'pin_memory' argument is set as true but no accelerator is found, then device pinned memory won't be used.\n",
      "  warnings.warn(warn_msg)\n"
     ]
    },
    {
     "name": "stdout",
     "output_type": "stream",
     "text": [
      "Confidence: 0.07\n",
      "Processing 03033058000525461627001.jpg...\n"
     ]
    },
    {
     "name": "stderr",
     "output_type": "stream",
     "text": [
      "d:\\arfa\\code\\ocr\\venv\\Lib\\site-packages\\torch\\utils\\data\\dataloader.py:665: UserWarning: 'pin_memory' argument is set as true but no accelerator is found, then device pinned memory won't be used.\n",
      "  warnings.warn(warn_msg)\n"
     ]
    },
    {
     "name": "stdout",
     "output_type": "stream",
     "text": [
      "Confidence: 0.09\n",
      "Processing 03033058000526435752001.jpg...\n"
     ]
    },
    {
     "name": "stderr",
     "output_type": "stream",
     "text": [
      "d:\\arfa\\code\\ocr\\venv\\Lib\\site-packages\\torch\\utils\\data\\dataloader.py:665: UserWarning: 'pin_memory' argument is set as true but no accelerator is found, then device pinned memory won't be used.\n",
      "  warnings.warn(warn_msg)\n"
     ]
    },
    {
     "name": "stdout",
     "output_type": "stream",
     "text": [
      "Confidence: 0.52\n",
      "\n",
      "Processing batch 55/60\n",
      "Processing 03033058000526439085001.jpg...\n"
     ]
    },
    {
     "name": "stderr",
     "output_type": "stream",
     "text": [
      "d:\\arfa\\code\\ocr\\venv\\Lib\\site-packages\\torch\\utils\\data\\dataloader.py:665: UserWarning: 'pin_memory' argument is set as true but no accelerator is found, then device pinned memory won't be used.\n",
      "  warnings.warn(warn_msg)\n"
     ]
    },
    {
     "name": "stdout",
     "output_type": "stream",
     "text": [
      "Confidence: 0.35\n",
      "Processing 03033058000526540765001.jpg...\n",
      "Confidence: 0.00\n",
      "Processing 03033058000533110182001.jpg...\n"
     ]
    },
    {
     "name": "stderr",
     "output_type": "stream",
     "text": [
      "d:\\arfa\\code\\ocr\\venv\\Lib\\site-packages\\torch\\utils\\data\\dataloader.py:665: UserWarning: 'pin_memory' argument is set as true but no accelerator is found, then device pinned memory won't be used.\n",
      "  warnings.warn(warn_msg)\n"
     ]
    },
    {
     "name": "stdout",
     "output_type": "stream",
     "text": [
      "Confidence: 0.21\n",
      "Processing 03033058000533110277001.jpg...\n"
     ]
    },
    {
     "name": "stderr",
     "output_type": "stream",
     "text": [
      "d:\\arfa\\code\\ocr\\venv\\Lib\\site-packages\\torch\\utils\\data\\dataloader.py:665: UserWarning: 'pin_memory' argument is set as true but no accelerator is found, then device pinned memory won't be used.\n",
      "  warnings.warn(warn_msg)\n"
     ]
    },
    {
     "name": "stdout",
     "output_type": "stream",
     "text": [
      "Confidence: 0.29\n",
      "\n",
      "Processing batch 56/60\n",
      "Processing 03034058010504050322001.jpg...\n"
     ]
    },
    {
     "name": "stderr",
     "output_type": "stream",
     "text": [
      "d:\\arfa\\code\\ocr\\venv\\Lib\\site-packages\\torch\\utils\\data\\dataloader.py:665: UserWarning: 'pin_memory' argument is set as true but no accelerator is found, then device pinned memory won't be used.\n",
      "  warnings.warn(warn_msg)\n"
     ]
    },
    {
     "name": "stdout",
     "output_type": "stream",
     "text": [
      "Confidence: 0.11\n",
      "Processing 03034058010513460457001.jpg...\n"
     ]
    },
    {
     "name": "stderr",
     "output_type": "stream",
     "text": [
      "d:\\arfa\\code\\ocr\\venv\\Lib\\site-packages\\torch\\utils\\data\\dataloader.py:665: UserWarning: 'pin_memory' argument is set as true but no accelerator is found, then device pinned memory won't be used.\n",
      "  warnings.warn(warn_msg)\n"
     ]
    },
    {
     "name": "stdout",
     "output_type": "stream",
     "text": [
      "Confidence: 0.21\n",
      "Processing 03034058010514050157001.jpg...\n"
     ]
    },
    {
     "name": "stderr",
     "output_type": "stream",
     "text": [
      "d:\\arfa\\code\\ocr\\venv\\Lib\\site-packages\\torch\\utils\\data\\dataloader.py:665: UserWarning: 'pin_memory' argument is set as true but no accelerator is found, then device pinned memory won't be used.\n",
      "  warnings.warn(warn_msg)\n"
     ]
    },
    {
     "name": "stdout",
     "output_type": "stream",
     "text": [
      "Confidence: 0.22\n",
      "Processing 03034058010514050409001.jpg...\n"
     ]
    },
    {
     "name": "stderr",
     "output_type": "stream",
     "text": [
      "d:\\arfa\\code\\ocr\\venv\\Lib\\site-packages\\torch\\utils\\data\\dataloader.py:665: UserWarning: 'pin_memory' argument is set as true but no accelerator is found, then device pinned memory won't be used.\n",
      "  warnings.warn(warn_msg)\n"
     ]
    },
    {
     "name": "stdout",
     "output_type": "stream",
     "text": [
      "Confidence: 0.29\n",
      "\n",
      "Processing batch 57/60\n",
      "Processing 03034058010514051642001.jpg...\n"
     ]
    },
    {
     "name": "stderr",
     "output_type": "stream",
     "text": [
      "d:\\arfa\\code\\ocr\\venv\\Lib\\site-packages\\torch\\utils\\data\\dataloader.py:665: UserWarning: 'pin_memory' argument is set as true but no accelerator is found, then device pinned memory won't be used.\n",
      "  warnings.warn(warn_msg)\n"
     ]
    },
    {
     "name": "stdout",
     "output_type": "stream",
     "text": [
      "Confidence: 0.36\n",
      "Processing 03034058010514550207001.jpg...\n"
     ]
    },
    {
     "name": "stderr",
     "output_type": "stream",
     "text": [
      "d:\\arfa\\code\\ocr\\venv\\Lib\\site-packages\\torch\\utils\\data\\dataloader.py:665: UserWarning: 'pin_memory' argument is set as true but no accelerator is found, then device pinned memory won't be used.\n",
      "  warnings.warn(warn_msg)\n"
     ]
    },
    {
     "name": "stdout",
     "output_type": "stream",
     "text": [
      "Confidence: 0.09\n",
      "Processing 03034058010523145238001.jpg...\n"
     ]
    },
    {
     "name": "stderr",
     "output_type": "stream",
     "text": [
      "d:\\arfa\\code\\ocr\\venv\\Lib\\site-packages\\torch\\utils\\data\\dataloader.py:665: UserWarning: 'pin_memory' argument is set as true but no accelerator is found, then device pinned memory won't be used.\n",
      "  warnings.warn(warn_msg)\n"
     ]
    },
    {
     "name": "stdout",
     "output_type": "stream",
     "text": [
      "Confidence: 0.49\n",
      "Processing 03034058010523250293001.jpg...\n"
     ]
    },
    {
     "name": "stderr",
     "output_type": "stream",
     "text": [
      "d:\\arfa\\code\\ocr\\venv\\Lib\\site-packages\\torch\\utils\\data\\dataloader.py:665: UserWarning: 'pin_memory' argument is set as true but no accelerator is found, then device pinned memory won't be used.\n",
      "  warnings.warn(warn_msg)\n"
     ]
    },
    {
     "name": "stdout",
     "output_type": "stream",
     "text": [
      "Confidence: 0.08\n",
      "\n",
      "Processing batch 58/60\n",
      "Processing 03034058010523250894001.jpg...\n"
     ]
    },
    {
     "name": "stderr",
     "output_type": "stream",
     "text": [
      "d:\\arfa\\code\\ocr\\venv\\Lib\\site-packages\\torch\\utils\\data\\dataloader.py:665: UserWarning: 'pin_memory' argument is set as true but no accelerator is found, then device pinned memory won't be used.\n",
      "  warnings.warn(warn_msg)\n"
     ]
    },
    {
     "name": "stdout",
     "output_type": "stream",
     "text": [
      "Confidence: 0.12\n",
      "Processing 03034058010523340000001.jpg...\n"
     ]
    },
    {
     "name": "stderr",
     "output_type": "stream",
     "text": [
      "d:\\arfa\\code\\ocr\\venv\\Lib\\site-packages\\torch\\utils\\data\\dataloader.py:665: UserWarning: 'pin_memory' argument is set as true but no accelerator is found, then device pinned memory won't be used.\n",
      "  warnings.warn(warn_msg)\n"
     ]
    },
    {
     "name": "stdout",
     "output_type": "stream",
     "text": [
      "Confidence: 0.55\n",
      "Processing 03034058010523340033001.jpg...\n"
     ]
    },
    {
     "name": "stderr",
     "output_type": "stream",
     "text": [
      "d:\\arfa\\code\\ocr\\venv\\Lib\\site-packages\\torch\\utils\\data\\dataloader.py:665: UserWarning: 'pin_memory' argument is set as true but no accelerator is found, then device pinned memory won't be used.\n",
      "  warnings.warn(warn_msg)\n"
     ]
    },
    {
     "name": "stdout",
     "output_type": "stream",
     "text": [
      "Confidence: 0.12\n",
      "Processing 03034058010523340394001.jpg...\n"
     ]
    },
    {
     "name": "stderr",
     "output_type": "stream",
     "text": [
      "d:\\arfa\\code\\ocr\\venv\\Lib\\site-packages\\torch\\utils\\data\\dataloader.py:665: UserWarning: 'pin_memory' argument is set as true but no accelerator is found, then device pinned memory won't be used.\n",
      "  warnings.warn(warn_msg)\n"
     ]
    },
    {
     "name": "stdout",
     "output_type": "stream",
     "text": [
      "Confidence: 0.54\n",
      "\n",
      "Processing batch 59/60\n",
      "Processing 03034058010523392133001.jpg...\n"
     ]
    },
    {
     "name": "stderr",
     "output_type": "stream",
     "text": [
      "d:\\arfa\\code\\ocr\\venv\\Lib\\site-packages\\torch\\utils\\data\\dataloader.py:665: UserWarning: 'pin_memory' argument is set as true but no accelerator is found, then device pinned memory won't be used.\n",
      "  warnings.warn(warn_msg)\n"
     ]
    },
    {
     "name": "stdout",
     "output_type": "stream",
     "text": [
      "Confidence: 0.12\n",
      "Processing 03034058010523460753001.jpg...\n"
     ]
    },
    {
     "name": "stderr",
     "output_type": "stream",
     "text": [
      "d:\\arfa\\code\\ocr\\venv\\Lib\\site-packages\\torch\\utils\\data\\dataloader.py:665: UserWarning: 'pin_memory' argument is set as true but no accelerator is found, then device pinned memory won't be used.\n",
      "  warnings.warn(warn_msg)\n"
     ]
    },
    {
     "name": "stdout",
     "output_type": "stream",
     "text": [
      "Confidence: 0.27\n",
      "Processing 03034058010523560064001.jpg...\n"
     ]
    },
    {
     "name": "stderr",
     "output_type": "stream",
     "text": [
      "d:\\arfa\\code\\ocr\\venv\\Lib\\site-packages\\torch\\utils\\data\\dataloader.py:665: UserWarning: 'pin_memory' argument is set as true but no accelerator is found, then device pinned memory won't be used.\n",
      "  warnings.warn(warn_msg)\n"
     ]
    },
    {
     "name": "stdout",
     "output_type": "stream",
     "text": [
      "Confidence: 0.14\n",
      "Processing 03034058010523670524001.jpg...\n"
     ]
    },
    {
     "name": "stderr",
     "output_type": "stream",
     "text": [
      "d:\\arfa\\code\\ocr\\venv\\Lib\\site-packages\\torch\\utils\\data\\dataloader.py:665: UserWarning: 'pin_memory' argument is set as true but no accelerator is found, then device pinned memory won't be used.\n",
      "  warnings.warn(warn_msg)\n"
     ]
    },
    {
     "name": "stdout",
     "output_type": "stream",
     "text": [
      "Confidence: 0.14\n",
      "\n",
      "Processing batch 60/60\n",
      "Processing 03034058010524000133001.jpg...\n",
      "Confidence: 0.00\n",
      "Processing 03034058010524050079001.jpg...\n",
      "Confidence: 0.00\n",
      "Processing 03034058010524050079001.jpg...\n"
     ]
    },
    {
     "name": "stderr",
     "output_type": "stream",
     "text": [
      "d:\\arfa\\code\\ocr\\venv\\Lib\\site-packages\\torch\\utils\\data\\dataloader.py:665: UserWarning: 'pin_memory' argument is set as true but no accelerator is found, then device pinned memory won't be used.\n",
      "  warnings.warn(warn_msg)\n"
     ]
    },
    {
     "name": "stdout",
     "output_type": "stream",
     "text": [
      "Confidence: 0.24\n",
      "Processing 03034058010524050854001.jpg...\n",
      "Confidence: 0.00\n",
      "\n",
      "Error during evaluation: No images could be processed. Check that image names in ground truth match your files.\n",
      "Please check that ground_truth.txt is properly formatted and contains valid transcriptions.\n",
      "Confidence: 0.00\n",
      "\n",
      "Error during evaluation: No images could be processed. Check that image names in ground truth match your files.\n",
      "Please check that ground_truth.txt is properly formatted and contains valid transcriptions.\n"
     ]
    }
   ],
   "source": [
    "def run_evaluation():\n",
    "    \"\"\"Run evaluation on test data and print results.\"\"\"\n",
    "    # Get test images\n",
    "    test_images = [\n",
    "        os.path.join('handwritten_data', f)\n",
    "        for f in os.listdir('handwritten_data')\n",
    "        if f.lower().endswith(('.png', '.jpg', '.jpeg'))\n",
    "    ]\n",
    "    \n",
    "    if not test_images:\n",
    "        print(\"No test images found in 'handwritten_data' directory!\")\n",
    "        return\n",
    "    \n",
    "    # Check for ground truth file\n",
    "    if not os.path.exists('ground_truth.txt'):\n",
    "        print(\"Warning: ground_truth.txt not found. Creating template file...\")\n",
    "        with open('ground_truth.txt', 'w', encoding='utf-8') as f:\n",
    "            for img_path in test_images:\n",
    "                img_name = os.path.basename(img_path)\n",
    "                f.write(f\"{img_name} → <ground_truth_text>\\n\")\n",
    "        print(\"Please fill in ground_truth.txt with correct transcriptions\")\n",
    "        return\n",
    "        \n",
    "    # Validate ground truth file content\n",
    "    valid_entries = False\n",
    "    with open('ground_truth.txt', 'r', encoding='utf-8') as f:\n",
    "        for line in f:\n",
    "            line = line.strip()\n",
    "            if line and '→' in line:\n",
    "                parts = line.split('→')\n",
    "                if len(parts) == 2 and parts[1] != '<ground_truth_text>':\n",
    "                    valid_entries = True\n",
    "                    break\n",
    "                    \n",
    "    if not valid_entries:\n",
    "        print(\"Warning: No valid entries found in ground_truth.txt\")\n",
    "        print(\"Please fill in the file with correct transcriptions in the format:\")\n",
    "        print(\"image.jpg → transcribed_text\")\n",
    "        return\n",
    "    \n",
    "    # Load model\n",
    "    model = get_ocr_model()\n",
    "    \n",
    "    try:\n",
    "        # Run evaluation\n",
    "        print(\"Running evaluation...\")\n",
    "        metrics = evaluate_model(test_images, 'ground_truth.txt', model)\n",
    "        \n",
    "        # Print results\n",
    "        print(\"\\nEvaluation Results:\")\n",
    "        print(f\"Character Accuracy: {metrics['avg_char_accuracy']:.2%}\")\n",
    "        print(f\"Word Accuracy: {metrics['avg_word_accuracy']:.2%}\")\n",
    "        print(f\"Average Processing Time: {metrics['avg_time_per_image']:.3f}s per image\")\n",
    "        print(f\"Total Images Processed: {metrics['processed_images']}/{metrics['total_images']}\")\n",
    "        \n",
    "        # Check performance targets\n",
    "        if metrics['avg_time_per_image'] > 1.0:\n",
    "            print(\"\\nWarning: Processing time exceeds target of 1s per image\")\n",
    "        if metrics['avg_char_accuracy'] < 0.9:\n",
    "            print(\"\\nWarning: Character accuracy below 90% threshold\")\n",
    "            \n",
    "    except Exception as e:\n",
    "        print(f\"\\nError during evaluation: {str(e)}\")\n",
    "        print(\"Please check that ground_truth.txt is properly formatted and contains valid transcriptions.\")\n",
    "\n",
    "if __name__ == '__main__':\n",
    "    run_evaluation()"
   ]
  },
  {
   "cell_type": "markdown",
   "id": "1c4947c3",
   "metadata": {},
   "source": [
    "## Evaluation Instructions\n",
    "\n",
    "1. Place test images in the `handwritten_data` directory\n",
    "2. Create `ground_truth.txt` with correct transcriptions in the format:\n",
    "   ```\n",
    "   image1.png → اين متن درست است\n",
    "   image2.jpg → متن ديگر\n",
    "   ```\n",
    "3. Run the evaluation cells above\n",
    "4. Review the metrics in the output:\n",
    "   - Character Accuracy (target: >90%)\n",
    "   - Word Accuracy\n",
    "   - Processing Speed (target: <1s/image)\n",
    "   - Number of successfully processed images"
   ]
  }
 ],
 "metadata": {
  "kernelspec": {
   "display_name": "venv",
   "language": "python",
   "name": "python3"
  },
  "language_info": {
   "codemirror_mode": {
    "name": "ipython",
    "version": 3
   },
   "file_extension": ".py",
   "mimetype": "text/x-python",
   "name": "python",
   "nbconvert_exporter": "python",
   "pygments_lexer": "ipython3",
   "version": "3.11.0"
  }
 },
 "nbformat": 4,
 "nbformat_minor": 5
}
